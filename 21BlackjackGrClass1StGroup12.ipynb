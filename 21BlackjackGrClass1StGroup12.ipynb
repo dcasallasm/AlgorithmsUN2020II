{
  "nbformat": 4,
  "nbformat_minor": 0,
  "metadata": {
    "colab": {
      "name": "21BlackjackGrClass1StGroup12.ipynb",
      "provenance": [],
      "collapsed_sections": []
    },
    "kernelspec": {
      "name": "python3",
      "display_name": "Python 3"
    }
  },
  "cells": [
    {
      "cell_type": "code",
      "metadata": {
        "id": "Gmgu2xGhfPr9",
        "colab_type": "code",
        "colab": {}
      },
      "source": [
        "import random as rng\n",
        "from matplotlib import pyplot as plt"
      ],
      "execution_count": null,
      "outputs": []
    },
    {
      "cell_type": "markdown",
      "metadata": {
        "id": "FDAYdcr6Ra7m",
        "colab_type": "text"
      },
      "source": [
        "#1"
      ]
    },
    {
      "cell_type": "markdown",
      "metadata": {
        "id": "qtTNJPLuTZ9C",
        "colab_type": "text"
      },
      "source": [
        "## 1.1 Spanish Deck"
      ]
    },
    {
      "cell_type": "code",
      "metadata": {
        "id": "lixA7tbCTAfJ",
        "colab_type": "code",
        "colab": {
          "base_uri": "https://localhost:8080/",
          "height": 363
        },
        "outputId": "6297c4c3-411d-45e0-d601-59778becf1f6"
      },
      "source": [
        "# Initialize Tables\n",
        "deck = [1,2,3,4,5,6,7,10,11,12,1,2,3,4,5,6,7,8,9,10,11,12,1,2,3,4,5,6,7,8,9,10,11,12,1,2,3,4,5,6,7,8,9,10,11,12]\n",
        "winamount = []\n",
        "\n",
        "# Initialize Variables \n",
        "n = 10000000\n",
        "win = 0\n",
        "loss = 0\n",
        "\n",
        "# Main Game Loop\n",
        "for i in range(n):\n",
        "\n",
        "  # Initialize sum and amount of cards.\n",
        "  s = 0\n",
        "  a = 0\n",
        "\n",
        "  # Copy original deck to a temporary one\n",
        "  deckt = list(deck)\n",
        "\n",
        "  # Card Drawing Loop\n",
        "  while s < 21:\n",
        "    \n",
        "    # Draw card from temporary deck at random, remove it from the deck, add its value to s, and increment amount of cards drawn.\n",
        "    x = rng.choice(deckt)\n",
        "    deckt.remove(x)\n",
        "    s += x\n",
        "    a += 1\n",
        "\n",
        "  # If a game is won, update the list of the amount of cards needed to win.\n",
        "  if(s == 21):\n",
        "    win += 1\n",
        "    winamount.append(a)\n",
        "  else:\n",
        "    loss += 1\n",
        "\n",
        "print(\"--------------\"+\"Spanish Deck\"+\"--------------\")\n",
        "print(\"Games won:\", win, \"Games lost:\", loss)\n",
        "print(\"Probability of Getting a 21:\", round(((win/n)*100), 2),\"%\")\n",
        "print(\"Average Number of Cards Required to Complete 21:\", round((sum(winamount) / len(winamount)), 2))\n",
        "\n",
        "bin = max(winamount)-min(winamount)+1\n",
        "plt.hist(winamount, bins=bin)\n",
        "plt.title('Experimental Distribution of Number of Cards Required to sum 21')\n",
        "plt.xlabel('Amount of Cards')\n",
        "plt.ylabel('Amount of Instances')\n",
        "plt.show()"
      ],
      "execution_count": null,
      "outputs": [
        {
          "output_type": "stream",
          "text": [
            "--------------Spanish Deck--------------\n",
            "Games won: 1586358 Games lost: 8413642\n",
            "Probability of Getting a 21: 15.86 %\n",
            "Average Number of Cards Required to Complete 21: 3.48\n"
          ],
          "name": "stdout"
        },
        {
          "output_type": "display_data",
          "data": {
            "image/png": "[encoded data removed]",
            "text/plain": [
              "<Figure size 432x288 with 1 Axes>"
            ]
          },
          "metadata": {
            "tags": [],
            "needs_background": "light"
          }
        }
      ]
    },
    {
      "cell_type": "markdown",
      "metadata": {
        "id": "biLQyRevTVKc",
        "colab_type": "text"
      },
      "source": [
        "## 1.2 Poker Deck\n"
      ]
    },
    {
      "cell_type": "code",
      "metadata": {
        "id": "VXtRNJNGl0b9",
        "colab_type": "code",
        "colab": {
          "base_uri": "https://localhost:8080/",
          "height": 363
        },
        "outputId": "af6810e7-cb8e-4757-97f9-b6d5b8550503"
      },
      "source": [
        "# Initialize Tables\n",
        "deck = [1,2,3,4,5,6,7,8,9,10,11,12,13,1,2,3,4,5,6,7,8,9,10,11,12,13,1,2,3,4,5,6,7,8,9,10,11,12,13,1,2,3,4,5,6,7,8,9,10,11,12,13]\n",
        "winamount = []\n",
        "\n",
        "# Initialize Variables \n",
        "n = 10000000\n",
        "win = 0\n",
        "loss = 0\n",
        "\n",
        "# Main Game Loop\n",
        "for i in range(n):\n",
        "\n",
        "  # Initialize sum and amount of cards.\n",
        "  s = 0\n",
        "  amount = 0\n",
        "\n",
        "  # Copy original deck to a temporary one\n",
        "  deckt = list(deck)\n",
        "\n",
        "  # Card Drawing Loop\n",
        "  while s < 21:\n",
        "    \n",
        "    # Draw card from temporary deck at random, remove it from the deck, add its value to s, and increment amount of cards drawn.\n",
        "    x = rng.choice(deckt)\n",
        "    deckt.remove(x)\n",
        "    s += x\n",
        "    amount += 1\n",
        "\n",
        "  # If a game is won, update the list of the amount of cards needed to win.\n",
        "  if(s == 21):\n",
        "    win += 1\n",
        "    winamount.append(amount)\n",
        "  else:\n",
        "    loss += 1\n",
        "\n",
        "print(\"--------------\"+\"Poker Deck\"+\"--------------\")\n",
        "print(\"Games won:\", win, \"Games lost:\", loss)\n",
        "print(\"Probability of Getting a 21:\", round(((win/n)*100), 2),\"%\")\n",
        "print(\"Average Number of Cards Required to Complete 21:\", round((sum(winamount) / len(winamount)), 2))\n",
        "\n",
        "bin = max(winamount)-min(winamount)+1\n",
        "plt.hist(winamount, bins=bin)\n",
        "plt.title('Experimental Distribution of Number of Cards Required to sum 21')\n",
        "plt.xlabel('Amount of Cards')\n",
        "plt.ylabel('Amount of Instances')\n",
        "plt.show()"
      ],
      "execution_count": null,
      "outputs": [
        {
          "output_type": "stream",
          "text": [
            "--------------Poker Deck--------------\n",
            "Games won: 1447273 Games lost: 8552727\n",
            "Probability of Getting a 21: 14.47 %\n",
            "Average Number of Cards Required to Complete 21: 3.22\n"
          ],
          "name": "stdout"
        },
        {
          "output_type": "display_data",
          "data": {
            "image/png": "[encoded data removed]",
            "text/plain": [
              "<Figure size 432x288 with 1 Axes>"
            ]
          },
          "metadata": {
            "tags": [],
            "needs_background": "light"
          }
        }
      ]
    },
    {
      "cell_type": "markdown",
      "metadata": {
        "id": "8zKOv2kgR7ob",
        "colab_type": "text"
      },
      "source": [
        "#2 (10s)"
      ]
    },
    {
      "cell_type": "markdown",
      "metadata": {
        "id": "u2EbtljiYjIx",
        "colab_type": "text"
      },
      "source": [
        "## 2.1 Spanish Deck"
      ]
    },
    {
      "cell_type": "code",
      "metadata": {
        "id": "vmyRJXQfXF0W",
        "colab_type": "code",
        "colab": {
          "base_uri": "https://localhost:8080/",
          "height": 363
        },
        "outputId": "32a7bfdb-d675-4538-d451-1e989fc4f951"
      },
      "source": [
        "# Initialize Tables\n",
        "deck = [1,2,3,4,5,6,7,10,10,10,1,2,3,4,5,6,7,8,9,10,10,10,1,2,3,4,5,6,7,8,9,10,10,10,1,2,3,4,5,6,7,8,9,10,10,10]\n",
        "winamount = []\n",
        "\n",
        "# Initialize Variables \n",
        "n = 10000000\n",
        "win = 0\n",
        "loss = 0\n",
        "\n",
        "# Main Game Loop\n",
        "for i in range(n):\n",
        "\n",
        "  # Initialize sum and amount of cards.\n",
        "  s = 0\n",
        "  a = 0\n",
        "\n",
        "  # Copy original deck to a temporary one\n",
        "  deckt = list(deck)\n",
        "\n",
        "  # Card Drawing Loop\n",
        "  while s < 21:\n",
        "    \n",
        "    # Draw card from temporary deck at random, remove it from the deck, add its value to s, and increment amount of cards drawn.\n",
        "    x = rng.choice(deckt)\n",
        "    deckt.remove(x)\n",
        "    s += x\n",
        "    a += 1\n",
        "\n",
        "  # If a game is won, update the list of the amount of cards needed to win.\n",
        "  if(s == 21):\n",
        "    win += 1\n",
        "    winamount.append(a)\n",
        "  else:\n",
        "    loss += 1\n",
        "\n",
        "print(\"--------------\"+\"Spanish Deck (10)\"+\"--------------\")\n",
        "print(\"Games won:\", win, \"Games lost:\", loss)\n",
        "print(\"Probability of Getting a 21:\", round(((win/n)*100), 2),\"%\")\n",
        "print(\"Average Number of Cards Required to Complete 21:\", round((sum(winamount) / len(winamount)), 2))\n",
        "\n",
        "bin = max(winamount)-min(winamount)+1\n",
        "plt.hist(winamount, bins=bin)\n",
        "plt.title('Experimental Distribution of Number of Cards Required to sum 21')\n",
        "plt.xlabel('Amount of Cards')\n",
        "plt.ylabel('Amount of Instances')\n",
        "plt.show()"
      ],
      "execution_count": null,
      "outputs": [
        {
          "output_type": "stream",
          "text": [
            "--------------Spanish Deck (10)--------------\n",
            "Games won: 1531957 Games lost: 8468043\n",
            "Probability of Getting a 21: 15.32 %\n",
            "Average Number of Cards Required to Complete 21: 3.75\n"
          ],
          "name": "stdout"
        },
        {
          "output_type": "display_data",
          "data": {
            "image/png": "[encoded data removed]",
            "text/plain": [
              "<Figure size 432x288 with 1 Axes>"
            ]
          },
          "metadata": {
            "tags": [],
            "needs_background": "light"
          }
        }
      ]
    },
    {
      "cell_type": "markdown",
      "metadata": {
        "id": "pa_S0Z_vYPTL",
        "colab_type": "text"
      },
      "source": [
        "## 2.2 Poker Deck"
      ]
    },
    {
      "cell_type": "code",
      "metadata": {
        "id": "2drFWBt3XGp-",
        "colab_type": "code",
        "colab": {
          "base_uri": "https://localhost:8080/",
          "height": 363
        },
        "outputId": "e8709e3f-fe49-4315-9e98-9516b68ad783"
      },
      "source": [
        "# Initialize Tables\n",
        "deck = [1,2,3,4,5,6,7,8,9,10,11,12,13,1,2,3,4,5,6,7,8,9,10,10,10,10,1,2,3,4,5,6,7,8,9,10,10,10,10,1,2,3,4,5,6,7,8,9,10,10,10,10]\n",
        "winamount = []\n",
        "\n",
        "# Initialize Variables \n",
        "n = 10000000\n",
        "win = 0\n",
        "loss = 0\n",
        "\n",
        "# Main Game Loop\n",
        "for i in range(n):\n",
        "\n",
        "  # Initialize sum and amount of cards.\n",
        "  s = 0\n",
        "  a = 0\n",
        "\n",
        "  # Copy original deck to a temporary one\n",
        "  deckt = list(deck)\n",
        "\n",
        "  # Card Drawing Loop\n",
        "  while s < 21:\n",
        "    \n",
        "    # Draw card from temporary deck at random, remove it from the deck, add its value to s, and increment amount of cards drawn.\n",
        "    x = rng.choice(deckt)\n",
        "    deckt.remove(x)\n",
        "    s += x\n",
        "    a += 1\n",
        "\n",
        "  # If a game is won, update the list of the amount of cards needed to win.\n",
        "  if(s == 21):\n",
        "    win += 1\n",
        "    winamount.append(a)\n",
        "  else:\n",
        "    loss += 1\n",
        "\n",
        "print(\"--------------\"+\"Poker Deck (10)\"+\"--------------\")\n",
        "print(\"Games won:\", win, \"Games lost:\", loss)\n",
        "print(\"Probability of Getting a 21:\", round(((win/n)*100), 2),\"%\")\n",
        "print(\"Average Number of Cards Required to Complete 21:\", round((sum(winamount) / len(winamount)), 2))\n",
        "\n",
        "bin = max(winamount)-min(winamount)+1\n",
        "plt.hist(winamount, bins=bin)\n",
        "plt.title('Experimental Distribution of Number of Cards Required to sum 21')\n",
        "plt.xlabel('Amount of Cards')\n",
        "plt.ylabel('Amount of Instances')\n",
        "plt.show()"
      ],
      "execution_count": null,
      "outputs": [
        {
          "output_type": "stream",
          "text": [
            "--------------Poker Deck (10)--------------\n",
            "Games won: 1455881 Games lost: 8544119\n",
            "Probability of Getting a 21: 14.56 %\n",
            "Average Number of Cards Required to Complete 21: 3.42\n"
          ],
          "name": "stdout"
        },
        {
          "output_type": "display_data",
          "data": {
            "image/png": "[encoded data removed]",
            "text/plain": [
              "<Figure size 432x288 with 1 Axes>"
            ]
          },
          "metadata": {
            "tags": [],
            "needs_background": "light"
          }
        }
      ]
    },
    {
      "cell_type": "markdown",
      "metadata": {
        "id": "7foqvZg3R_gA",
        "colab_type": "text"
      },
      "source": [
        "#3 (n/2)"
      ]
    },
    {
      "cell_type": "markdown",
      "metadata": {
        "id": "_K4Cc9kvaOXj",
        "colab_type": "text"
      },
      "source": [
        "## 3.1 Spanish Deck"
      ]
    },
    {
      "cell_type": "code",
      "metadata": {
        "id": "nXUEy7eoaS06",
        "colab_type": "code",
        "colab": {
          "base_uri": "https://localhost:8080/",
          "height": 363
        },
        "outputId": "2702e883-e422-4ef9-aff3-f8164102377b"
      },
      "source": [
        "# Initialize Tables\n",
        "deck = [1,2,3,4,5,6,7,8,9,10,10,10,1,2,3,4,5,6,7,8,9,10,10,10,1,2,3,4,5,6,7,8,9,10,10,10,1,2,3,4,5,6,7,8,9,10,10,10]\n",
        "\n",
        "# Remove half the cards from the deck\n",
        "while len(deck)>26:\n",
        "  deck.pop(rng.randint(0, len(deck)-1))\n",
        "\n",
        "winamount = []\n",
        "\n",
        "# Initialize Variables\n",
        "n = 10000000\n",
        "win = 0\n",
        "loss = 0\n",
        "\n",
        "# Begin game loop\n",
        "for i in range(n):\n",
        "\n",
        "  # Copy original deck to a temporary one\n",
        "  deck2=list(deck)\n",
        "\n",
        "  # Initialize sum and amount of cards.\n",
        "  s = 19\n",
        "  amount = 3\n",
        "\n",
        "  # Card Drawing Loop\n",
        "  while s < 21:\n",
        "    x = deck2.pop(rng.randint(0,len(deck2)-1))\n",
        "    s += x\n",
        "    amount += 1\n",
        "\n",
        "  # If a game is won, update the list of the amount of cards needed to win.\n",
        "  if(s == 21):\n",
        "    win += 1\n",
        "    winamount.append(amount)\n",
        "  else:\n",
        "    loss += 1\n",
        "\n",
        "print(\"--------------\"+\"Spanish Deck [7,7,5] and n/2 \"+\"--------------\")\n",
        "print(\"Games won:\", win, \"Games lost:\", loss)\n",
        "print(\"Probability of Getting a 21:\", round(((win/n)*100), 2),\"%\")\n",
        "print(\"Average Number of Cards Required to Complete 21:\", round((sum(winamount) / len(winamount)), 2))\n",
        "\n",
        "bin = max(winamount)-min(winamount)+1\n",
        "plt.hist(winamount, bins=bin)\n",
        "plt.title('Experimental Distribution of Number of Cards Required to sum 21')\n",
        "plt.xlabel('Amount of Cards')\n",
        "plt.ylabel('Amount of Instances')\n",
        "plt.show()"
      ],
      "execution_count": null,
      "outputs": [
        {
          "output_type": "stream",
          "text": [
            "--------------Spanish Deck [7,7,5] and n/2 --------------\n",
            "Games won: 1185482 Games lost: 8814518\n",
            "Probability of Getting a 21: 11.85 %\n",
            "Average Number of Cards Required to Complete 21: 4.03\n"
          ],
          "name": "stdout"
        },
        {
          "output_type": "display_data",
          "data": {
            "image/png": "[encoded data removed]",
            "text/plain": [
              "<Figure size 432x288 with 1 Axes>"
            ]
          },
          "metadata": {
            "tags": [],
            "needs_background": "light"
          }
        }
      ]
    },
    {
      "cell_type": "markdown",
      "metadata": {
        "id": "gWL1_Cirfl2U",
        "colab_type": "text"
      },
      "source": [
        "## 3.2 Poker Deck"
      ]
    },
    {
      "cell_type": "code",
      "metadata": {
        "id": "0O8MjSuBfmUQ",
        "colab_type": "code",
        "colab": {
          "base_uri": "https://localhost:8080/",
          "height": 363
        },
        "outputId": "d3b6acb7-d184-45f0-ae39-4622e858a960"
      },
      "source": [
        "# Initialize Tables\n",
        "deck = [1,2,3,4,5,6,7,8,9,10,10,10,10,1,2,3,4,5,6,7,8,9,10,10,10,10,1,2,3,4,5,6,7,8,9,10,10,10,10,1,2,3,4,5,6,7,8,9,10,10,10,10]\n",
        "\n",
        "# Remove half the cards from the deck\n",
        "while len(deck)>26:\n",
        "  deck.pop(rng.randint(0, len(deck)-1))\n",
        "\n",
        "winamount = []\n",
        "\n",
        "# Initialize Variables\n",
        "n = 10000000\n",
        "win = 0\n",
        "loss = 0\n",
        "\n",
        "# Begin game loop\n",
        "for i in range(n):\n",
        "\n",
        "  # Copy original deck to a temporary one\n",
        "  deck2=list(deck)\n",
        "\n",
        "  # Initialize sum and amount of cards.\n",
        "  s = 19\n",
        "  amount = 3\n",
        "\n",
        "  # Card Drawing Loop\n",
        "  while s < 21:\n",
        "    x = deck2.pop(rng.randint(0,len(deck2)-1))\n",
        "    s += x\n",
        "    amount += 1\n",
        "\n",
        "  # If a game is won, update the list of the amount of cards needed to win.\n",
        "  if(s == 21):\n",
        "    win += 1\n",
        "    winamount.append(amount)\n",
        "  else:\n",
        "    loss += 1\n",
        "\n",
        "print(\"--------------\"+\"Poker Deck [7,7,5] and n/2 \"+\"--------------\")\n",
        "print(\"Games won:\", win, \"Games lost:\", loss)\n",
        "print(\"Probability of Getting a 21:\", round(((win/n)*100), 2),\"%\")\n",
        "print(\"Average Number of Cards Required to Complete 21:\", round((sum(winamount) / len(winamount)), 2))\n",
        "\n",
        "bin = max(winamount)-min(winamount)+1\n",
        "plt.hist(winamount, bins=bin)\n",
        "plt.title('Experimental Distribution of Number of Cards Required to sum 21')\n",
        "plt.xlabel('Amount of Cards')\n",
        "plt.ylabel('Amount of Instances')\n",
        "plt.show()"
      ],
      "execution_count": null,
      "outputs": [
        {
          "output_type": "stream",
          "text": [
            "--------------Poker Deck [7,7,5] and n/2 --------------\n",
            "Games won: 568030 Games lost: 9431970\n",
            "Probability of Getting a 21: 5.68 %\n",
            "Average Number of Cards Required to Complete 21: 4.32\n"
          ],
          "name": "stdout"
        },
        {
          "output_type": "display_data",
          "data": {
            "image/png": "[encoded data removed]",
            "text/plain": [
              "<Figure size 432x288 with 1 Axes>"
            ]
          },
          "metadata": {
            "tags": [],
            "needs_background": "light"
          }
        }
      ]
    },
    {
      "cell_type": "markdown",
      "metadata": {
        "id": "1pD1lLd5SEsv",
        "colab_type": "text"
      },
      "source": [
        "#4 Hot 'n Cold Decks"
      ]
    },
    {
      "cell_type": "markdown",
      "metadata": {
        "id": "K9NCbtxVbeZg",
        "colab_type": "text"
      },
      "source": [
        "##4.1 (Spanish Decks)"
      ]
    },
    {
      "cell_type": "markdown",
      "metadata": {
        "id": "BmsMMOa0atVw",
        "colab_type": "text"
      },
      "source": [
        "### 4.1.1 Hot Deck (12)\n",
        "The winning probabilty for the hot deck is $0.\\overline{42}$:\n",
        "$$\\frac{4}{12}+\\frac{4}{12}\\cdot\\frac{3}{11}=\\frac{4}{12}+\\frac{1}{11}=\\frac{14}{33}=0.\\overline{42}$$\n",
        "In this deck there are four cards with a value of $2$ and four cards with a value of $1$. So, the winning probability is $\\frac{4}{12}$ if we obtain a $2$, on the other hand, we should obtain two consecutive times a $1$, this probability is $\\frac{4}{12}\\cdot\\frac{3}{11}$."
      ]
    },
    {
      "cell_type": "code",
      "metadata": {
        "id": "V6Yh5Dzaax1T",
        "colab_type": "code",
        "colab": {
          "base_uri": "https://localhost:8080/",
          "height": 363
        },
        "outputId": "364311fa-db18-462e-e8fb-557a8e030843"
      },
      "source": [
        "# Initialize Tables\n",
        "hotdeck = [1,1,1,1,2,2,2,2,10,10,10,10]\n",
        "winamount = []\n",
        "\n",
        "# Initialize Variables \n",
        "n = 10000000\n",
        "win = 0\n",
        "loss = 0\n",
        "\n",
        "# Main Game Loop\n",
        "for i in range(n):\n",
        "\n",
        "  # Reinitialize sum and amount of cards.\n",
        "  s = 19\n",
        "  amount = 3\n",
        "\n",
        "  # Copy original deck to a temporary one\n",
        "  deckt = list(hotdeck)\n",
        "\n",
        "  # Card Drawing Loop\n",
        "  while s < 21:\n",
        "    \n",
        "    # Draw card at random from temporary deck, remove it from the deck, add its value to s, and increment the amount of cards drawn.\n",
        "    x = rng.choice(deckt)\n",
        "    deckt.remove(x)\n",
        "    s += x\n",
        "    amount += 1\n",
        "\n",
        "  # If a game is won, update the list of the amount of cards needed to win.\n",
        "  if(s == 21):\n",
        "    win += 1\n",
        "    winamount.append(amount)\n",
        "  else:\n",
        "    loss += 1\n",
        "\n",
        "print(\"--------------\"+\"Spanish Deck\"+\"--------------\")\n",
        "print(\"Games won:\", win, \"Games lost:\", loss)\n",
        "print(\"Probability of Getting a 21:\", round(((win/n)*100), 2),\"%\")\n",
        "print(\"Average Number of Cards Required to Complete 21:\", round((sum(winamount) / len(winamount)), 2))\n",
        "\n",
        "bin = max(winamount)-min(winamount)+1\n",
        "plt.hist(winamount, bins=bin)\n",
        "plt.title('Experimental Distribution of Number of Cards Required to sum 21')\n",
        "plt.xlabel('Amount of Cards')\n",
        "plt.ylabel('Amount of Instances')\n",
        "plt.show()"
      ],
      "execution_count": null,
      "outputs": [
        {
          "output_type": "stream",
          "text": [
            "--------------Spanish Deck--------------\n",
            "Games won: 4243831 Games lost: 5756169\n",
            "Probability of Getting a 21: 42.44 %\n",
            "Average Number of Cards Required to Complete 21: 4.21\n"
          ],
          "name": "stdout"
        },
        {
          "output_type": "display_data",
          "data": {
            "image/png": "[encoded data removed]",
            "text/plain": [
              "<Figure size 432x288 with 1 Axes>"
            ]
          },
          "metadata": {
            "tags": [],
            "needs_background": "light"
          }
        }
      ]
    },
    {
      "cell_type": "markdown",
      "metadata": {
        "id": "ZeFBhZBbbQ4W",
        "colab_type": "text"
      },
      "source": [
        "### 4.1.2 Cold Deck (12)\n",
        "The winning probabilty for the cold deck is $0$. As no cards will allow a win."
      ]
    },
    {
      "cell_type": "code",
      "metadata": {
        "id": "O0OYwxbmbNTc",
        "colab_type": "code",
        "colab": {
          "base_uri": "https://localhost:8080/",
          "height": 85
        },
        "outputId": "cecc097b-a0c4-494a-fc2a-2fe3317de164"
      },
      "source": [
        "# Initialize Tables\n",
        "colddeck = [10,10,10,10,10,10,10,10,10,10,10,10]\n",
        "winamount = []\n",
        "\n",
        "# Initialize Variables \n",
        "n = 10000000\n",
        "win = 0\n",
        "loss = 0\n",
        "\n",
        "# Main Game Loop\n",
        "for i in range(n):\n",
        "\n",
        "  # Reinitialize sum and amount of cards.\n",
        "  s = 19\n",
        "  amount = 3\n",
        "\n",
        "  # Copy original deck to a temporary one\n",
        "  deckt = list(colddeck)\n",
        "\n",
        "  # Card Drawing Loop\n",
        "  while s < 21:\n",
        "    \n",
        "    # Draw card at random from temporary deck, remove it from the deck, add its value to s, and increment the amount of cards drawn.\n",
        "    x = rng.choice(deckt)\n",
        "    deckt.remove(x)\n",
        "    s += x\n",
        "    amount += 1\n",
        "\n",
        "  # If a game is won, update the list of the amount of cards needed to win.\n",
        "  if(s == 21):\n",
        "    win += 1\n",
        "    winamount.append(amount)\n",
        "  else:\n",
        "    loss += 1\n",
        "\n",
        "print(\"--------------\"+\"Spanish Deck\"+\"--------------\")\n",
        "print(\"Games won:\", win, \"Games lost:\", loss)\n",
        "print(\"Probability of Getting a 21:\", round(((win/n)*100), 2),\"%\")\n",
        "print(\"Average Number of Cards Required to Complete 21:\", 0)"
      ],
      "execution_count": null,
      "outputs": [
        {
          "output_type": "stream",
          "text": [
            "--------------Spanish Deck--------------\n",
            "Games won: 0 Games lost: 10000000\n",
            "Probability of Getting a 21: 0.0 %\n",
            "Average Number of Cards Required to Complete 21: 0\n"
          ],
          "name": "stdout"
        }
      ]
    },
    {
      "cell_type": "markdown",
      "metadata": {
        "colab_type": "text",
        "id": "fi6RsjhidC4h"
      },
      "source": [
        "### 4.1.3 Hot Deck (8)\n",
        "The winning probabilty for the hot deck is $0.\\overline{714285}$:\n",
        "$$\\frac{4}{8}+\\frac{4}{8}\\cdot\\frac{3}{7}=\\frac{4}{8}+\\frac{3}{14}=\\frac{5}{7}=0.\\overline{714285}$$\n",
        "In this deck there are four cards with a value of $2$ and four cards with a value of $1$. So, the winning probability is $\\frac{4}{8}$ if we obtain a $2$, on the other hand, we should obtain two consecutive times a $1$, this probability is $\\frac{4}{8}\\cdot\\frac{3}{7}$."
      ]
    },
    {
      "cell_type": "code",
      "metadata": {
        "colab_type": "code",
        "id": "GQIEDIgydC4i",
        "colab": {
          "base_uri": "https://localhost:8080/",
          "height": 363
        },
        "outputId": "6ebd0281-0ba9-4ff1-a967-0a292f438e16"
      },
      "source": [
        "# Initialize Tables\n",
        "hotdeck = [1,1,1,1,2,2,2,2]\n",
        "winamount = []\n",
        "\n",
        "# Initialize Variables \n",
        "n = 10000000\n",
        "win = 0\n",
        "loss = 0\n",
        "\n",
        "# Main Game Loop\n",
        "for i in range(n):\n",
        "\n",
        "  # Reinitialize sum and amount of cards.\n",
        "  s = 19\n",
        "  amount = 3\n",
        "\n",
        "  # Copy original deck to a temporary one\n",
        "  deckt = list(hotdeck)\n",
        "\n",
        "  # Card Drawing Loop\n",
        "  while s < 21:\n",
        "    \n",
        "    # Draw card at random from temporary deck, remove it from the deck, add its value to s, and increment the amount of cards drawn.\n",
        "    x = rng.choice(deckt)\n",
        "    deckt.remove(x)\n",
        "    s += x\n",
        "    amount += 1\n",
        "\n",
        "  # If a game is won, update the list of the amount of cards needed to win.\n",
        "  if(s == 21):\n",
        "    win += 1\n",
        "    winamount.append(amount)\n",
        "  else:\n",
        "    loss += 1\n",
        "\n",
        "print(\"--------------\"+\"Spanish Deck\"+\"--------------\")\n",
        "print(\"Games won:\", win, \"Games lost:\", loss)\n",
        "print(\"Probability of Getting a 21:\", round(((win/n)*100), 2),\"%\")\n",
        "print(\"Average Number of Cards Required to Complete 21:\", round((sum(winamount) / len(winamount)), 2))\n",
        "\n",
        "bin = max(winamount)-min(winamount)+1\n",
        "plt.hist(winamount, bins=bin)\n",
        "plt.title('Experimental Distribution of Number of Cards Required to sum 21')\n",
        "plt.xlabel('Amount of Cards')\n",
        "plt.ylabel('Amount of Instances')\n",
        "plt.show()"
      ],
      "execution_count": null,
      "outputs": [
        {
          "output_type": "stream",
          "text": [
            "--------------Spanish Deck--------------\n",
            "Games won: 7142737 Games lost: 2857263\n",
            "Probability of Getting a 21: 71.43 %\n",
            "Average Number of Cards Required to Complete 21: 4.3\n"
          ],
          "name": "stdout"
        },
        {
          "output_type": "display_data",
          "data": {
            "image/png": "[encoded data removed]",
            "text/plain": [
              "<Figure size 432x288 with 1 Axes>"
            ]
          },
          "metadata": {
            "tags": [],
            "needs_background": "light"
          }
        }
      ]
    },
    {
      "cell_type": "markdown",
      "metadata": {
        "colab_type": "text",
        "id": "4m0Aai9Nd3Y-"
      },
      "source": [
        "### 4.1.4 Cold Deck (8)\n",
        "The winning probabilty for the cold deck is $0$. As no cards will allow a win."
      ]
    },
    {
      "cell_type": "code",
      "metadata": {
        "colab_type": "code",
        "id": "2M_K_tled3Y_",
        "colab": {
          "base_uri": "https://localhost:8080/",
          "height": 85
        },
        "outputId": "f209652f-14c7-4c45-a565-a21771bfab63"
      },
      "source": [
        "# Initialize Tables\n",
        "colddeck = [10,10,10,10,10,10,10,10]\n",
        "winamount = []\n",
        "\n",
        "# Initialize Variables \n",
        "n = 10000000\n",
        "win = 0\n",
        "loss = 0\n",
        "\n",
        "# Main Game Loop\n",
        "for i in range(n):\n",
        "\n",
        "  # Reinitialize sum and amount of cards.\n",
        "  s = 19\n",
        "  amount = 3\n",
        "\n",
        "  # Copy original deck to a temporary one\n",
        "  deckt = list(colddeck)\n",
        "\n",
        "  # Card Drawing Loop\n",
        "  while s < 21:\n",
        "    \n",
        "    # Draw card at random from temporary deck, remove it from the deck, add its value to s, and increment the amount of cards drawn.\n",
        "    x = rng.choice(deckt)\n",
        "    deckt.remove(x)\n",
        "    s += x\n",
        "    amount += 1\n",
        "\n",
        "  # If a game is won, update the list of the amount of cards needed to win.\n",
        "  if(s == 21):\n",
        "    win += 1\n",
        "    winamount.append(amount)\n",
        "  else:\n",
        "    loss += 1\n",
        "\n",
        "print(\"--------------\"+\"Spanish Deck\"+\"--------------\")\n",
        "print(\"Games won:\", win, \"Games lost:\", loss)\n",
        "print(\"Probability of Getting a 21:\", round(((win/n)*100), 2),\"%\")\n",
        "print(\"Average Number of Cards Required to Complete 21:\", 0)"
      ],
      "execution_count": null,
      "outputs": [
        {
          "output_type": "stream",
          "text": [
            "--------------Spanish Deck--------------\n",
            "Games won: 0 Games lost: 10000000\n",
            "Probability of Getting a 21: 0.0 %\n",
            "Average Number of Cards Required to Complete 21: 0\n"
          ],
          "name": "stdout"
        }
      ]
    },
    {
      "cell_type": "markdown",
      "metadata": {
        "id": "htpoPOQ_bxKT",
        "colab_type": "text"
      },
      "source": [
        "##4.2 (Poker Decks)"
      ]
    },
    {
      "cell_type": "markdown",
      "metadata": {
        "id": "4L-RhXlW8dhH",
        "colab_type": "text"
      },
      "source": [
        "### 4.2.1 Hot Deck (12)\n",
        "The winning probabilty for the hot deck is $0.\\overline{42}$:\n",
        "$$\\frac{4}{12}+\\frac{4}{12}\\cdot\\frac{3}{11}=\\frac{4}{12}+\\frac{1}{11}=\\frac{14}{33}=0.\\overline{42}$$\n",
        "In this deck there are four cards with a value of $2$ and four cards with a value of $1$. So, the winning probability is $\\frac{4}{12}$ if we obtain a $2$, on the other hand, we should obtain two consecutive times a $1$, this probability is $\\frac{4}{12}\\cdot\\frac{3}{11}$."
      ]
    },
    {
      "cell_type": "code",
      "metadata": {
        "id": "G9KD00lJ8h5s",
        "colab_type": "code",
        "colab": {
          "base_uri": "https://localhost:8080/",
          "height": 363
        },
        "outputId": "2985deb2-6d27-4c23-d21b-406ac2fbf8fa"
      },
      "source": [
        "# Initialize Tables\n",
        "hotdeck = [1,1,1,1,2,2,2,2,10,10,10,10]\n",
        "winamount = []\n",
        "\n",
        "# Initialize Variables \n",
        "n = 10000000\n",
        "win = 0\n",
        "loss = 0\n",
        "\n",
        "# Main Game Loop\n",
        "for i in range(n):\n",
        "\n",
        "  # Reinitialize sum and amount of cards.\n",
        "  s = 19\n",
        "  amount = 3\n",
        "\n",
        "  # Copy original deck to a temporary one\n",
        "  deckt = list(hotdeck)\n",
        "\n",
        "  # Card Drawing Loop\n",
        "  while s < 21:\n",
        "    \n",
        "    # Draw card at random from temporary deck, remove it from the deck, add its value to s, and increment the amount of cards drawn.\n",
        "    x = rng.choice(deckt)\n",
        "    deckt.remove(x)\n",
        "    s += x\n",
        "    amount += 1\n",
        "\n",
        "  # If a game is won, update the list of the amount of cards needed to win.\n",
        "  if(s == 21):\n",
        "    win += 1\n",
        "    winamount.append(amount)\n",
        "  else:\n",
        "    loss += 1\n",
        "\n",
        "print(\"--------------\"+\"Poker Deck\"+\"--------------\")\n",
        "print(\"Games won:\", win, \"Games lost:\", loss)\n",
        "print(\"Probability of Getting a 21:\", round(((win/n)*100), 2),\"%\")\n",
        "print(\"Average Number of Cards Required to Complete 21:\", round((sum(winamount) / len(winamount)), 2))\n",
        "\n",
        "bin = max(winamount)-min(winamount)+1\n",
        "plt.hist(winamount, bins=bin)\n",
        "plt.title('Experimental Distribution of Number of Cards Required to sum 21')\n",
        "plt.xlabel('Amount of Cards')\n",
        "plt.ylabel('Amount of Instances')\n",
        "plt.show()"
      ],
      "execution_count": null,
      "outputs": [
        {
          "output_type": "stream",
          "text": [
            "--------------Poker Deck--------------\n",
            "Games won: 4242634 Games lost: 5757366\n",
            "Probability of Getting a 21: 42.43 %\n",
            "Average Number of Cards Required to Complete 21: 4.21\n"
          ],
          "name": "stdout"
        },
        {
          "output_type": "display_data",
          "data": {
            "image/png": "[encoded data removed]",
            "text/plain": [
              "<Figure size 432x288 with 1 Axes>"
            ]
          },
          "metadata": {
            "tags": [],
            "needs_background": "light"
          }
        }
      ]
    },
    {
      "cell_type": "markdown",
      "metadata": {
        "id": "6DJp4Oxnb3sN",
        "colab_type": "text"
      },
      "source": [
        "### 4.2.2 Cold Deck (12)\n",
        "The winning probabilty for the cold deck is $0$. As no cards will allow a win."
      ]
    },
    {
      "cell_type": "code",
      "metadata": {
        "id": "D98_hsbzb248",
        "colab_type": "code",
        "colab": {
          "base_uri": "https://localhost:8080/",
          "height": 85
        },
        "outputId": "0695f25f-11b1-4d7b-d4ba-81ee99fca9b6"
      },
      "source": [
        "# Initialize Tables\n",
        "colddeck = [10,10,10,10,10,10,10,10,10,10,10,10]\n",
        "winamount = []\n",
        "\n",
        "# Initialize Variables \n",
        "n = 10000000\n",
        "win = 0\n",
        "loss = 0\n",
        "\n",
        "# Main Game Loop\n",
        "for i in range(n):\n",
        "\n",
        "  # Reinitialize sum and amount of cards.\n",
        "  s = 19\n",
        "  amount = 3\n",
        "\n",
        "  # Copy original deck to a temporary one\n",
        "  deckt = list(colddeck)\n",
        "\n",
        "  # Card Drawing Loop\n",
        "  while s < 21:\n",
        "    \n",
        "    # Draw card at random from temporary deck, remove it from the deck, add its value to s, and increment the amount of cards drawn.\n",
        "    x = rng.choice(deckt)\n",
        "    deckt.remove(x)\n",
        "    s += x\n",
        "    amount += 1\n",
        "\n",
        "  # If a game is won, update the list of the amount of cards needed to win.\n",
        "  if(s == 21):\n",
        "    win += 1\n",
        "    winamount.append(amount)\n",
        "  else:\n",
        "    loss += 1\n",
        "\n",
        "print(\"--------------\"+\"Poker Deck\"+\"--------------\")\n",
        "print(\"Games won:\", win, \"Games lost:\", loss)\n",
        "print(\"Probability of Getting a 21:\", round(((win/n)*100), 2),\"%\")\n",
        "print(\"Average Number of Cards Required to Complete 21:\", 0)"
      ],
      "execution_count": null,
      "outputs": [
        {
          "output_type": "stream",
          "text": [
            "--------------Poker Deck--------------\n",
            "Games won: 0 Games lost: 10000000\n",
            "Probability of Getting a 21: 0.0 %\n",
            "Average Number of Cards Required to Complete 21: 0\n"
          ],
          "name": "stdout"
        }
      ]
    },
    {
      "cell_type": "markdown",
      "metadata": {
        "colab_type": "text",
        "id": "K4t-RmH1eDfY"
      },
      "source": [
        "### 4.2.3 Hot Deck (8)\n",
        "The winning probabilty for the hot deck is $0.\\overline{714285}$:\n",
        "$$\\frac{4}{8}+\\frac{4}{8}\\cdot\\frac{3}{7}=\\frac{4}{8}+\\frac{3}{14}=\\frac{5}{7}=0.\\overline{714285}$$\n",
        "In this deck there are four cards with a value of $2$ and four cards with a value of $1$. So, the winning probability is $\\frac{4}{8}$ if we obtain a $2$, on the other hand, we should obtain two consecutive times a $1$, this probability is $\\frac{4}{8}\\cdot\\frac{3}{7}$."
      ]
    },
    {
      "cell_type": "code",
      "metadata": {
        "colab_type": "code",
        "id": "hC5Uo7wMeDfZ",
        "colab": {
          "base_uri": "https://localhost:8080/",
          "height": 363
        },
        "outputId": "4075297b-6727-4d5c-c480-86c7a910d8fd"
      },
      "source": [
        "# Initialize Tables\n",
        "hotdeck = [1,1,1,1,2,2,2,2]\n",
        "winamount = []\n",
        "\n",
        "# Initialize Variables \n",
        "n = 10000000\n",
        "win = 0\n",
        "loss = 0\n",
        "\n",
        "# Main Game Loop\n",
        "for i in range(n):\n",
        "\n",
        "  # Reinitialize sum and amount of cards.\n",
        "  s = 19\n",
        "  amount = 3\n",
        "\n",
        "  # Copy original deck to a temporary one\n",
        "  deckt = list(hotdeck)\n",
        "\n",
        "  # Card Drawing Loop\n",
        "  while s < 21:\n",
        "    \n",
        "    # Draw card at random from temporary deck, remove it from the deck, add its value to s, and increment the amount of cards drawn.\n",
        "    x = rng.choice(deckt)\n",
        "    deckt.remove(x)\n",
        "    s += x\n",
        "    amount += 1\n",
        "\n",
        "  # If a game is won, update the list of the amount of cards needed to win.\n",
        "  if(s == 21):\n",
        "    win += 1\n",
        "    winamount.append(amount)\n",
        "  else:\n",
        "    loss += 1\n",
        "\n",
        "print(\"--------------\"+\"Spanish Deck\"+\"--------------\")\n",
        "print(\"Games won:\", win, \"Games lost:\", loss)\n",
        "print(\"Probability of Getting a 21:\", round(((win/n)*100), 2),\"%\")\n",
        "print(\"Average Number of Cards Required to Complete 21:\", round((sum(winamount) / len(winamount)), 2))\n",
        "\n",
        "bin = max(winamount)-min(winamount)+1\n",
        "plt.hist(winamount, bins=bin)\n",
        "plt.title('Experimental Distribution of Number of Cards Required to sum 21')\n",
        "plt.xlabel('Amount of Cards')\n",
        "plt.ylabel('Amount of Instances')\n",
        "plt.show()"
      ],
      "execution_count": null,
      "outputs": [
        {
          "output_type": "stream",
          "text": [
            "--------------Spanish Deck--------------\n",
            "Games won: 7143642 Games lost: 2856358\n",
            "Probability of Getting a 21: 71.44 %\n",
            "Average Number of Cards Required to Complete 21: 4.3\n"
          ],
          "name": "stdout"
        },
        {
          "output_type": "display_data",
          "data": {
            "image/png": "[encoded data removed]",
            "text/plain": [
              "<Figure size 432x288 with 1 Axes>"
            ]
          },
          "metadata": {
            "tags": [],
            "needs_background": "light"
          }
        }
      ]
    },
    {
      "cell_type": "markdown",
      "metadata": {
        "colab_type": "text",
        "id": "lY7Ipii2eHdj"
      },
      "source": [
        "### 4.2.4 Cold Deck (8)\n",
        "The winning probabilty for the cold deck is $0$. As no cards will allow a win."
      ]
    },
    {
      "cell_type": "code",
      "metadata": {
        "colab_type": "code",
        "id": "BHIhK5lneHdk",
        "colab": {
          "base_uri": "https://localhost:8080/",
          "height": 85
        },
        "outputId": "90566696-70be-4742-fe10-2e56f3adb9a2"
      },
      "source": [
        "# Initialize Tables\n",
        "colddeck = [10,10,10,10,10,10,10,10]\n",
        "winamount = []\n",
        "\n",
        "# Initialize Variables \n",
        "n = 10000000\n",
        "win = 0\n",
        "loss = 0\n",
        "\n",
        "# Main Game Loop\n",
        "for i in range(n):\n",
        "\n",
        "  # Reinitialize sum and amount of cards.\n",
        "  s = 19\n",
        "  amount = 3\n",
        "\n",
        "  # Copy original deck to a temporary one\n",
        "  deckt = list(colddeck)\n",
        "\n",
        "  # Card Drawing Loop\n",
        "  while s < 21:\n",
        "    \n",
        "    # Draw card at random from temporary deck, remove it from the deck, add its value to s, and increment the amount of cards drawn.\n",
        "    x = rng.choice(deckt)\n",
        "    deckt.remove(x)\n",
        "    s += x\n",
        "    amount += 1\n",
        "\n",
        "  # If a game is won, update the list of the amount of cards needed to win.\n",
        "  if(s == 21):\n",
        "    win += 1\n",
        "    winamount.append(amount)\n",
        "  else:\n",
        "    loss += 1\n",
        "\n",
        "print(\"--------------\"+\"Spanish Deck\"+\"--------------\")\n",
        "print(\"Games won:\", win, \"Games lost:\", loss)\n",
        "print(\"Probability of Getting a 21:\", round(((win/n)*100), 2),\"%\")\n",
        "print(\"Average Number of Cards Required to Complete 21:\", 0)"
      ],
      "execution_count": null,
      "outputs": [
        {
          "output_type": "stream",
          "text": [
            "--------------Spanish Deck--------------\n",
            "Games won: 0 Games lost: 10000000\n",
            "Probability of Getting a 21: 0.0 %\n",
            "Average Number of Cards Required to Complete 21: 0\n"
          ],
          "name": "stdout"
        }
      ]
    },
    {
      "cell_type": "markdown",
      "metadata": {
        "id": "QQ9hjCV7SJ_0",
        "colab_type": "text"
      },
      "source": [
        "#5 Ben's Weekly Plays "
      ]
    },
    {
      "cell_type": "markdown",
      "metadata": {
        "id": "NSB9BVbC1XN5",
        "colab_type": "text"
      },
      "source": [
        "## 5.1 Spanish Deck"
      ]
    },
    {
      "cell_type": "code",
      "metadata": {
        "id": "TUlU7jdTHEux",
        "colab_type": "code",
        "colab": {}
      },
      "source": [
        "def hotDeck2():\n",
        "  global winamount\n",
        "\n",
        "  # Initialize Tables\n",
        "  hotDeck = [1,1,1,1,2,2,2,2]\n",
        "\n",
        "  # Reinitialize sum and amount of cards.\n",
        "  s = 19\n",
        "  amount = 3\n",
        "\n",
        "  # Card Drawing Loop\n",
        "  while s < 21:\n",
        "\n",
        "    # Draw card from temporary deck at random, remove it from the deck, add its value to s, and increment amount of cards drawn.\n",
        "    x = hotDeck.pop(rng.randint(0,len(hotDeck)-1))\n",
        "    s += x\n",
        "    amount += 1\n",
        "\n",
        "  # If a game is won, update the list of the amount of cards needed to win.\n",
        "  if(s == 21):\n",
        "    winamount.append(amount)\n",
        "    return True\n",
        "  else:\n",
        "    return False\n",
        "\n",
        "def coldDeck2():\n",
        "  global winamount\n",
        "  coldDeck = [1,2,3,4,5,6,7,8,9,10,10,10,1,2,3,4,5,6,7,8,9,10,10,10,1,2,3,4,5,6,7,8,9,10,10,10,1,2,3,4,5,6,7,8,9,10,10,10]\n",
        "\n",
        "  # Reinitialize sum and amount of cards.\n",
        "  s = 0\n",
        "  amount = 0\n",
        "\n",
        "  # Card Drawing Loop\n",
        "  while s < 21:\n",
        "\n",
        "    # Draw card from temporary deck at random, remove it from the deck, add its value to s, and increment amount of cards drawn.\n",
        "    x = coldDeck.pop(rng.randint(0,len(coldDeck)-1))\n",
        "    s += x\n",
        "    amount += 1\n",
        "\n",
        "  # If a game is won, update the list of the amount of cards needed to win.\n",
        "  if(s == 21):\n",
        "    winamount.append(amount)\n",
        "    return True\n",
        "  else:\n",
        "    return False"
      ],
      "execution_count": null,
      "outputs": []
    },
    {
      "cell_type": "code",
      "metadata": {
        "id": "nZ48K3upHFDd",
        "colab_type": "code",
        "colab": {
          "base_uri": "https://localhost:8080/",
          "height": 346
        },
        "outputId": "90b3decb-c645-4ba0-e9cc-0a99bbdedd22"
      },
      "source": [
        "# Initialize Table\n",
        "winamount = []\n",
        "\n",
        "# Initialize Values\n",
        "balanceTotal = 0\n",
        "n = 10000\n",
        "\n",
        "# Experimental Loop\n",
        "for j in range(n):\n",
        "\n",
        "  # Initialize Individual Balance\n",
        "  balance = 0\n",
        "\n",
        "  # Game Loop\n",
        "  for i in range(600):\n",
        "\n",
        "    # Check for given probability\n",
        "    if rng.randint(0,9) < 1:\n",
        "\n",
        "      # Change balance according to the game's result\n",
        "      if hotDeck2():\n",
        "        balance += 1000\n",
        "      else:\n",
        "        balance -= 1000\n",
        "    else:\n",
        "\n",
        "      # Change balance according to the game's result\n",
        "      if coldDeck2():\n",
        "        balance += 10\n",
        "      else:\n",
        "        balance -= 10\n",
        "        \n",
        "  # Update the total balance\n",
        "  balanceTotal += balance\n",
        "\n",
        "print(\"--------------\"+\"Spanish Deck\"+\"--------------\")\n",
        "print(\"Ben's estimated balance after playing for a weekend:\", str(balanceTotal/n) +\"$\")\n",
        "print(\"Average Number of Cards Required to Complete 21:\", round((sum(winamount) / len(winamount)), 2))\n",
        "\n",
        "bin = max(winamount)-min(winamount)+1\n",
        "plt.hist(winamount, bins=bin)\n",
        "plt.title('Experimental Distribution of Amount of Cards Required to sum 21')\n",
        "plt.xlabel('Amount of Cards')\n",
        "plt.ylabel('Amount of Instances')\n",
        "plt.show()"
      ],
      "execution_count": null,
      "outputs": [
        {
          "output_type": "stream",
          "text": [
            "--------------Spanish Deck--------------\n",
            "Ben's estimated balance after playing for a weekend: 21946.456$\n",
            "Average Number of Cards Required to Complete 21: 3.91\n"
          ],
          "name": "stdout"
        },
        {
          "output_type": "display_data",
          "data": {
            "image/png": "[encoded data removed]",
            "text/plain": [
              "<Figure size 432x288 with 1 Axes>"
            ]
          },
          "metadata": {
            "tags": [],
            "needs_background": "light"
          }
        }
      ]
    },
    {
      "cell_type": "markdown",
      "metadata": {
        "id": "JBSu8G4pAJtN",
        "colab_type": "text"
      },
      "source": [
        "## 5.2 Poker Deck"
      ]
    },
    {
      "cell_type": "code",
      "metadata": {
        "id": "ZbBdtzJVAL4H",
        "colab_type": "code",
        "colab": {}
      },
      "source": [
        "def hotDeck():\n",
        "  global winamount\n",
        "  # Initialize Tables\n",
        "  hotDeck = [1,1,1,1,2,2,2,2]\n",
        "  # Reinitialize sum and amount of cards.\n",
        "  s = 19\n",
        "  amount = 3\n",
        "\n",
        "  # Card Drawing Loop\n",
        "  while s < 21:\n",
        "\n",
        "    # Draw card from temporary deck at random, remove it from the deck, add its value to s, and increment amount of cards drawn.\n",
        "    x = hotDeck.pop(rng.randint(0,len(hotDeck)-1))\n",
        "    s += x\n",
        "    amount += 1\n",
        "    \n",
        "  # If a game is won, update the list of the amount of cards needed to win.\n",
        "  if(s == 21):\n",
        "    winamount.append(amount)\n",
        "    return True\n",
        "  else:\n",
        "    return False\n",
        "\n",
        "def coldDeck():\n",
        "  global winamount\n",
        "  coldDeck = [1,2,3,4,5,6,7,8,9,10,10,10,10,1,2,3,4,5,6,7,8,9,10,10,10,10,1,2,3,4,5,6,7,8,9,10,10,10,10,1,2,3,4,5,6,7,8,9,10,10,10,10]\n",
        "\n",
        "  # Reinitialize sum and amount of cards.\n",
        "  s = 0\n",
        "  amount = 0\n",
        "\n",
        "  # Card Drawing Loop\n",
        "  while s < 21:\n",
        "\n",
        "    # Draw card from temporary deck at random, remove it from the deck, add its value to s, and increment amount of cards drawn.\n",
        "    x = coldDeck.pop(rng.randint(0,len(coldDeck)-1))\n",
        "    s += x\n",
        "    amount += 1\n",
        "    \n",
        "  # If a game is won, update the list of the amount of cards needed to win.\n",
        "  if(s == 21):\n",
        "    winamount.append(amount)\n",
        "    return True\n",
        "  else:\n",
        "    return False"
      ],
      "execution_count": null,
      "outputs": []
    },
    {
      "cell_type": "code",
      "metadata": {
        "id": "WysDIFwOAdxa",
        "colab_type": "code",
        "colab": {
          "base_uri": "https://localhost:8080/",
          "height": 346
        },
        "outputId": "c83af8ea-eb82-41e8-db66-2eb2d01aad15"
      },
      "source": [
        "# Initialize Table\n",
        "winamount = []\n",
        "\n",
        "# Initialize Values\n",
        "balanceTotal = 0\n",
        "n = 10000\n",
        "\n",
        "# Experimental Loop\n",
        "for j in range(n):\n",
        "\n",
        "  # Initialize Individual Balance\n",
        "  balance = 0\n",
        "\n",
        "  # Game Loop\n",
        "  for i in range(600):\n",
        "\n",
        "    # Check for given probability\n",
        "    if rng.randint(0,9) < 1:\n",
        "\n",
        "      # Change balance according to the game's result\n",
        "      if hotDeck():\n",
        "        balance += 1000\n",
        "      else:\n",
        "        balance -= 1000\n",
        "    else:\n",
        "\n",
        "      # Change balance according to the game's result\n",
        "      if coldDeck():\n",
        "        balance += 10\n",
        "      else:\n",
        "        balance -= 10\n",
        "        \n",
        "  # Update the total balance\n",
        "  balanceTotal += balance\n",
        "\n",
        "print(\"--------------\"+\"Poker Deck\"+\"--------------\")\n",
        "print(\"Ben's estimated balance after playing for a weekend:\", str(balanceTotal/n) +\"$\")\n",
        "print(\"Average Number of Cards Required to Complete 21:\", round((sum(winamount) / len(winamount)), 2))\n",
        "\n",
        "bin = max(winamount)-min(winamount)+1\n",
        "plt.hist(winamount, bins=bin)\n",
        "plt.title('Experimental Distribution of Amount of Cards Required to sum 21')\n",
        "plt.xlabel('Amount of Cards')\n",
        "plt.ylabel('Amount of Instances')\n",
        "plt.show()"
      ],
      "execution_count": null,
      "outputs": [
        {
          "output_type": "stream",
          "text": [
            "--------------Poker Deck--------------\n",
            "Ben's estimated balance after playing for a weekend: 21772.634$\n",
            "Average Number of Cards Required to Complete 21: 3.84\n"
          ],
          "name": "stdout"
        },
        {
          "output_type": "display_data",
          "data": {
            "image/png": "[encoded data removed]",
            "text/plain": [
              "<Figure size 432x288 with 1 Axes>"
            ]
          },
          "metadata": {
            "tags": [],
            "needs_background": "light"
          }
        }
      ]
    }
  ]
}