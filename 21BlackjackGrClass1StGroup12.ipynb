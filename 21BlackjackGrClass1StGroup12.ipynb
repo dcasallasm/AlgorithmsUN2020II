{
  "nbformat": 4,
  "nbformat_minor": 0,
  "metadata": {
    "colab": {
      "name": "21BlackjackGrClass1StGroup12.ipynb",
      "provenance": [],
      "collapsed_sections": []
    },
    "kernelspec": {
      "name": "python3",
      "display_name": "Python 3"
    }
  },
  "cells": [
    {
      "cell_type": "code",
      "metadata": {
        "id": "Gmgu2xGhfPr9",
        "colab_type": "code",
        "colab": {}
      },
      "source": [
        "import random as rng\n",
        "from matplotlib import pyplot as plt"
      ],
      "execution_count": null,
      "outputs": []
    },
    {
      "cell_type": "markdown",
      "metadata": {
        "id": "biLQyRevTVKc",
        "colab_type": "text"
      },
      "source": [
        "# 1.1 Poker Deck\n"
      ]
    },
    {
      "cell_type": "code",
      "metadata": {
        "id": "VXtRNJNGl0b9",
        "colab_type": "code",
        "colab": {
          "base_uri": "https://localhost:8080/",
          "height": 346
        },
        "outputId": "b118cbf8-2c54-45ae-8989-91af48312a9a"
      },
      "source": [
        "# Initialize Tables\n",
        "deck = [1,2,3,4,5,6,7,8,9,10,11,12,13,1,2,3,4,5,6,7,8,9,10,11,12,13,1,2,3,4,5,6,7,8,9,10,11,12,13,1,2,3,4,5,6,7,8,9,10,11,12,13]\n",
        "winamount = []\n",
        "\n",
        "# Initialize Variables \n",
        "n = 10000\n",
        "win = 0\n",
        "loss = 0\n",
        "\n",
        "# Main Game Loop\n",
        "for i in range(n):\n",
        "\n",
        "  # Initialize sum and amount of cards.\n",
        "  s = 0\n",
        "  amount = 0\n",
        "\n",
        "  # Copy original deck to a temporary one\n",
        "  deckt = list(deck)\n",
        "\n",
        "  # Card Drawing Loop\n",
        "  while s < 21:\n",
        "    \n",
        "    # Draw card from temporary deck at random, remove it from the deck, add its value to s, and increment amount of cards drawn.\n",
        "    x = rng.choice(deckt)\n",
        "    deckt.remove(x)\n",
        "    s += x\n",
        "    amount += 1\n",
        "\n",
        "  # If a game is won, update the list of the amount of cards needed to win.\n",
        "  if(s == 21):\n",
        "    win += 1\n",
        "    winamount.append(amount)\n",
        "  else:\n",
        "    loss += 1\n",
        "\n",
        "print(\"--------------\"+\"Poker Deck\"+\"--------------\")\n",
        "print(\"Games won: \", win, \"Games lost: \", loss)\n",
        "print(\"Percentage of Winning Games Overall: \", (win/n)*100,\"%\")\n",
        "\n",
        "bin = max(winamount)-min(winamount)+1\n",
        "plt.hist(winamount, bins=bin)\n",
        "plt.title('Experimental Distribution of Amount of Cards Required to sum 21')\n",
        "plt.xlabel('Amount of Cards')\n",
        "plt.ylabel('Amount of Instances')\n",
        "plt.show()"
      ],
      "execution_count": null,
      "outputs": [
        {
          "output_type": "stream",
          "text": [
            "--------------Poker Deck--------------\n",
            "Games won:  1437 Games lost:  8563\n",
            "Percentage of Winning Games Overall:  14.37 %\n"
          ],
          "name": "stdout"
        },
        {
          "output_type": "display_data",
          "data": {
            "image/png": "[encoded data removed]",
            "text/plain": [
              "<Figure size 432x288 with 1 Axes>"
            ]
          },
          "metadata": {
            "tags": [],
            "needs_background": "light"
          }
        }
      ]
    },
    {
      "cell_type": "markdown",
      "metadata": {
        "id": "qtTNJPLuTZ9C",
        "colab_type": "text"
      },
      "source": [
        "# 1.2 Spanish Deck"
      ]
    },
    {
      "cell_type": "code",
      "metadata": {
        "id": "lixA7tbCTAfJ",
        "colab_type": "code",
        "colab": {
          "base_uri": "https://localhost:8080/",
          "height": 346
        },
        "outputId": "9310b2a5-64e0-47fb-a2d3-a13127ba653b"
      },
      "source": [
        "# Initialize Tables\n",
        "deck = [1,2,3,4,5,6,7,10,11,12,1,2,3,4,5,6,7,8,9,10,11,12,1,2,3,4,5,6,7,8,9,10,11,12,1,2,3,4,5,6,7,8,9,10,11,12]\n",
        "winamount = []\n",
        "\n",
        "# Initialize Variables \n",
        "n = 10000\n",
        "win = 0\n",
        "loss = 0\n",
        "\n",
        "# Main Game Loop\n",
        "for i in range(n):\n",
        "\n",
        "  # Initialize sum and amount of cards.\n",
        "  s = 0\n",
        "  a = 0\n",
        "\n",
        "  # Copy original deck to a temporary one\n",
        "  deckt = list(deck)\n",
        "\n",
        "  # Card Drawing Loop\n",
        "  while s < 21:\n",
        "    \n",
        "    # Draw card from temporary deck at random, remove it from the deck, add its value to s, and increment amount of cards drawn.\n",
        "    x = rng.choice(deckt)\n",
        "    deckt.remove(x)\n",
        "    s += x\n",
        "    a += 1\n",
        "\n",
        "  # If a game is won, update the list of the amount of cards needed to win.\n",
        "  if(s == 21):\n",
        "    win += 1\n",
        "    winamount.append(a)\n",
        "  else:\n",
        "    loss += 1\n",
        "\n",
        "print(\"--------------\"+\"Spanish Deck\"+\"--------------\")\n",
        "print(\"Games won: \", win, \"Games lost: \", loss)\n",
        "print(\"Percentage of Winning Games Overall: \", (win/n)*100,\"%\")\n",
        "\n",
        "bin = max(winamount)-min(winamount)+1\n",
        "plt.hist(winamount, bins=bin)\n",
        "plt.title('Experimental Distribution of Amount of Cards Required to sum 21')\n",
        "plt.xlabel('Amount of Cards')\n",
        "plt.ylabel('Amount of Instances')\n",
        "plt.show()"
      ],
      "execution_count": null,
      "outputs": [
        {
          "output_type": "stream",
          "text": [
            "--------------Spanish Deck--------------\n",
            "Games won:  1535 Games lost:  8465\n",
            "Percentage of Winning Games Overall:  15.35 %\n"
          ],
          "name": "stdout"
        },
        {
          "output_type": "display_data",
          "data": {
            "image/png": "[encoded data removed]",
            "text/plain": [
              "<Figure size 432x288 with 1 Axes>"
            ]
          },
          "metadata": {
            "tags": [],
            "needs_background": "light"
          }
        }
      ]
    },
    {
      "cell_type": "markdown",
      "metadata": {
        "id": "pa_S0Z_vYPTL",
        "colab_type": "text"
      },
      "source": [
        "# 2.1. Poker Deck (10)"
      ]
    },
    {
      "cell_type": "code",
      "metadata": {
        "id": "2drFWBt3XGp-",
        "colab_type": "code",
        "colab": {
          "base_uri": "https://localhost:8080/",
          "height": 346
        },
        "outputId": "85e63fb9-456d-439c-9f92-fa8a49b6a114"
      },
      "source": [
        "# Initialize Tables\n",
        "deck = [1,2,3,4,5,6,7,8,9,10,10,10,10,1,2,3,4,5,6,7,8,9,10,10,10,10,1,2,3,4,5,6,7,8,9,10,10,10,10,1,2,3,4,5,6,7,8,9,10,10,10,10]\n",
        "winamount = []\n",
        "\n",
        "# Initialize Variables \n",
        "n = 10000\n",
        "win = 0\n",
        "loss = 0\n",
        "\n",
        "# Main Game Loop\n",
        "for i in range(n):\n",
        "\n",
        "  # Initialize sum and amount of cards.\n",
        "  s = 0\n",
        "  a = 0\n",
        "\n",
        "  # Copy original deck to a temporary one\n",
        "  deckt = list(deck)\n",
        "\n",
        "  # Card Drawing Loop\n",
        "  while s < 21:\n",
        "    \n",
        "    # Draw card from temporary deck at random, remove it from the deck, add its value to s, and increment amount of cards drawn.\n",
        "    x = rng.choice(deckt)\n",
        "    deckt.remove(x)\n",
        "    s += x\n",
        "    a += 1\n",
        "\n",
        "  # If a game is won, update the list of the amount of cards needed to win.\n",
        "  if(s == 21):\n",
        "    win += 1\n",
        "    winamount.append(a)\n",
        "  else:\n",
        "    loss += 1\n",
        "\n",
        "print(\"--------------\"+\"Poker Deck (10)\"+\"--------------\")\n",
        "print(\"Games won: \", win, \"Games lost: \", loss)\n",
        "print(\"Percentage of Winning Games Overall: \", (win/n)*100,\"%\")\n",
        "\n",
        "bin = max(winamount)-min(winamount)+1\n",
        "plt.hist(winamount, bins=bin)\n",
        "plt.title('Experimental Distribution of Amount of Cards Required to sum 21')\n",
        "plt.xlabel('Amount of Cards')\n",
        "plt.ylabel('Amount of Instances')\n",
        "plt.show()"
      ],
      "execution_count": null,
      "outputs": [
        {
          "output_type": "stream",
          "text": [
            "--------------Poker Deck (10)--------------\n",
            "Games won:  1430 Games lost:  8570\n",
            "Percentage of Winning Games Overall:  14.299999999999999 %\n"
          ],
          "name": "stdout"
        },
        {
          "output_type": "display_data",
          "data": {
            "image/png": "[encoded data removed]",
            "text/plain": [
              "<Figure size 432x288 with 1 Axes>"
            ]
          },
          "metadata": {
            "tags": [],
            "needs_background": "light"
          }
        }
      ]
    },
    {
      "cell_type": "markdown",
      "metadata": {
        "id": "u2EbtljiYjIx",
        "colab_type": "text"
      },
      "source": [
        "# 2.2. Spanish Deck (10)"
      ]
    },
    {
      "cell_type": "code",
      "metadata": {
        "id": "vmyRJXQfXF0W",
        "colab_type": "code",
        "colab": {
          "base_uri": "https://localhost:8080/",
          "height": 346
        },
        "outputId": "0006f3e5-40da-4358-dc7a-82697307ce44"
      },
      "source": [
        "# Initialize Tables\n",
        "deck = [1,2,3,4,5,6,7,8,9,10,10,10,1,2,3,4,5,6,7,8,9,10,10,10,1,2,3,4,5,6,7,8,9,10,10,10,1,2,3,4,5,6,7,8,9,10,10,10]\n",
        "winamount = []\n",
        "\n",
        "# Initialize Variables \n",
        "n = 10000\n",
        "win = 0\n",
        "loss = 0\n",
        "\n",
        "# Main Game Loop\n",
        "for i in range(n):\n",
        "\n",
        "  # Initialize sum and amount of cards.\n",
        "  s = 0\n",
        "  a = 0\n",
        "\n",
        "  # Copy original deck to a temporary one\n",
        "  deckt = list(deck)\n",
        "\n",
        "  # Card Drawing Loop\n",
        "  while s < 21:\n",
        "    \n",
        "    # Draw card from temporary deck at random, remove it from the deck, add its value to s, and increment amount of cards drawn.\n",
        "    x = rng.choice(deckt)\n",
        "    deckt.remove(x)\n",
        "    s += x\n",
        "    a += 1\n",
        "\n",
        "  # If a game is won, update the list of the amount of cards needed to win.\n",
        "  if(s == 21):\n",
        "    win += 1\n",
        "    winamount.append(a)\n",
        "  else:\n",
        "    loss += 1\n",
        "\n",
        "print(\"--------------\"+\"Spanish Deck (10)\"+\"--------------\")\n",
        "print(\"Games won: \", win, \"Games lost: \", loss)\n",
        "print(\"Percentage of Winning Games Overall: \", (win/n)*100,\"%\")\n",
        "\n",
        "bin = max(winamount)-min(winamount)+1\n",
        "plt.hist(winamount, bins=bin)\n",
        "plt.title('Experimental Distribution of Amount of Cards Required to sum 21')\n",
        "plt.xlabel('Amount of Cards')\n",
        "plt.ylabel('Amount of Instances')\n",
        "plt.show()"
      ],
      "execution_count": null,
      "outputs": [
        {
          "output_type": "stream",
          "text": [
            "--------------Spanish Deck (10)--------------\n",
            "Games won:  1479 Games lost:  8521\n",
            "Percentage of Winning Games Overall:  14.790000000000001 %\n"
          ],
          "name": "stdout"
        },
        {
          "output_type": "display_data",
          "data": {
            "image/png": "[encoded data removed]",
            "text/plain": [
              "<Figure size 432x288 with 1 Axes>"
            ]
          },
          "metadata": {
            "tags": [],
            "needs_background": "light"
          }
        }
      ]
    },
    {
      "cell_type": "markdown",
      "metadata": {
        "id": "gWL1_Cirfl2U",
        "colab_type": "text"
      },
      "source": [
        "# 3.1 Poker Deck n/2 "
      ]
    },
    {
      "cell_type": "code",
      "metadata": {
        "id": "0O8MjSuBfmUQ",
        "colab_type": "code",
        "colab": {
          "base_uri": "https://localhost:8080/",
          "height": 346
        },
        "outputId": "8ac3a061-fc42-4aff-fd28-33a9414fcf9a"
      },
      "source": [
        "# Initialize Tables\n",
        "deck = [1,2,3,4,6,8,9,10,11,12,13,1,2,3,4,5,6,8,9,10,11,12,13,1,2,3,4,5,6,7,8,9,10,11,12,13,1,2,3,4,5,6,7,8,9,10,11,12,13]\n",
        "winamount = []\n",
        "\n",
        "# Initialize Variables\n",
        "n = 10000\n",
        "win = 0\n",
        "loss = 0\n",
        "\n",
        "# Begin game loop\n",
        "for i in range(n):\n",
        "\n",
        "  # Copy original deck to a temporary one\n",
        "  deck2=list(deck)\n",
        "\n",
        "  # Remove half the cards from the temporary deck\n",
        "  while len(deck2)>26:\n",
        "    deck2.pop(rng.randint(0,len(deck2)-1))\n",
        "\n",
        "  # Initialize sum and amount of cards.\n",
        "  s = 19\n",
        "  amount = 3\n",
        "\n",
        "  # Card Drawing Loop\n",
        "  while s < 21:\n",
        "    x = deck2.pop(rng.randint(0,len(deck2)-1))\n",
        "    s += x\n",
        "    amount += 1\n",
        "\n",
        "  # If a game is won, update the list of the amount of cards needed to win.\n",
        "  if(s == 21):\n",
        "    win += 1\n",
        "    winamount.append(amount)\n",
        "  else:\n",
        "    loss += 1\n",
        "\n",
        "print(\"--------------\"+\"Poker Deck [5,7,7] and n/2 \"+\"--------------\")\n",
        "print(\"win: \", win, \"loss \", loss)\n",
        "print(\"percentage: \", (win/n)*100,\"%\")\n",
        "\n",
        "bin = max(winamount)-min(winamount)+1\n",
        "plt.hist(winamount,bins=bin)\n",
        "plt.title('Experimental Distribution of Amount of Cards Required to sum 21')\n",
        "plt.xlabel('Amount of Cards')\n",
        "plt.ylabel('Amount of Instances')\n",
        "plt.show()"
      ],
      "execution_count": null,
      "outputs": [
        {
          "output_type": "stream",
          "text": [
            "--------------Poker Deck [5,7,7] and n/2 --------------\n",
            "win:  864 loss  9136\n",
            "percentage:  8.64 %\n"
          ],
          "name": "stdout"
        },
        {
          "output_type": "display_data",
          "data": {
            "image/png": "[encoded data removed]",
            "text/plain": [
              "<Figure size 432x288 with 1 Axes>"
            ]
          },
          "metadata": {
            "tags": [],
            "needs_background": "light"
          }
        }
      ]
    },
    {
      "cell_type": "markdown",
      "metadata": {
        "id": "_K4Cc9kvaOXj",
        "colab_type": "text"
      },
      "source": [
        "# 3.2 Spanish Deck n/2 "
      ]
    },
    {
      "cell_type": "code",
      "metadata": {
        "id": "nXUEy7eoaS06",
        "colab_type": "code",
        "colab": {
          "base_uri": "https://localhost:8080/",
          "height": 346
        },
        "outputId": "a5387b4a-4000-420b-8459-f813366168ce"
      },
      "source": [
        "# Initialize Tables\n",
        "deck = [1,2,3,4,6,8,9,10,11,12,1,2,3,4,5,6,8,9,10,11,12,1,2,3,4,5,6,7,8,9,10,11,12,1,2,3,4,5,6,7,8,9,10,11,12]\n",
        "winamount = []\n",
        "\n",
        "# Initialize Variables\n",
        "n = 10000\n",
        "win = 0\n",
        "loss = 0\n",
        "\n",
        "# Begin game loop\n",
        "for i in range(n):\n",
        "\n",
        "  # Copy original deck to a temporary one\n",
        "  deck2=list(deck)\n",
        "\n",
        "  # Remove half the cards from the temporary deck\n",
        "  while len(deck2)>26:\n",
        "    deck2.pop(rng.randint(0,len(deck2)-1))\n",
        "\n",
        "  # Initialize sum and amount of cards.\n",
        "  s = 19\n",
        "  amount = 3\n",
        "\n",
        "  # Card Drawing Loop\n",
        "  while s < 21:\n",
        "    x = deck2.pop(rng.randint(0,len(deck2)-1))\n",
        "    s += x\n",
        "    amount += 1\n",
        "\n",
        "  # If a game is won, update the list of the amount of cards needed to win.\n",
        "  if(s == 21):\n",
        "    win += 1\n",
        "    winamount.append(amount)\n",
        "  else:\n",
        "    loss += 1\n",
        "\n",
        "print(\"--------------\"+\"Spanish Deck [5,7,7] and n/2 \"+\"--------------\")\n",
        "print(\"win: \", win, \"loss \", loss)\n",
        "print(\"percentage: \", (win/n)*100,\"%\")\n",
        "\n",
        "bin = max(winamount)-min(winamount)+1\n",
        "plt.hist(winamount,bins=bin)\n",
        "plt.title('Experimental Distribution of Amount of Cards Required to sum 21')\n",
        "plt.xlabel('Amount of Cards')\n",
        "plt.ylabel('Amount of Instances')\n",
        "plt.show()"
      ],
      "execution_count": null,
      "outputs": [
        {
          "output_type": "stream",
          "text": [
            "--------------Spanish Deck [5,7,7] and n/2 --------------\n",
            "win:  925 loss  9075\n",
            "percentage:  9.25 %\n"
          ],
          "name": "stdout"
        },
        {
          "output_type": "display_data",
          "data": {
            "image/png": "[encoded data removed]",
            "text/plain": [
              "<Figure size 432x288 with 1 Axes>"
            ]
          },
          "metadata": {
            "tags": [],
            "needs_background": "light"
          }
        }
      ]
    },
    {
      "cell_type": "markdown",
      "metadata": {
        "id": "4L-RhXlW8dhH",
        "colab_type": "text"
      },
      "source": [
        "#4.1 Hot Deck (Poker Deck)\n",
        "The best winning probabilty is $0.\\overline{42}$:\n",
        "$$\\frac{4}{12}+\\frac{4}{12}\\cdot\\frac{3}{11}=\\frac{4}{12}+\\frac{1}{11}=\\frac{14}{33}=0.\\overline{42}$$\n",
        "In this deck there are four cards with a value of $2$ and four cards with a value of $1$. So, the winning probability is $\\frac{4}{12}$ if we obtain a $2$, on the other hand, we should obtain two consecutive times a $1$, this probability is $\\frac{4}{12}\\cdot\\frac{3}{11}$."
      ]
    },
    {
      "cell_type": "code",
      "metadata": {
        "id": "G9KD00lJ8h5s",
        "colab_type": "code",
        "colab": {
          "base_uri": "https://localhost:8080/",
          "height": 346
        },
        "outputId": "c2ae45fa-a4de-468c-83eb-61298f60420e"
      },
      "source": [
        "# Initialize Tables\n",
        "hotdeck = [1,1,1,1,2,2,2,2,13,13,13,13]\n",
        "winamount = []\n",
        "\n",
        "# Initialize Variables \n",
        "n = 10000\n",
        "win = 0\n",
        "loss = 0\n",
        "\n",
        "# Main Game Loop\n",
        "for i in range(n):\n",
        "\n",
        "  # Reinitialize sum and amount of cards.\n",
        "  s = 19\n",
        "  amount = 3\n",
        "\n",
        "  # Copy original deck to a temporary one\n",
        "  deckt = list(hotdeck)\n",
        "\n",
        "  # Card Drawing Loop\n",
        "  while s < 21:\n",
        "    \n",
        "    # Draw card at random from temporary deck, remove it from the deck, add its value to s, and increment the amount of cards drawn.\n",
        "    x = rng.choice(deckt)\n",
        "    deckt.remove(x)\n",
        "    s += x\n",
        "    amount += 1\n",
        "\n",
        "  # If a game is won, update the list of the amount of cards needed to win.\n",
        "  if(s == 21):\n",
        "    win += 1\n",
        "    winamount.append(amount)\n",
        "  else:\n",
        "    loss += 1\n",
        "\n",
        "print(\"--------------\"+\"Poker Deck\"+\"--------------\")\n",
        "print(\"Games won: \", win, \"Games lost: \", loss)\n",
        "print(\"Percentage of Winning Games Overall: \", (win/n)*100,\"%\")\n",
        "\n",
        "bin = max(winamount)-min(winamount)+1\n",
        "plt.hist(winamount, bins=bin)\n",
        "plt.title('Experimental Distribution of Amount of Cards Required to sum 21')\n",
        "plt.xlabel('Amount of Cards')\n",
        "plt.ylabel('Amount of Instances')\n",
        "plt.show()"
      ],
      "execution_count": null,
      "outputs": [
        {
          "output_type": "stream",
          "text": [
            "--------------Poker Deck--------------\n",
            "Games won:  4249 Games lost:  5751\n",
            "Percentage of Winning Games Overall:  42.49 %\n"
          ],
          "name": "stdout"
        },
        {
          "output_type": "display_data",
          "data": {
            "image/png": "[encoded data removed]",
            "text/plain": [
              "<Figure size 432x288 with 1 Axes>"
            ]
          },
          "metadata": {
            "tags": [],
            "needs_background": "light"
          }
        }
      ]
    },
    {
      "cell_type": "markdown",
      "metadata": {
        "id": "BmsMMOa0atVw",
        "colab_type": "text"
      },
      "source": [
        "#4.2 Hot Deck (Spanish Deck)\n",
        "The best winning probabilty is $0.\\overline{42}$:\n",
        "$$\\frac{4}{12}+\\frac{4}{12}\\cdot\\frac{3}{11}=\\frac{4}{12}+\\frac{1}{11}=\\frac{14}{33}=0.\\overline{42}$$\n",
        "In this deck there are four cards with a value of $2$ and four cards with a value of $1$. So, the winning probability is $\\frac{4}{12}$ if we obtain a $2$, on the other hand, we should obtain two consecutive times a $1$, this probability is $\\frac{4}{12}\\cdot\\frac{3}{11}$."
      ]
    },
    {
      "cell_type": "code",
      "metadata": {
        "id": "V6Yh5Dzaax1T",
        "colab_type": "code",
        "colab": {
          "base_uri": "https://localhost:8080/",
          "height": 346
        },
        "outputId": "61d1b9d6-09f3-4ae6-ddfa-e1151bf48112"
      },
      "source": [
        "# Initialize Tables\n",
        "hotdeck = [1,1,1,1,2,2,2,2,13,13,13,13]\n",
        "winamount = []\n",
        "\n",
        "# Initialize Variables \n",
        "n = 10000\n",
        "win = 0\n",
        "loss = 0\n",
        "\n",
        "# Main Game Loop\n",
        "for i in range(n):\n",
        "\n",
        "  # Reinitialize sum and amount of cards.\n",
        "  s = 19\n",
        "  amount = 3\n",
        "\n",
        "  # Copy original deck to a temporary one\n",
        "  deckt = list(hotdeck)\n",
        "\n",
        "  # Card Drawing Loop\n",
        "  while s < 21:\n",
        "    \n",
        "    # Draw card at random from temporary deck, remove it from the deck, add its value to s, and increment the amount of cards drawn.\n",
        "    x = rng.choice(deckt)\n",
        "    deckt.remove(x)\n",
        "    s += x\n",
        "    amount += 1\n",
        "\n",
        "  # If a game is won, update the list of the amount of cards needed to win.\n",
        "  if(s == 21):\n",
        "    win += 1\n",
        "    winamount.append(amount)\n",
        "  else:\n",
        "    loss += 1\n",
        "\n",
        "print(\"--------------\"+\"Spanish Deck\"+\"--------------\")\n",
        "print(\"Games won: \", win, \"Games lost: \", loss)\n",
        "print(\"Percentage of Winning Games Overall: \", (win/n)*100,\"%\")\n",
        "\n",
        "bin = max(winamount)-min(winamount)+1\n",
        "plt.hist(winamount, bins=bin)\n",
        "plt.title('Experimental Distribution of Amount of Cards Required to sum 21')\n",
        "plt.xlabel('Amount of Cards')\n",
        "plt.ylabel('Amount of Instances')\n",
        "plt.show()"
      ],
      "execution_count": null,
      "outputs": [
        {
          "output_type": "stream",
          "text": [
            "--------------Spanish Deck--------------\n",
            "Games won:  4288 Games lost:  5712\n",
            "Percentage of Winning Games Overall:  42.88 %\n"
          ],
          "name": "stdout"
        },
        {
          "output_type": "display_data",
          "data": {
            "image/png": "[encoded data removed]",
            "text/plain": [
              "<Figure size 432x288 with 1 Axes>"
            ]
          },
          "metadata": {
            "tags": [],
            "needs_background": "light"
          }
        }
      ]
    },
    {
      "cell_type": "markdown",
      "metadata": {
        "id": "JBSu8G4pAJtN",
        "colab_type": "text"
      },
      "source": [
        "#5.1 Ben's weekly plays, Poker Deck"
      ]
    },
    {
      "cell_type": "code",
      "metadata": {
        "id": "ZbBdtzJVAL4H",
        "colab_type": "code",
        "colab": {}
      },
      "source": [
        "def hotDeck():\n",
        "  global winamount\n",
        "  # Initialize Tables\n",
        "  hotDeck = [1,1,1,1,2,2,2,2,13,13,13,13]\n",
        "  # Reinitialize sum and amount of cards.\n",
        "  s = 19\n",
        "  amount = 3\n",
        "\n",
        "  # Card Drawing Loop\n",
        "  while s < 21:\n",
        "\n",
        "    # Draw card from temporary deck at random, remove it from the deck, add its value to s, and increment amount of cards drawn.\n",
        "    x = hotDeck.pop(rng.randint(0,len(hotDeck)-1))\n",
        "    s += x\n",
        "    amount += 1\n",
        "    \n",
        "  # If a game is won, update the list of the amount of cards needed to win.\n",
        "  if(s == 21):\n",
        "    winamount.append(amount)\n",
        "    return True\n",
        "  else:\n",
        "    return False\n",
        "\n",
        "def coldDeck():\n",
        "  global winamount\n",
        "  coldDeck = [1,2,3,4,5,6,7,8,9,10,11,12,13,1,2,3,4,5,6,7,8,9,10,11,12,13,1,2,3,4,5,6,7,8,9,10,11,12,13,1,2,3,4,5,6,7,8,9,10,11,12,13]\n",
        "\n",
        "  # Reinitialize sum and amount of cards.\n",
        "  s = 0\n",
        "  amount = 0\n",
        "\n",
        "  # Card Drawing Loop\n",
        "  while s < 21:\n",
        "\n",
        "    # Draw card from temporary deck at random, remove it from the deck, add its value to s, and increment amount of cards drawn.\n",
        "    x = coldDeck.pop(rng.randint(0,len(coldDeck)-1))\n",
        "    s += x\n",
        "    amount += 1\n",
        "    \n",
        "  # If a game is won, update the list of the amount of cards needed to win.\n",
        "  if(s == 21):\n",
        "    winamount.append(amount)\n",
        "    return True\n",
        "  else:\n",
        "    return False"
      ],
      "execution_count": null,
      "outputs": []
    },
    {
      "cell_type": "code",
      "metadata": {
        "id": "WysDIFwOAdxa",
        "colab_type": "code",
        "colab": {
          "base_uri": "https://localhost:8080/",
          "height": 329
        },
        "outputId": "7ab52390-0df0-4af6-e919-2459e79f820f"
      },
      "source": [
        "# Initialize Table\n",
        "winamount = []\n",
        "\n",
        "# Initialize Values\n",
        "balanceTotal = 0\n",
        "n = 10000\n",
        "\n",
        "# Experimental Loop\n",
        "for j in range(n):\n",
        "\n",
        "  # Initialize Individual Balance\n",
        "  balance = 0\n",
        "\n",
        "  # Game Loop\n",
        "  for i in range(600):\n",
        "\n",
        "    # Check for given probability\n",
        "    if rng.randint(0,9) < 1:\n",
        "\n",
        "      # Change balance according to the game's result\n",
        "      if hotDeck():\n",
        "        balance += 1000\n",
        "      else:\n",
        "        balance -= 1000\n",
        "    else:\n",
        "\n",
        "      # Change balance according to the game's result\n",
        "      if coldDeck():\n",
        "        balance += 10\n",
        "      else:\n",
        "        balance -= 10\n",
        "        \n",
        "  # Update the total balance\n",
        "  balanceTotal += balance\n",
        "\n",
        "print(\"--------------\"+\"Poker Deck\"+\"--------------\")\n",
        "print(\"Ben's estimated balance after playing for a weekend:\", str(balanceTotal/n) +\"$\")\n",
        "\n",
        "bin = max(winamount)-min(winamount)+1\n",
        "plt.hist(winamount, bins=bin)\n",
        "plt.title('Experimental Distribution of Amount of Cards Required to sum 21')\n",
        "plt.xlabel('Amount of Cards')\n",
        "plt.ylabel('Amount of Instances')\n",
        "plt.show()"
      ],
      "execution_count": null,
      "outputs": [
        {
          "output_type": "stream",
          "text": [
            "--------------Poker Deck--------------\n",
            "Ben's estimated balance after playing for a weekend: -13109.655$\n"
          ],
          "name": "stdout"
        },
        {
          "output_type": "display_data",
          "data": {
            "image/png": "[encoded data removed]",
            "text/plain": [
              "<Figure size 432x288 with 1 Axes>"
            ]
          },
          "metadata": {
            "tags": [],
            "needs_background": "light"
          }
        }
      ]
    },
    {
      "cell_type": "markdown",
      "metadata": {
        "id": "NSB9BVbC1XN5",
        "colab_type": "text"
      },
      "source": [
        "#5.2 Ben's weekly plays, Spanish Deck"
      ]
    },
    {
      "cell_type": "code",
      "metadata": {
        "id": "TUlU7jdTHEux",
        "colab_type": "code",
        "colab": {}
      },
      "source": [
        "def hotDeck2():\n",
        "  global winamount\n",
        "\n",
        "  # Initialize Tables\n",
        "  hotDeck = [1,1,1,1,2,2,2,2,12,12,12,12]\n",
        "\n",
        "  # Reinitialize sum and amount of cards.\n",
        "  s = 19\n",
        "  amount = 3\n",
        "\n",
        "  # Card Drawing Loop\n",
        "  while s < 21:\n",
        "\n",
        "    # Draw card from temporary deck at random, remove it from the deck, add its value to s, and increment amount of cards drawn.\n",
        "    x = hotDeck.pop(rng.randint(0,len(hotDeck)-1))\n",
        "    s += x\n",
        "    amount += 1\n",
        "\n",
        "  # If a game is won, update the list of the amount of cards needed to win.\n",
        "  if(s == 21):\n",
        "    winamount.append(amount)\n",
        "    return True\n",
        "  else:\n",
        "    return False\n",
        "\n",
        "def coldDeck2():\n",
        "  global winamount\n",
        "  coldDeck = [1,2,3,4,5,6,7,10,11,12,1,2,3,4,5,6,7,8,9,10,11,12,1,2,3,4,5,6,7,8,9,10,11,12,1,2,3,4,5,6,7,8,9,10,11,12]\n",
        "\n",
        "  # Reinitialize sum and amount of cards.\n",
        "  s = 0\n",
        "  amount = 0\n",
        "\n",
        "  # Card Drawing Loop\n",
        "  while s < 21:\n",
        "\n",
        "    # Draw card from temporary deck at random, remove it from the deck, add its value to s, and increment amount of cards drawn.\n",
        "    x = coldDeck.pop(rng.randint(0,len(coldDeck)-1))\n",
        "    s += x\n",
        "    amount += 1\n",
        "\n",
        "  # If a game is won, update the list of the amount of cards needed to win.\n",
        "  if(s == 21):\n",
        "    winamount.append(amount)\n",
        "    return True\n",
        "  else:\n",
        "    return False"
      ],
      "execution_count": null,
      "outputs": []
    },
    {
      "cell_type": "code",
      "metadata": {
        "id": "nZ48K3upHFDd",
        "colab_type": "code",
        "colab": {
          "base_uri": "https://localhost:8080/",
          "height": 329
        },
        "outputId": "11cba736-9874-482c-da86-b176a750420f"
      },
      "source": [
        "# Initialize Table\n",
        "winamount = []\n",
        "\n",
        "# Initialize Values\n",
        "balanceTotal = 0\n",
        "n = 10000\n",
        "\n",
        "# Experimental Loop\n",
        "for j in range(n):\n",
        "\n",
        "  # Initialize Individual Balance\n",
        "  balance = 0\n",
        "\n",
        "  # Game Loop\n",
        "  for i in range(600):\n",
        "\n",
        "    # Check for given probability\n",
        "    if rng.randint(0,9) < 1:\n",
        "\n",
        "      # Change balance according to the game's result\n",
        "      if hotDeck2():\n",
        "        balance += 1000\n",
        "      else:\n",
        "        balance -= 1000\n",
        "    else:\n",
        "\n",
        "      # Change balance according to the game's result\n",
        "      if coldDeck2():\n",
        "        balance += 10\n",
        "      else:\n",
        "        balance -= 10\n",
        "        \n",
        "  # Update the total balance\n",
        "  balanceTotal += balance\n",
        "\n",
        "print(\"--------------\"+\"Spanish Deck\"+\"--------------\")\n",
        "print(\"Ben's estimated balance after playing for a weekend:\", str(balanceTotal/n) +\"$\")\n",
        "\n",
        "bin = max(winamount)-min(winamount)+1\n",
        "plt.hist(winamount, bins=bin)\n",
        "plt.title('Experimental Distribution of Amount of Cards Required to sum 21')\n",
        "plt.xlabel('Amount of Cards')\n",
        "plt.ylabel('Amount of Instances')\n",
        "plt.show()"
      ],
      "execution_count": null,
      "outputs": [
        {
          "output_type": "stream",
          "text": [
            "--------------Spanish Deck--------------\n",
            "Ben's estimated balance after playing for a weekend: -12860.534$\n"
          ],
          "name": "stdout"
        },
        {
          "output_type": "display_data",
          "data": {
            "image/png": "[encoded data removed]",
            "text/plain": [
              "<Figure size 432x288 with 1 Axes>"
            ]
          },
          "metadata": {
            "tags": [],
            "needs_background": "light"
          }
        }
      ]
    }
  ]
}