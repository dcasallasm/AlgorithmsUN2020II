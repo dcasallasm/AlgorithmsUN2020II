{
  "nbformat": 4,
  "nbformat_minor": 0,
  "metadata": {
    "colab": {
      "name": "21BlackjackGrClass1StGroup12.ipynb",
      "provenance": [],
      "collapsed_sections": []
    },
    "kernelspec": {
      "name": "python3",
      "display_name": "Python 3"
    }
  },
  "cells": [
    {
      "cell_type": "code",
      "metadata": {
        "id": "Gmgu2xGhfPr9",
        "colab_type": "code",
        "colab": {}
      },
      "source": [
        "import random as rng\n",
        "from matplotlib import pyplot as plt"
      ],
      "execution_count": null,
      "outputs": []
    },
    {
      "cell_type": "markdown",
      "metadata": {
        "id": "biLQyRevTVKc",
        "colab_type": "text"
      },
      "source": [
        "# 1.1 Baraja de poker aleatoria\n"
      ]
    },
    {
      "cell_type": "code",
      "metadata": {
        "id": "VXtRNJNGl0b9",
        "colab_type": "code",
        "colab": {
          "base_uri": "https://localhost:8080/",
          "height": 346
        },
        "outputId": "7b294928-827e-4cee-8788-25d25a3d7dcb"
      },
      "source": [
        "# Initialize Tables\n",
        "deck = [1,2,3,4,5,6,7,8,9,10,11,12,13,1,2,3,4,5,6,7,8,9,10,11,12,13,1,2,3,4,5,6,7,8,9,10,11,12,13,1,2,3,4,5,6,7,8,9,10,11,12,13]\n",
        "losstable = []\n",
        "wintable = []\n",
        "winamount = []\n",
        "\n",
        "# Initialize Variables \n",
        "n = 10000\n",
        "win = 0\n",
        "loss = 0\n",
        "\n",
        "# Main Game Loop\n",
        "for i in range(n):\n",
        "\n",
        "  # Reinitialize sum and amount of cards.\n",
        "  sum = 0\n",
        "  amount = 0\n",
        "\n",
        "  # Copy original deck to a temporary one\n",
        "  deckt = list(deck)\n",
        "\n",
        "  # Card Drawing Loop\n",
        "  while sum < 21:\n",
        "    # Draw card from temporary deck at random, remove it from the deck, add its value to s, and increment amount of cards drawn.\n",
        "    x = rng.choice(deckt)\n",
        "    deckt.remove(x)\n",
        "    sum += x\n",
        "    amount += 1\n",
        "\n",
        "  # Once the sum is 21 or greater, update either the win table or the loss table. If a game is won, update the list of the amount of cards needed to win.\n",
        "  if(sum == 21):\n",
        "    win += 1\n",
        "    wintable.append(sum)\n",
        "    winamount.append(amount)\n",
        "  else:\n",
        "    loss += 1\n",
        "    losstable.append(sum)\n",
        "\n",
        "print(\"--------------\"+\"Poker Deck\"+\"--------------\")\n",
        "print(\"Games won: \", win, \"Games lost: \", loss)\n",
        "print(\"Percentage of Winning Games Overall: \", (win/n)*100,\"%\")\n",
        "\n",
        "bin = max(winamount)-min(winamount)+1\n",
        "plt.hist(winamount, bins=bin)\n",
        "plt.title('Experimental Distribution of Amount of Cards Required to sum 21')\n",
        "plt.xlabel('Amount of Cards')\n",
        "plt.ylabel('Amount of Instances')\n",
        "plt.show()"
      ],
      "execution_count": null,
      "outputs": [
        {
          "output_type": "stream",
          "text": [
            "--------------Poker Deck--------------\n",
            "Games won:  1436 Games lost:  8564\n",
            "Percentage of Winning Games Overall:  14.360000000000001 %\n"
          ],
          "name": "stdout"
        },
        {
          "output_type": "display_data",
          "data": {
            "image/png": "[encoded data removed]",
            "text/plain": [
              "<Figure size 432x288 with 1 Axes>"
            ]
          },
          "metadata": {
            "tags": [],
            "needs_background": "light"
          }
        }
      ]
    },
    {
      "cell_type": "code",
      "metadata": {
        "id": "pUB1wz0HjhN0",
        "colab_type": "code",
        "colab": {
          "base_uri": "https://localhost:8080/",
          "height": 295
        },
        "outputId": "a30071b8-6d07-4e86-a6a0-361ddfe54462"
      },
      "source": [
        "#The amount that made us lose the most\n",
        "\n",
        "bin = max(deck)-1\n",
        "\n",
        "plt.hist(losstable, bins=bin, alpha=0.5)\n",
        "plt.hist(wintable, bins=1, alpha=0.5)\n",
        "plt.title('LOSSTABLE')\n",
        "plt.xlabel('sum')\n",
        "plt.ylabel('count')\n",
        "plt.show()"
      ],
      "execution_count": null,
      "outputs": [
        {
          "output_type": "display_data",
          "data": {
            "image/png": "[encoded data removed]",
            "text/plain": [
              "<Figure size 432x288 with 1 Axes>"
            ]
          },
          "metadata": {
            "tags": [],
            "needs_background": "light"
          }
        }
      ]
    },
    {
      "cell_type": "markdown",
      "metadata": {
        "id": "qtTNJPLuTZ9C",
        "colab_type": "text"
      },
      "source": [
        "# 1.2 Baraja española aleatoria"
      ]
    },
    {
      "cell_type": "code",
      "metadata": {
        "id": "lixA7tbCTAfJ",
        "colab_type": "code",
        "colab": {
          "base_uri": "https://localhost:8080/",
          "height": 346
        },
        "outputId": "86cd547e-44a4-496e-b45a-d958863c4f3e"
      },
      "source": [
        "# Initialize Tables\n",
        "deck = [1,2,3,4,5,6,7,10,11,12,1,2,3,4,5,6,7,8,9,10,11,12,1,2,3,4,5,6,7,8,9,10,11,12,1,2,3,4,5,6,7,8,9,10,11,12]\n",
        "losstable = []\n",
        "wintable = []\n",
        "winamount = []\n",
        "\n",
        "# Initialize Variables \n",
        "n = 10000\n",
        "win = 0\n",
        "loss = 0\n",
        "\n",
        "# Main Game Loop\n",
        "for i in range(n):\n",
        "\n",
        "  # Reinitialize sum and amount of cards.\n",
        "  s = 0\n",
        "  a = 0\n",
        "\n",
        "  # Copy original deck to a temporary one\n",
        "  deckt = list(deck)\n",
        "\n",
        "  # Card Drawing Loop\n",
        "  while s < 21:\n",
        "    # Draw card from temporary deck at random, remove it from the deck, add its value to s, and increment amount of cards drawn.\n",
        "    x = rng.choice(deckt)\n",
        "    deckt.remove(x)\n",
        "    s += x\n",
        "    a += 1\n",
        "\n",
        "  # Once the sum is 21 or greater, update either the win table or the loss table. If a game is won, update the list of the amount of cards needed to win.\n",
        "  if(s == 21):\n",
        "    win += 1\n",
        "    wintable.append(s)\n",
        "    winamount.append(a)\n",
        "  else:\n",
        "    loss += 1\n",
        "    losstable.append(s)\n",
        "\n",
        "print(\"--------------\"+\"Spanish Deck\"+\"--------------\")\n",
        "print(\"Games won: \", win, \"Games lost: \", loss)\n",
        "print(\"Percentage of Winning Games Overall: \", (win/n)*100,\"%\")\n",
        "\n",
        "bin = max(winamount)-min(winamount)+1\n",
        "plt.hist(winamount, bins=bin)\n",
        "plt.title('Experimental Distribution of Amount of Cards Required to sum 21')\n",
        "plt.xlabel('Amount of Cards')\n",
        "plt.ylabel('Amount of Instances')\n",
        "plt.show()"
      ],
      "execution_count": null,
      "outputs": [
        {
          "output_type": "stream",
          "text": [
            "--------------Spanish Deck--------------\n",
            "Games won:  1595 Games lost:  8405\n",
            "Percentage of Winning Games Overall:  15.950000000000001 %\n"
          ],
          "name": "stdout"
        },
        {
          "output_type": "display_data",
          "data": {
            "image/png": "[encoded data removed]",
            "text/plain": [
              "<Figure size 432x288 with 1 Axes>"
            ]
          },
          "metadata": {
            "tags": [],
            "needs_background": "light"
          }
        }
      ]
    },
    {
      "cell_type": "code",
      "metadata": {
        "id": "UcfV05kekGlp",
        "colab_type": "code",
        "colab": {
          "base_uri": "https://localhost:8080/",
          "height": 295
        },
        "outputId": "8696e19f-687e-43b8-b87a-6900cdb5cdfb"
      },
      "source": [
        "#The amount that made us lose the most\n",
        "\n",
        "bin = max(deck)-1\n",
        "\n",
        "plt.hist(losstable, bins=bin, alpha=0.5)\n",
        "plt.hist(wintable, bins=1, alpha=0.5)\n",
        "plt.title('LOSSTABLE')\n",
        "plt.xlabel('sum')\n",
        "plt.ylabel('count')\n",
        "plt.show()"
      ],
      "execution_count": null,
      "outputs": [
        {
          "output_type": "display_data",
          "data": {
            "image/png": "[encoded data removed]",
            "text/plain": [
              "<Figure size 432x288 with 1 Axes>"
            ]
          },
          "metadata": {
            "tags": [],
            "needs_background": "light"
          }
        }
      ]
    },
    {
      "cell_type": "markdown",
      "metadata": {
        "id": "pa_S0Z_vYPTL",
        "colab_type": "text"
      },
      "source": [
        "# 2.1. Baraja de Poker (10)"
      ]
    },
    {
      "cell_type": "code",
      "metadata": {
        "id": "2drFWBt3XGp-",
        "colab_type": "code",
        "colab": {
          "base_uri": "https://localhost:8080/",
          "height": 346
        },
        "outputId": "8a8b1e5c-502d-40f3-d17c-cb2a902086b6"
      },
      "source": [
        "# Initialize Tables\n",
        "deck = [1,2,3,4,5,6,7,8,9,10,10,10,10,1,2,3,4,5,6,7,8,9,10,10,10,10,1,2,3,4,5,6,7,8,9,10,10,10,10,1,2,3,4,5,6,7,8,9,10,10,10,10]\n",
        "losstable = []\n",
        "wintable = []\n",
        "winamount = []\n",
        "\n",
        "# Initialize Variables \n",
        "n = 10000\n",
        "win = 0\n",
        "loss = 0\n",
        "\n",
        "# Main Game Loop\n",
        "for i in range(n):\n",
        "\n",
        "  # Reinitialize sum and amount of cards.\n",
        "  s = 0\n",
        "  a = 0\n",
        "\n",
        "  # Copy original deck to a temporary one\n",
        "  deckt = list(deck)\n",
        "\n",
        "  # Card Drawing Loop\n",
        "  while s < 21:\n",
        "    # Draw card from temporary deck at random, remove it from the deck, add its value to s, and increment amount of cards drawn.\n",
        "    x = rng.choice(deckt)\n",
        "    deckt.remove(x)\n",
        "    s += x\n",
        "    a += 1\n",
        "\n",
        "  # Once the sum is 21 or greater, update either the win table or the loss table. If a game is won, update the list of the amount of cards needed to win.\n",
        "  if(s == 21):\n",
        "    win += 1\n",
        "    wintable.append(s)\n",
        "    winamount.append(a)\n",
        "  else:\n",
        "    loss += 1\n",
        "    losstable.append(s)\n",
        "\n",
        "print(\"--------------\"+\"Poker Deck (10)\"+\"--------------\")\n",
        "print(\"Games won: \", win, \"Games lost: \", loss)\n",
        "print(\"Percentage of Winning Games Overall: \", (win/n)*100,\"%\")\n",
        "\n",
        "bin = max(winamount)-min(winamount)+1\n",
        "plt.hist(winamount, bins=bin)\n",
        "plt.title('Experimental Distribution of Amount of Cards Required to sum 21')\n",
        "plt.xlabel('Amount of Cards')\n",
        "plt.ylabel('Amount of Instances')\n",
        "plt.show()"
      ],
      "execution_count": null,
      "outputs": [
        {
          "output_type": "stream",
          "text": [
            "--------------Poker Deck (10)--------------\n",
            "Games won:  1429 Games lost:  8571\n",
            "Percentage of Winning Games Overall:  14.29 %\n"
          ],
          "name": "stdout"
        },
        {
          "output_type": "display_data",
          "data": {
            "image/png": "[encoded data removed]",
            "text/plain": [
              "<Figure size 432x288 with 1 Axes>"
            ]
          },
          "metadata": {
            "tags": [],
            "needs_background": "light"
          }
        }
      ]
    },
    {
      "cell_type": "code",
      "metadata": {
        "id": "GB18BrT2kNuN",
        "colab_type": "code",
        "colab": {
          "base_uri": "https://localhost:8080/",
          "height": 295
        },
        "outputId": "eacbc110-1a6f-4bca-87a5-de602c7d2557"
      },
      "source": [
        "#The amount that made us lose the most\n",
        "\n",
        "bin = max(deck)-1\n",
        "\n",
        "plt.hist(losstable, bins=bin, alpha=0.5)\n",
        "plt.hist(wintable, bins=1, alpha=0.5)\n",
        "plt.title('LOSSTABLE')\n",
        "plt.xlabel('sum')\n",
        "plt.ylabel('count')\n",
        "plt.show()"
      ],
      "execution_count": null,
      "outputs": [
        {
          "output_type": "display_data",
          "data": {
            "image/png": "[encoded data removed]",
            "text/plain": [
              "<Figure size 432x288 with 1 Axes>"
            ]
          },
          "metadata": {
            "tags": [],
            "needs_background": "light"
          }
        }
      ]
    },
    {
      "cell_type": "markdown",
      "metadata": {
        "id": "u2EbtljiYjIx",
        "colab_type": "text"
      },
      "source": [
        "# 2.2. Baraja española (10)"
      ]
    },
    {
      "cell_type": "code",
      "metadata": {
        "id": "vmyRJXQfXF0W",
        "colab_type": "code",
        "colab": {
          "base_uri": "https://localhost:8080/",
          "height": 346
        },
        "outputId": "ae21ed3d-cade-4bf1-c6a8-b42ead380b73"
      },
      "source": [
        "# Initialize Tables\n",
        "deck = [1,2,3,4,5,6,7,8,9,10,10,10,1,2,3,4,5,6,7,8,9,10,10,10,1,2,3,4,5,6,7,8,9,10,10,10,1,2,3,4,5,6,7,8,9,10,10,10]\n",
        "losstable = []\n",
        "wintable = []\n",
        "winamount = []\n",
        "\n",
        "# Initialize Variables \n",
        "n = 10000\n",
        "win = 0\n",
        "loss = 0\n",
        "\n",
        "# Main Game Loop\n",
        "for i in range(n):\n",
        "\n",
        "  # Reinitialize sum and amount of cards.\n",
        "  s = 0\n",
        "  a = 0\n",
        "\n",
        "  # Copy original deck to a temporary one\n",
        "  deckt = list(deck)\n",
        "\n",
        "  # Card Drawing Loop\n",
        "  while s < 21:\n",
        "    # Draw card from temporary deck at random, remove it from the deck, add its value to s, and increment amount of cards drawn.\n",
        "    x = rng.choice(deckt)\n",
        "    deckt.remove(x)\n",
        "    s += x\n",
        "    a += 1\n",
        "\n",
        "  # Once the sum is 21 or greater, update either the win table or the loss table. If a game is won, update the list of the amount of cards needed to win.\n",
        "  if(s == 21):\n",
        "    win += 1\n",
        "    wintable.append(s)\n",
        "    winamount.append(a)\n",
        "  else:\n",
        "    loss += 1\n",
        "    losstable.append(s)\n",
        "\n",
        "print(\"--------------\"+\"Spanish Deck (10)\"+\"--------------\")\n",
        "print(\"Games won: \", win, \"Games lost: \", loss)\n",
        "print(\"Percentage of Winning Games Overall: \", (win/n)*100,\"%\")\n",
        "\n",
        "bin = max(winamount)-min(winamount)+1\n",
        "plt.hist(winamount, bins=bin)\n",
        "plt.title('Experimental Distribution of Amount of Cards Required to sum 21')\n",
        "plt.xlabel('Amount of Cards')\n",
        "plt.ylabel('Amount of Instances')\n",
        "plt.show()"
      ],
      "execution_count": null,
      "outputs": [
        {
          "output_type": "stream",
          "text": [
            "--------------Spanish Deck (10)--------------\n",
            "Games won:  1498 Games lost:  8502\n",
            "Percentage of Winning Games Overall:  14.979999999999999 %\n"
          ],
          "name": "stdout"
        },
        {
          "output_type": "display_data",
          "data": {
            "image/png": "[encoded data removed]",
            "text/plain": [
              "<Figure size 432x288 with 1 Axes>"
            ]
          },
          "metadata": {
            "tags": [],
            "needs_background": "light"
          }
        }
      ]
    },
    {
      "cell_type": "code",
      "metadata": {
        "id": "DHNSi2MwkoDJ",
        "colab_type": "code",
        "colab": {
          "base_uri": "https://localhost:8080/",
          "height": 295
        },
        "outputId": "1737d407-ea80-4e08-9c2d-f377c677f23d"
      },
      "source": [
        "#The amount that made us lose the most\n",
        "\n",
        "bin = max(deck)-1\n",
        "\n",
        "plt.hist(losstable, bins=bin, alpha=0.5)\n",
        "plt.hist(wintable, bins=1, alpha=0.5)\n",
        "plt.title('LOSSTABLE')\n",
        "plt.xlabel('sum')\n",
        "plt.ylabel('count')\n",
        "plt.show()"
      ],
      "execution_count": null,
      "outputs": [
        {
          "output_type": "display_data",
          "data": {
            "image/png": "[encoded data removed]",
            "text/plain": [
              "<Figure size 432x288 with 1 Axes>"
            ]
          },
          "metadata": {
            "tags": [],
            "needs_background": "light"
          }
        }
      ]
    },
    {
      "cell_type": "markdown",
      "metadata": {
        "id": "gWL1_Cirfl2U",
        "colab_type": "text"
      },
      "source": [
        "# 3.1 Baraja de poker n/2 "
      ]
    },
    {
      "cell_type": "code",
      "metadata": {
        "id": "0O8MjSuBfmUQ",
        "colab_type": "code",
        "colab": {
          "base_uri": "https://localhost:8080/",
          "height": 346
        },
        "outputId": "8bcd8df5-527d-4095-f6b6-f14fc851d046"
      },
      "source": [
        "# Initialize Tables\n",
        "\n",
        "deck = [1,2,3,4,6,8,9,10,11,12,13,1,2,3,4,5,6,8,9,10,11,12,13,1,2,3,4,5,6,7,8,9,10,11,12,13,1,2,3,4,5,6,7,8,9,10,11,12,13]\n",
        "losstable = []\n",
        "wintable = []\n",
        "winamount = []\n",
        "\n",
        "# Initialize Variables\n",
        "n = 10000\n",
        "win = 0\n",
        "loss = 0\n",
        "\n",
        "# Begin game loop\n",
        "for i in range(n):\n",
        "  deck2=list(deck)\n",
        "  while len(deck2)>26:\n",
        "    deck2.pop(rng.randint(0,len(deck2)-1))\n",
        "# Start with a hand of 19\n",
        "  s = 19\n",
        "  amount = 3\n",
        "  deck2 = list(deck)\n",
        "  while s < 21:\n",
        "    x = deck2.pop(rng.randint(0,len(deck2)-1))\n",
        "    s += x\n",
        "    amount += 1\n",
        "# Verify if the sum is 21\n",
        "  if(s == 21):\n",
        "    win += 1\n",
        "    wintable.append(s)\n",
        "    winamount.append(amount)\n",
        "  else:\n",
        "    loss += 1\n",
        "    losstable.append(s)\n",
        "\n",
        "print(\"--------------\"+\"Poker Deck [5,7,7] and n/2 \"+\"--------------\")\n",
        "print(\"win: \", win, \"loss \", loss)\n",
        "print(\"percentage: \", (win/n)*100,\"%\")\n",
        "\n",
        "bin = max(winamount)-min(winamount)+1\n",
        "plt.hist(winamount,bins=bin)\n",
        "plt.title('Experimental Distribution of Amount of Cards Required to sum 21')\n",
        "plt.xlabel('Amount of Cards')\n",
        "plt.ylabel('Amount of Instances')\n",
        "plt.show()\n",
        "\n"
      ],
      "execution_count": null,
      "outputs": [
        {
          "output_type": "stream",
          "text": [
            "--------------Poker Deck [5,7,7] and n/2 --------------\n",
            "win:  862 loss  9138\n",
            "percentage:  8.62 %\n"
          ],
          "name": "stdout"
        },
        {
          "output_type": "display_data",
          "data": {
            "image/png": "[encoded data removed]",
            "text/plain": [
              "<Figure size 432x288 with 1 Axes>"
            ]
          },
          "metadata": {
            "tags": [],
            "needs_background": "light"
          }
        }
      ]
    },
    {
      "cell_type": "markdown",
      "metadata": {
        "id": "4L-RhXlW8dhH",
        "colab_type": "text"
      },
      "source": [
        "#4.1 Hot Deck\n",
        "The best winning probabilty is $0.\\overline{42}$:\n",
        "$$\\frac{4}{12}+\\frac{4}{12}\\cdot\\frac{3}{11}=\\frac{4}{12}+\\frac{1}{11}=\\frac{14}{33}=0.\\overline{42}$$\n",
        "In this deck there are four cards with a value of $2$ and four cards with a value of $1$. So, the winning probability is $\\frac{4}{12}$ if we obtain a $2$, on the other hand, we should obtain two consecutive times a $1$, this probability is $\\frac{4}{12}\\cdot\\frac{1}{11}$."
      ]
    },
    {
      "cell_type": "code",
      "metadata": {
        "id": "G9KD00lJ8h5s",
        "colab_type": "code",
        "colab": {
          "base_uri": "https://localhost:8080/",
          "height": 346
        },
        "outputId": "7ce3dc52-9fc3-4e28-d46f-9bfd7e175e3d"
      },
      "source": [
        "# Initialize Tables\n",
        "hotdeck = [1,1,1,1,2,2,2,2,13,13,13,13]\n",
        "losstable = []\n",
        "wintable = []\n",
        "winamount = []\n",
        "\n",
        "# Initialize Variables \n",
        "n = 10000\n",
        "win = 0\n",
        "loss = 0\n",
        "\n",
        "# Main Game Loop\n",
        "for i in range(n):\n",
        "\n",
        "  # Reinitialize sum and amount of cards.\n",
        "  sum = 19\n",
        "  amount = 3\n",
        "\n",
        "  # Copy original deck to a temporary one\n",
        "  deckt = list(hotdeck)\n",
        "\n",
        "  # Card Drawing Loop\n",
        "  while sum < 21:\n",
        "    # Draw card at random from temporary deck, remove it from the deck, add its value to s, and increment the amount of cards drawn.\n",
        "    x = rng.choice(deckt)\n",
        "    deckt.remove(x)\n",
        "    sum += x\n",
        "    amount += 1\n",
        "\n",
        "  # Once the sum is 21 or greater, update either the win table or the loss table. If a game is won, update the list of the amount of cards needed to win.\n",
        "  if(sum == 21):\n",
        "    win += 1\n",
        "    wintable.append(sum)\n",
        "    winamount.append(amount)\n",
        "  else:\n",
        "    loss += 1\n",
        "    losstable.append(sum)\n",
        "\n",
        "print(\"--------------\"+\"Poker Deck\"+\"--------------\")\n",
        "print(\"Games won: \", win, \"Games lost: \", loss)\n",
        "print(\"Percentage of Winning Games Overall: \", (win/n)*100,\"%\")\n",
        "\n",
        "bin = max(winamount)-min(winamount)+1\n",
        "plt.hist(winamount, bins=bin)\n",
        "plt.title('Experimental Distribution of Amount of Cards Required to sum 21')\n",
        "plt.xlabel('Amount of Cards')\n",
        "plt.ylabel('Amount of Instances')\n",
        "plt.show()"
      ],
      "execution_count": null,
      "outputs": [
        {
          "output_type": "stream",
          "text": [
            "--------------Poker Deck--------------\n",
            "Games won:  4248 Games lost:  5752\n",
            "Percentage of Winning Games Overall:  42.480000000000004 %\n"
          ],
          "name": "stdout"
        },
        {
          "output_type": "display_data",
          "data": {
            "image/png": "[encoded data removed]",
            "text/plain": [
              "<Figure size 432x288 with 1 Axes>"
            ]
          },
          "metadata": {
            "tags": [],
            "needs_background": "light"
          }
        }
      ]
    },
    {
      "cell_type": "markdown",
      "metadata": {
        "id": "JBSu8G4pAJtN",
        "colab_type": "text"
      },
      "source": [
        "#5.1 Ben's weekly plays, Poker"
      ]
    },
    {
      "cell_type": "code",
      "metadata": {
        "id": "ZbBdtzJVAL4H",
        "colab_type": "code",
        "colab": {}
      },
      "source": [
        "def hotDeck():\n",
        "  global winamount\n",
        "  # Initialize Tables\n",
        "  hotDeck = [1,1,1,1,2,2,2,2,13,13,13,13]\n",
        "  # Reinitialize sum and amount of cards.\n",
        "  sum = 19\n",
        "  amount = 3\n",
        "  # Card Drawing Loop\n",
        "  while sum < 21:\n",
        "    # Draw card from temporary deck at random, remove it from the deck, add its value to s, and increment amount of cards drawn.\n",
        "    x = hotDeck.pop(rng.randint(0,len(hotDeck)-1))\n",
        "    sum += x\n",
        "    amount += 1\n",
        "  # Once the sum is 21 or greater, update either the win table or the loss table. If a game is won, update the list of the amount of cards needed to win.\n",
        "  if(sum == 21):\n",
        "    winamount.append(amount)\n",
        "    return True\n",
        "  else:\n",
        "    return False\n",
        "\n",
        "def coldDeck():\n",
        "  global winamount\n",
        "  coldDeck = [1,2,3,4,5,6,7,8,9,10,11,12,13,1,2,3,4,5,6,7,8,9,10,11,12,13,1,2,3,4,5,6,7,8,9,10,11,12,13,1,2,3,4,5,6,7,8,9,10,11,12,13]\n",
        "  # Reinitialize sum and amount of cards.\n",
        "  sum = 0\n",
        "  amount = 0\n",
        "  # Card Drawing Loop\n",
        "  while sum < 21:\n",
        "    # Draw card from temporary deck at random, remove it from the deck, add its value to s, and increment amount of cards drawn.\n",
        "    x = coldDeck.pop(rng.randint(0,len(coldDeck)-1))\n",
        "    sum += x\n",
        "    amount += 1\n",
        "  # Once the sum is 21 or greater, update either the win table or the loss table. If a game is won, update the list of the amount of cards needed to win.\n",
        "  if(sum == 21):\n",
        "    winamount.append(amount)\n",
        "    return True\n",
        "  else:\n",
        "    return False"
      ],
      "execution_count": null,
      "outputs": []
    },
    {
      "cell_type": "code",
      "metadata": {
        "id": "WysDIFwOAdxa",
        "colab_type": "code",
        "colab": {
          "base_uri": "https://localhost:8080/",
          "height": 329
        },
        "outputId": "16aafcda-5f04-41e7-c2ae-7a696e392bc1"
      },
      "source": [
        "# Initialize Table\n",
        "winamount = []\n",
        "# Initialize Values\n",
        "balanceTotal = 0\n",
        "n = 10000\n",
        "# Experimental Loop\n",
        "for j in range(n):\n",
        "  # Initialize Individual Balance\n",
        "  balance = 0\n",
        "  # Game Loop\n",
        "  for i in range(600):\n",
        "    # Check for given probability\n",
        "    if rng.randint(0,9) < 1:\n",
        "      # Change balance according to the game's result\n",
        "      if hotDeck():\n",
        "        balance += 1000\n",
        "      else:\n",
        "        balance -= 1000\n",
        "    else:\n",
        "      # Change balance according to the game's result\n",
        "      if coldDeck():\n",
        "        balance += 10\n",
        "      else:\n",
        "        balance -= 10\n",
        "  # Update the total balance\n",
        "  balanceTotal += balance\n",
        "\n",
        "print(\"--------------\"+\"Poker Deck\"+\"--------------\")\n",
        "print(\"Ben's estimated balance after playing for a weekend:\", str(balanceTotal/n) +\"$\")\n",
        "\n",
        "bin = max(winamount)-min(winamount)+1\n",
        "plt.hist(winamount, bins=bin)\n",
        "plt.title('Experimental Distribution of Amount of Cards Required to sum 21')\n",
        "plt.xlabel('Amount of Cards')\n",
        "plt.ylabel('Amount of Instances')\n",
        "plt.show()"
      ],
      "execution_count": null,
      "outputs": [
        {
          "output_type": "stream",
          "text": [
            "--------------Poker Deck--------------\n",
            "Ben's estimated balance after playing for a weekend: -12809.184$\n"
          ],
          "name": "stdout"
        },
        {
          "output_type": "display_data",
          "data": {
            "image/png": "[encoded data removed]",
            "text/plain": [
              "<Figure size 432x288 with 1 Axes>"
            ]
          },
          "metadata": {
            "tags": [],
            "needs_background": "light"
          }
        }
      ]
    },
    {
      "cell_type": "markdown",
      "metadata": {
        "id": "NSB9BVbC1XN5",
        "colab_type": "text"
      },
      "source": [
        "#5.2 Ben's weekly plays, Spanish"
      ]
    },
    {
      "cell_type": "code",
      "metadata": {
        "id": "TUlU7jdTHEux",
        "colab_type": "code",
        "colab": {}
      },
      "source": [
        "def hotDeck2():\n",
        "  global winamount\n",
        "  # Initialize Tables\n",
        "  hotDeck = [1,1,1,1,2,2,2,2,12,12,12,12]\n",
        "  # Reinitialize sum and amount of cards.\n",
        "  sum = 19\n",
        "  amount = 3\n",
        "  # Card Drawing Loop\n",
        "  while sum < 21:\n",
        "    # Draw card from temporary deck at random, remove it from the deck, add its value to s, and increment amount of cards drawn.\n",
        "    x = hotDeck.pop(rng.randint(0,len(hotDeck)-1))\n",
        "    sum += x\n",
        "    amount += 1\n",
        "  # Once the sum is 21 or greater, update either the win table or the loss table. If a game is won, update the list of the amount of cards needed to win.\n",
        "  if(sum == 21):\n",
        "    winamount.append(amount)\n",
        "    return True\n",
        "  else:\n",
        "    return False\n",
        "\n",
        "def coldDeck2():\n",
        "  global winamount\n",
        "  coldDeck = [1,2,3,4,5,6,7,10,11,12,1,2,3,4,5,6,7,8,9,10,11,12,1,2,3,4,5,6,7,8,9,10,11,12,1,2,3,4,5,6,7,8,9,10,11,12]\n",
        "  # Reinitialize sum and amount of cards.\n",
        "  sum = 0\n",
        "  amount = 0\n",
        "  # Card Drawing Loop\n",
        "  while sum < 21:\n",
        "    # Draw card from temporary deck at random, remove it from the deck, add its value to s, and increment amount of cards drawn.\n",
        "    x = coldDeck.pop(rng.randint(0,len(coldDeck)-1))\n",
        "    sum += x\n",
        "    amount += 1\n",
        "  # Once the sum is 21 or greater, update either the win table or the loss table. If a game is won, update the list of the amount of cards needed to win.\n",
        "  if(sum == 21):\n",
        "    winamount.append(amount)\n",
        "    return True\n",
        "  else:\n",
        "    return False"
      ],
      "execution_count": null,
      "outputs": []
    },
    {
      "cell_type": "code",
      "metadata": {
        "id": "nZ48K3upHFDd",
        "colab_type": "code",
        "colab": {
          "base_uri": "https://localhost:8080/",
          "height": 329
        },
        "outputId": "90710285-3bb7-46da-a1c0-602309bd38e8"
      },
      "source": [
        "# Initialize Table\n",
        "winamount = []\n",
        "# Initialize Values\n",
        "balanceTotal = 0\n",
        "n = 10000\n",
        "# Experimental Loop\n",
        "for j in range(n):\n",
        "  # Initialize Individual Balance\n",
        "  balance = 0\n",
        "  # Game Loop\n",
        "  for i in range(600):\n",
        "    # Check for given probability\n",
        "    if rng.randint(0,9) < 1:\n",
        "      # Change balance according to the game's result\n",
        "      if hotDeck2():\n",
        "        balance += 1000\n",
        "      else:\n",
        "        balance -= 1000\n",
        "    else:\n",
        "      # Change balance according to the game's result\n",
        "      if coldDeck2():\n",
        "        balance += 10\n",
        "      else:\n",
        "        balance -= 10\n",
        "  # Update the total balance\n",
        "  balanceTotal += balance\n",
        "\n",
        "print(\"--------------\"+\"Spanish Deck\"+\"--------------\")\n",
        "print(\"Ben's estimated balance after playing for a weekend:\", str(balanceTotal/n) +\"$\")\n",
        "\n",
        "bin = max(winamount)-min(winamount)+1\n",
        "plt.hist(winamount, bins=bin)\n",
        "plt.title('Experimental Distribution of Amount of Cards Required to sum 21')\n",
        "plt.xlabel('Amount of Cards')\n",
        "plt.ylabel('Amount of Instances')\n",
        "plt.show()"
      ],
      "execution_count": null,
      "outputs": [
        {
          "output_type": "stream",
          "text": [
            "--------------Spanish Deck--------------\n",
            "Ben's estimated balance after playing for a weekend: -12743.428$\n"
          ],
          "name": "stdout"
        },
        {
          "output_type": "display_data",
          "data": {
            "image/png": "[encoded data removed]",
            "text/plain": [
              "<Figure size 432x288 with 1 Axes>"
            ]
          },
          "metadata": {
            "tags": [],
            "needs_background": "light"
          }
        }
      ]
    }
  ]
}