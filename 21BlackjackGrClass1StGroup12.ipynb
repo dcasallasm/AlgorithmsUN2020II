{
  "nbformat": 4,
  "nbformat_minor": 0,
  "metadata": {
    "colab": {
      "name": "21BlackjackGrClass1StGroup12.ipynb",
      "provenance": [],
      "collapsed_sections": []
    },
    "kernelspec": {
      "name": "python3",
      "display_name": "Python 3"
    }
  },
  "cells": [
    {
      "cell_type": "code",
      "metadata": {
        "id": "Gmgu2xGhfPr9"
      },
      "source": [
        "import random as rng\n",
        "from matplotlib import pyplot as plt"
      ],
      "execution_count": null,
      "outputs": []
    },
    {
      "cell_type": "markdown",
      "metadata": {
        "id": "FDAYdcr6Ra7m"
      },
      "source": [
        "#1"
      ]
    },
    {
      "cell_type": "markdown",
      "metadata": {
        "id": "qtTNJPLuTZ9C"
      },
      "source": [
        "## 1.1 Spanish Deck"
      ]
    },
    {
      "cell_type": "code",
      "metadata": {
        "id": "lixA7tbCTAfJ",
        "outputId": "269be4f0-12a0-493d-a651-867406b7ca6c",
        "colab": {
          "base_uri": "https://localhost:8080/",
          "height": 363
        }
      },
      "source": [
        "# Initialize Tables\n",
        "deck = [1,2,3,4,5,6,7,8,9,10,11,12,1,2,3,4,5,6,7,8,9,10,11,12,1,2,3,4,5,6,7,8,9,10,11,12,1,2,3,4,5,6,7,8,9,10,11,12]\n",
        "winamount = []\n",
        "\n",
        "# Initialize Variables \n",
        "n = 10000000\n",
        "win = 0\n",
        "loss = 0\n",
        "\n",
        "# Main Game Loop\n",
        "for i in range(n):\n",
        "\n",
        "  # Initialize sum and amount of cards.\n",
        "  s = 0\n",
        "  a = 0\n",
        "\n",
        "  # Copy original deck to a temporary one\n",
        "  deckt = list(deck)\n",
        "\n",
        "  # Card Drawing Loop\n",
        "  while s < 21:\n",
        "    \n",
        "    # Draw card from temporary deck at random, remove it from the deck, add its value to s, and increment amount of cards drawn.\n",
        "    x = rng.choice(deckt)\n",
        "    deckt.remove(x)\n",
        "    s += x\n",
        "    a += 1\n",
        "\n",
        "  # If a game is won, update the list of the amount of cards needed to win.\n",
        "  if(s == 21):\n",
        "    win += 1\n",
        "    winamount.append(a)\n",
        "  else:\n",
        "    loss += 1\n",
        "\n",
        "print(\"--------------\"+\"Spanish Deck\"+\"--------------\")\n",
        "print(\"Games won:\", win, \"Games lost:\", loss)\n",
        "print(\"Probability of Getting a 21:\", round(((win/n)*100), 2),\"%\")\n",
        "print(\"Average Number of Cards Required to Complete 21:\", round((sum(winamount) / len(winamount)), 2))\n",
        "\n",
        "bin = max(winamount)-min(winamount)+1\n",
        "plt.hist(winamount, bins=bin)\n",
        "plt.title('Experimental Distribution of Number of Cards Required to sum 21')\n",
        "plt.xlabel('Amount of Cards')\n",
        "plt.ylabel('Amount of Instances')\n",
        "plt.show()"
      ],
      "execution_count": null,
      "outputs": [
        {
          "output_type": "stream",
          "text": [
            "--------------Spanish Deck--------------\n",
            "Games won: 1577499 Games lost: 8422501\n",
            "Probability of Getting a 21: 15.77 %\n",
            "Average Number of Cards Required to Complete 21: 3.42\n"
          ],
          "name": "stdout"
        },
        {
          "output_type": "display_data",
          "data": {
            "image/png": "[encoded data removed]",
            "text/plain": [
              "<Figure size 432x288 with 1 Axes>"
            ]
          },
          "metadata": {
            "tags": [],
            "needs_background": "light"
          }
        }
      ]
    },
    {
      "cell_type": "markdown",
      "metadata": {
        "id": "biLQyRevTVKc"
      },
      "source": [
        "## 1.2 Poker Deck\n"
      ]
    },
    {
      "cell_type": "code",
      "metadata": {
        "id": "VXtRNJNGl0b9",
        "outputId": "9b3fb2f5-4df6-479d-cd76-587e89926fc9",
        "colab": {
          "base_uri": "https://localhost:8080/",
          "height": 363
        }
      },
      "source": [
        "# Initialize Tables\n",
        "deck = [1,2,3,4,5,6,7,8,9,10,11,12,13,1,2,3,4,5,6,7,8,9,10,11,12,13,1,2,3,4,5,6,7,8,9,10,11,12,13,1,2,3,4,5,6,7,8,9,10,11,12,13]\n",
        "winamount = []\n",
        "\n",
        "# Initialize Variables \n",
        "n = 10000000\n",
        "win = 0\n",
        "loss = 0\n",
        "\n",
        "# Main Game Loop\n",
        "for i in range(n):\n",
        "\n",
        "  # Initialize sum and amount of cards.\n",
        "  s = 0\n",
        "  amount = 0\n",
        "\n",
        "  # Copy original deck to a temporary one\n",
        "  deckt = list(deck)\n",
        "\n",
        "  # Card Drawing Loop\n",
        "  while s < 21:\n",
        "    \n",
        "    # Draw card from temporary deck at random, remove it from the deck, add its value to s, and increment amount of cards drawn.\n",
        "    x = rng.choice(deckt)\n",
        "    deckt.remove(x)\n",
        "    s += x\n",
        "    amount += 1\n",
        "\n",
        "  # If a game is won, update the list of the amount of cards needed to win.\n",
        "  if(s == 21):\n",
        "    win += 1\n",
        "    winamount.append(amount)\n",
        "  else:\n",
        "    loss += 1\n",
        "\n",
        "print(\"--------------\"+\"Poker Deck\"+\"--------------\")\n",
        "print(\"Games won:\", win, \"Games lost:\", loss)\n",
        "print(\"Probability of Getting a 21:\", round(((win/n)*100), 2),\"%\")\n",
        "print(\"Average Number of Cards Required to Complete 21:\", round((sum(winamount) / len(winamount)), 2))\n",
        "\n",
        "bin = max(winamount)-min(winamount)+1\n",
        "plt.hist(winamount, bins=bin)\n",
        "plt.title('Experimental Distribution of Number of Cards Required to sum 21')\n",
        "plt.xlabel('Amount of Cards')\n",
        "plt.ylabel('Amount of Instances')\n",
        "plt.show()"
      ],
      "execution_count": null,
      "outputs": [
        {
          "output_type": "stream",
          "text": [
            "--------------Poker Deck--------------\n",
            "Games won: 1447216 Games lost: 8552784\n",
            "Probability of Getting a 21: 14.47 %\n",
            "Average Number of Cards Required to Complete 21: 3.22\n"
          ],
          "name": "stdout"
        },
        {
          "output_type": "display_data",
          "data": {
            "image/png": "[encoded data removed]",
            "text/plain": [
              "<Figure size 432x288 with 1 Axes>"
            ]
          },
          "metadata": {
            "tags": [],
            "needs_background": "light"
          }
        }
      ]
    },
    {
      "cell_type": "markdown",
      "metadata": {
        "id": "8zKOv2kgR7ob"
      },
      "source": [
        "#2 (10s)"
      ]
    },
    {
      "cell_type": "markdown",
      "metadata": {
        "id": "u2EbtljiYjIx"
      },
      "source": [
        "## 2.1 Spanish Deck"
      ]
    },
    {
      "cell_type": "code",
      "metadata": {
        "id": "vmyRJXQfXF0W",
        "outputId": "b70b1ef6-2b30-4fb7-eae7-1f92599f7eb9",
        "colab": {
          "base_uri": "https://localhost:8080/",
          "height": 363
        }
      },
      "source": [
        "# Initialize Tables\n",
        "deck = [1,2,3,4,5,6,7,8,9,10,10,10,1,2,3,4,5,6,7,8,9,10,10,10,1,2,3,4,5,6,7,8,9,10,10,10,1,2,3,4,5,6,7,8,9,10,10,10]\n",
        "winamount = []\n",
        "\n",
        "# Initialize Variables \n",
        "n = 10000000\n",
        "win = 0\n",
        "loss = 0\n",
        "\n",
        "# Main Game Loop\n",
        "for i in range(n):\n",
        "\n",
        "  # Initialize sum and amount of cards.\n",
        "  s = 0\n",
        "  a = 0\n",
        "\n",
        "  # Copy original deck to a temporary one\n",
        "  deckt = list(deck)\n",
        "\n",
        "  # Card Drawing Loop\n",
        "  while s < 21:\n",
        "    \n",
        "    # Draw card from temporary deck at random, remove it from the deck, add its value to s, and increment amount of cards drawn.\n",
        "    x = rng.choice(deckt)\n",
        "    deckt.remove(x)\n",
        "    s += x\n",
        "    a += 1\n",
        "\n",
        "  # If a game is won, update the list of the amount of cards needed to win.\n",
        "  if(s == 21):\n",
        "    win += 1\n",
        "    winamount.append(a)\n",
        "  else:\n",
        "    loss += 1\n",
        "\n",
        "print(\"--------------\"+\"Spanish Deck (10)\"+\"--------------\")\n",
        "print(\"Games won:\", win, \"Games lost:\", loss)\n",
        "print(\"Probability of Getting a 21:\", round(((win/n)*100), 2),\"%\")\n",
        "print(\"Average Number of Cards Required to Complete 21:\", round((sum(winamount) / len(winamount)), 2))\n",
        "\n",
        "bin = max(winamount)-min(winamount)+1\n",
        "plt.hist(winamount, bins=bin)\n",
        "plt.title('Experimental Distribution of Number of Cards Required to sum 21')\n",
        "plt.xlabel('Amount of Cards')\n",
        "plt.ylabel('Amount of Instances')\n",
        "plt.show()"
      ],
      "execution_count": null,
      "outputs": [
        {
          "output_type": "stream",
          "text": [
            "--------------Spanish Deck (10)--------------\n",
            "Games won: 1495630 Games lost: 8504370\n",
            "Probability of Getting a 21: 14.96 %\n",
            "Average Number of Cards Required to Complete 21: 3.7\n"
          ],
          "name": "stdout"
        },
        {
          "output_type": "display_data",
          "data": {
            "image/png": "[encoded data removed]",
            "text/plain": [
              "<Figure size 432x288 with 1 Axes>"
            ]
          },
          "metadata": {
            "tags": [],
            "needs_background": "light"
          }
        }
      ]
    },
    {
      "cell_type": "markdown",
      "metadata": {
        "id": "pa_S0Z_vYPTL"
      },
      "source": [
        "## 2.2 Poker Deck"
      ]
    },
    {
      "cell_type": "code",
      "metadata": {
        "id": "2drFWBt3XGp-",
        "outputId": "5fccb160-be3b-472f-e6bf-c56b36d5aedd",
        "colab": {
          "base_uri": "https://localhost:8080/",
          "height": 363
        }
      },
      "source": [
        "# Initialize Tables\n",
        "deck = [1,2,3,4,5,6,7,8,9,10,10,10,10,1,2,3,4,5,6,7,8,9,10,10,10,10,1,2,3,4,5,6,7,8,9,10,10,10,10,1,2,3,4,5,6,7,8,9,10,10,10,10]\n",
        "winamount = []\n",
        "\n",
        "# Initialize Variables \n",
        "n = 10000000\n",
        "win = 0\n",
        "loss = 0\n",
        "\n",
        "# Main Game Loop\n",
        "for i in range(n):\n",
        "\n",
        "  # Initialize sum and amount of cards.\n",
        "  s = 0\n",
        "  a = 0\n",
        "\n",
        "  # Copy original deck to a temporary one\n",
        "  deckt = list(deck)\n",
        "\n",
        "  # Card Drawing Loop\n",
        "  while s < 21:\n",
        "    \n",
        "    # Draw card from temporary deck at random, remove it from the deck, add its value to s, and increment amount of cards drawn.\n",
        "    x = rng.choice(deckt)\n",
        "    deckt.remove(x)\n",
        "    s += x\n",
        "    a += 1\n",
        "\n",
        "  # If a game is won, update the list of the amount of cards needed to win.\n",
        "  if(s == 21):\n",
        "    win += 1\n",
        "    winamount.append(a)\n",
        "  else:\n",
        "    loss += 1\n",
        "\n",
        "print(\"--------------\"+\"Poker Deck (10)\"+\"--------------\")\n",
        "print(\"Games won:\", win, \"Games lost:\", loss)\n",
        "print(\"Probability of Getting a 21:\", round(((win/n)*100), 2),\"%\")\n",
        "print(\"Average Number of Cards Required to Complete 21:\", round((sum(winamount) / len(winamount)), 2))\n",
        "\n",
        "bin = max(winamount)-min(winamount)+1\n",
        "plt.hist(winamount, bins=bin)\n",
        "plt.title('Experimental Distribution of Number of Cards Required to sum 21')\n",
        "plt.xlabel('Amount of Cards')\n",
        "plt.ylabel('Amount of Instances')\n",
        "plt.show()"
      ],
      "execution_count": null,
      "outputs": [
        {
          "output_type": "stream",
          "text": [
            "--------------Poker Deck (10)--------------\n",
            "Games won: 1402354 Games lost: 8597646\n",
            "Probability of Getting a 21: 14.02 %\n",
            "Average Number of Cards Required to Complete 21: 3.58\n"
          ],
          "name": "stdout"
        },
        {
          "output_type": "display_data",
          "data": {
            "image/png": "[encoded data removed]",
            "text/plain": [
              "<Figure size 432x288 with 1 Axes>"
            ]
          },
          "metadata": {
            "tags": [],
            "needs_background": "light"
          }
        }
      ]
    },
    {
      "cell_type": "markdown",
      "metadata": {
        "id": "7foqvZg3R_gA"
      },
      "source": [
        "#3 (n/2)"
      ]
    },
    {
      "cell_type": "markdown",
      "metadata": {
        "id": "_K4Cc9kvaOXj"
      },
      "source": [
        "## 3.1 Spanish Deck"
      ]
    },
    {
      "cell_type": "code",
      "metadata": {
        "id": "nXUEy7eoaS06",
        "outputId": "94782a8a-1480-4f5e-ddf7-01dbbd4152d3",
        "colab": {
          "base_uri": "https://localhost:8080/",
          "height": 363
        }
      },
      "source": [
        "# Initialize Tables\n",
        "deck = [1,2,3,4,5,6,7,8,9,10,10,10,1,2,3,4,5,6,7,8,9,10,10,10,1,2,3,4,5,6,7,8,9,10,10,10,1,2,3,4,5,6,7,8,9,10,10,10]\n",
        "\n",
        "# Remove half the cards from the deck\n",
        "while len(deck)>26:\n",
        "  deck.pop(rng.randint(0, len(deck)-1))\n",
        "\n",
        "winamount = []\n",
        "\n",
        "# Initialize Variables\n",
        "n = 10000000\n",
        "win = 0\n",
        "loss = 0\n",
        "\n",
        "# Begin game loop\n",
        "for i in range(n):\n",
        "\n",
        "  # Copy original deck to a temporary one\n",
        "  deck2=list(deck)\n",
        "\n",
        "  # Initialize sum and amount of cards.\n",
        "  s = 19\n",
        "  amount = 3\n",
        "\n",
        "  # Card Drawing Loop\n",
        "  while s < 21:\n",
        "    x = deck2.pop(rng.randint(0,len(deck2)-1))\n",
        "    s += x\n",
        "    amount += 1\n",
        "\n",
        "  # If a game is won, update the list of the amount of cards needed to win.\n",
        "  if(s == 21):\n",
        "    win += 1\n",
        "    winamount.append(amount)\n",
        "  else:\n",
        "    loss += 1\n",
        "\n",
        "print(\"--------------\"+\"Spanish Deck [7,7,5] and n/2 \"+\"--------------\")\n",
        "print(\"Games won:\", win, \"Games lost:\", loss)\n",
        "print(\"Probability of Getting a 21:\", round(((win/n)*100), 2),\"%\")\n",
        "print(\"Average Number of Cards Required to Complete 21:\", round((sum(winamount) / len(winamount)), 2))\n",
        "\n",
        "bin = max(winamount)-min(winamount)+1\n",
        "plt.hist(winamount, bins=bin)\n",
        "plt.title('Experimental Distribution of Number of Cards Required to sum 21')\n",
        "plt.xlabel('Amount of Cards')\n",
        "plt.ylabel('Amount of Instances')\n",
        "plt.show()"
      ],
      "execution_count": null,
      "outputs": [
        {
          "output_type": "stream",
          "text": [
            "--------------Spanish Deck [7,7,5] and n/2 --------------\n",
            "Games won: 799443 Games lost: 9200557\n",
            "Probability of Getting a 21: 7.99 %\n",
            "Average Number of Cards Required to Complete 21: 4.04\n"
          ],
          "name": "stdout"
        },
        {
          "output_type": "display_data",
          "data": {
            "image/png": "[encoded data removed]",
            "text/plain": [
              "<Figure size 432x288 with 1 Axes>"
            ]
          },
          "metadata": {
            "tags": [],
            "needs_background": "light"
          }
        }
      ]
    },
    {
      "cell_type": "markdown",
      "metadata": {
        "id": "gWL1_Cirfl2U"
      },
      "source": [
        "## 3.2 Poker Deck"
      ]
    },
    {
      "cell_type": "code",
      "metadata": {
        "id": "0O8MjSuBfmUQ",
        "outputId": "12c54b23-06d0-4602-9e77-89cdbf3affc0",
        "colab": {
          "base_uri": "https://localhost:8080/",
          "height": 363
        }
      },
      "source": [
        "# Initialize Tables\n",
        "deck = [1,2,3,4,5,6,7,8,9,10,10,10,10,1,2,3,4,5,6,7,8,9,10,10,10,10,1,2,3,4,5,6,7,8,9,10,10,10,10,1,2,3,4,5,6,7,8,9,10,10,10,10]\n",
        "\n",
        "# Remove half the cards from the deck\n",
        "while len(deck)>26:\n",
        "  deck.pop(rng.randint(0, len(deck)-1))\n",
        "\n",
        "winamount = []\n",
        "\n",
        "# Initialize Variables\n",
        "n = 10000000\n",
        "win = 0\n",
        "loss = 0\n",
        "\n",
        "# Begin game loop\n",
        "for i in range(n):\n",
        "\n",
        "  # Copy original deck to a temporary one\n",
        "  deck2=list(deck)\n",
        "\n",
        "  # Initialize sum and amount of cards.\n",
        "  s = 19\n",
        "  amount = 3\n",
        "\n",
        "  # Card Drawing Loop\n",
        "  while s < 21:\n",
        "    x = deck2.pop(rng.randint(0,len(deck2)-1))\n",
        "    s += x\n",
        "    amount += 1\n",
        "\n",
        "  # If a game is won, update the list of the amount of cards needed to win.\n",
        "  if(s == 21):\n",
        "    win += 1\n",
        "    winamount.append(amount)\n",
        "  else:\n",
        "    loss += 1\n",
        "\n",
        "print(\"--------------\"+\"Poker Deck [7,7,5] and n/2 \"+\"--------------\")\n",
        "print(\"Games won:\", win, \"Games lost:\", loss)\n",
        "print(\"Probability of Getting a 21:\", round(((win/n)*100), 2),\"%\")\n",
        "print(\"Average Number of Cards Required to Complete 21:\", round((sum(winamount) / len(winamount)), 2))\n",
        "\n",
        "bin = max(winamount)-min(winamount)+1\n",
        "plt.hist(winamount, bins=bin)\n",
        "plt.title('Experimental Distribution of Number of Cards Required to sum 21')\n",
        "plt.xlabel('Amount of Cards')\n",
        "plt.ylabel('Amount of Instances')\n",
        "plt.show()"
      ],
      "execution_count": null,
      "outputs": [
        {
          "output_type": "stream",
          "text": [
            "--------------Poker Deck [7,7,5] and n/2 --------------\n",
            "Games won: 860613 Games lost: 9139387\n",
            "Probability of Getting a 21: 8.61 %\n",
            "Average Number of Cards Required to Complete 21: 4.11\n"
          ],
          "name": "stdout"
        },
        {
          "output_type": "display_data",
          "data": {
            "image/png": "[encoded data removed]",
            "text/plain": [
              "<Figure size 432x288 with 1 Axes>"
            ]
          },
          "metadata": {
            "tags": [],
            "needs_background": "light"
          }
        }
      ]
    },
    {
      "cell_type": "markdown",
      "metadata": {
        "id": "1pD1lLd5SEsv"
      },
      "source": [
        "#4 Hot 'n Cold Decks"
      ]
    },
    {
      "cell_type": "markdown",
      "metadata": {
        "id": "K9NCbtxVbeZg"
      },
      "source": [
        "##4.1 (Spanish Decks)"
      ]
    },
    {
      "cell_type": "markdown",
      "metadata": {
        "id": "BmsMMOa0atVw"
      },
      "source": [
        "### 4.1.1 Hot Deck (12)\n",
        "The winning probabilty for the hot deck is $0.\\overline{42}$:\n",
        "$$\\frac{4}{12}+\\frac{4}{12}\\cdot\\frac{3}{11}=\\frac{4}{12}+\\frac{1}{11}=\\frac{14}{33}=0.\\overline{42}$$\n",
        "In this deck there are four cards with a value of $2$ and four cards with a value of $1$. So, the winning probability is $\\frac{4}{12}$ if we obtain a $2$, on the other hand, we should obtain two consecutive times a $1$, this probability is $\\frac{4}{12}\\cdot\\frac{3}{11}$."
      ]
    },
    {
      "cell_type": "code",
      "metadata": {
        "id": "V6Yh5Dzaax1T",
        "outputId": "f3bba614-d765-403f-f149-2176357cd551",
        "colab": {
          "base_uri": "https://localhost:8080/",
          "height": 363
        }
      },
      "source": [
        "# Initialize Tables\n",
        "hotdeck = [1,1,1,1,2,2,2,2,10,10,10,10]\n",
        "winamount = []\n",
        "\n",
        "# Initialize Variables \n",
        "n = 10000000\n",
        "win = 0\n",
        "loss = 0\n",
        "\n",
        "# Main Game Loop\n",
        "for i in range(n):\n",
        "\n",
        "  # Reinitialize sum and amount of cards.\n",
        "  s = 19\n",
        "  amount = 3\n",
        "\n",
        "  # Copy original deck to a temporary one\n",
        "  deckt = list(hotdeck)\n",
        "\n",
        "  # Card Drawing Loop\n",
        "  while s < 21:\n",
        "    \n",
        "    # Draw card at random from temporary deck, remove it from the deck, add its value to s, and increment the amount of cards drawn.\n",
        "    x = rng.choice(deckt)\n",
        "    deckt.remove(x)\n",
        "    s += x\n",
        "    amount += 1\n",
        "\n",
        "  # If a game is won, update the list of the amount of cards needed to win.\n",
        "  if(s == 21):\n",
        "    win += 1\n",
        "    winamount.append(amount)\n",
        "  else:\n",
        "    loss += 1\n",
        "\n",
        "print(\"--------------\"+\"Spanish Deck\"+\"--------------\")\n",
        "print(\"Games won:\", win, \"Games lost:\", loss)\n",
        "print(\"Probability of Getting a 21:\", round(((win/n)*100), 2),\"%\")\n",
        "print(\"Average Number of Cards Required to Complete 21:\", round((sum(winamount) / len(winamount)), 2))\n",
        "\n",
        "bin = max(winamount)-min(winamount)+1\n",
        "plt.hist(winamount, bins=bin)\n",
        "plt.title('Experimental Distribution of Number of Cards Required to sum 21')\n",
        "plt.xlabel('Amount of Cards')\n",
        "plt.ylabel('Amount of Instances')\n",
        "plt.show()"
      ],
      "execution_count": null,
      "outputs": [
        {
          "output_type": "stream",
          "text": [
            "--------------Spanish Deck--------------\n",
            "Games won: 4241509 Games lost: 5758491\n",
            "Probability of Getting a 21: 42.42 %\n",
            "Average Number of Cards Required to Complete 21: 4.21\n"
          ],
          "name": "stdout"
        },
        {
          "output_type": "display_data",
          "data": {
            "image/png": "[encoded data removed]",
            "text/plain": [
              "<Figure size 432x288 with 1 Axes>"
            ]
          },
          "metadata": {
            "tags": [],
            "needs_background": "light"
          }
        }
      ]
    },
    {
      "cell_type": "markdown",
      "metadata": {
        "id": "ZeFBhZBbbQ4W"
      },
      "source": [
        "### 4.1.2 Cold Deck (12)\n",
        "The winning probabilty for the cold deck is $0$. As no cards will allow a win."
      ]
    },
    {
      "cell_type": "code",
      "metadata": {
        "id": "O0OYwxbmbNTc",
        "outputId": "d0807d37-3522-413f-a7f7-0bdcfde44d72",
        "colab": {
          "base_uri": "https://localhost:8080/",
          "height": 85
        }
      },
      "source": [
        "# Initialize Tables\n",
        "colddeck = [10,10,10,10,10,10,10,10,10,10,10,10]\n",
        "winamount = []\n",
        "\n",
        "# Initialize Variables \n",
        "n = 10000000\n",
        "win = 0\n",
        "loss = 0\n",
        "\n",
        "# Main Game Loop\n",
        "for i in range(n):\n",
        "\n",
        "  # Reinitialize sum and amount of cards.\n",
        "  s = 19\n",
        "  amount = 3\n",
        "\n",
        "  # Copy original deck to a temporary one\n",
        "  deckt = list(colddeck)\n",
        "\n",
        "  # Card Drawing Loop\n",
        "  while s < 21:\n",
        "    \n",
        "    # Draw card at random from temporary deck, remove it from the deck, add its value to s, and increment the amount of cards drawn.\n",
        "    x = rng.choice(deckt)\n",
        "    deckt.remove(x)\n",
        "    s += x\n",
        "    amount += 1\n",
        "\n",
        "  # If a game is won, update the list of the amount of cards needed to win.\n",
        "  if(s == 21):\n",
        "    win += 1\n",
        "    winamount.append(amount)\n",
        "  else:\n",
        "    loss += 1\n",
        "\n",
        "print(\"--------------\"+\"Spanish Deck\"+\"--------------\")\n",
        "print(\"Games won:\", win, \"Games lost:\", loss)\n",
        "print(\"Probability of Getting a 21:\", round(((win/n)*100), 2),\"%\")\n",
        "print(\"Average Number of Cards Required to Complete 21:\", 0)"
      ],
      "execution_count": null,
      "outputs": [
        {
          "output_type": "stream",
          "text": [
            "--------------Spanish Deck--------------\n",
            "Games won: 0 Games lost: 10000000\n",
            "Probability of Getting a 21: 0.0 %\n",
            "Average Number of Cards Required to Complete 21: 0\n"
          ],
          "name": "stdout"
        }
      ]
    },
    {
      "cell_type": "markdown",
      "metadata": {
        "id": "fi6RsjhidC4h"
      },
      "source": [
        "### 4.1.3 Hot Deck (8)\n",
        "The winning probabilty for the hot deck is $0.\\overline{714285}$:\n",
        "$$\\frac{4}{8}+\\frac{4}{8}\\cdot\\frac{3}{7}=\\frac{4}{8}+\\frac{3}{14}=\\frac{5}{7}=0.\\overline{714285}$$\n",
        "In this deck there are four cards with a value of $2$ and four cards with a value of $1$. So, the winning probability is $\\frac{4}{8}$ if we obtain a $2$, on the other hand, we should obtain two consecutive times a $1$, this probability is $\\frac{4}{8}\\cdot\\frac{3}{7}$."
      ]
    },
    {
      "cell_type": "code",
      "metadata": {
        "id": "GQIEDIgydC4i",
        "outputId": "3a47f015-e72b-40bf-9e31-39a3552d216b",
        "colab": {
          "base_uri": "https://localhost:8080/",
          "height": 363
        }
      },
      "source": [
        "# Initialize Tables\n",
        "hotdeck = [1,1,1,1,2,2,2,2]\n",
        "winamount = []\n",
        "\n",
        "# Initialize Variables \n",
        "n = 10000000\n",
        "win = 0\n",
        "loss = 0\n",
        "\n",
        "# Main Game Loop\n",
        "for i in range(n):\n",
        "\n",
        "  # Reinitialize sum and amount of cards.\n",
        "  s = 19\n",
        "  amount = 3\n",
        "\n",
        "  # Copy original deck to a temporary one\n",
        "  deckt = list(hotdeck)\n",
        "\n",
        "  # Card Drawing Loop\n",
        "  while s < 21:\n",
        "    \n",
        "    # Draw card at random from temporary deck, remove it from the deck, add its value to s, and increment the amount of cards drawn.\n",
        "    x = rng.choice(deckt)\n",
        "    deckt.remove(x)\n",
        "    s += x\n",
        "    amount += 1\n",
        "\n",
        "  # If a game is won, update the list of the amount of cards needed to win.\n",
        "  if(s == 21):\n",
        "    win += 1\n",
        "    winamount.append(amount)\n",
        "  else:\n",
        "    loss += 1\n",
        "\n",
        "print(\"--------------\"+\"Spanish Deck\"+\"--------------\")\n",
        "print(\"Games won:\", win, \"Games lost:\", loss)\n",
        "print(\"Probability of Getting a 21:\", round(((win/n)*100), 2),\"%\")\n",
        "print(\"Average Number of Cards Required to Complete 21:\", round((sum(winamount) / len(winamount)), 2))\n",
        "\n",
        "bin = max(winamount)-min(winamount)+1\n",
        "plt.hist(winamount, bins=bin)\n",
        "plt.title('Experimental Distribution of Number of Cards Required to sum 21')\n",
        "plt.xlabel('Amount of Cards')\n",
        "plt.ylabel('Amount of Instances')\n",
        "plt.show()"
      ],
      "execution_count": null,
      "outputs": [
        {
          "output_type": "stream",
          "text": [
            "--------------Spanish Deck--------------\n",
            "Games won: 7143400 Games lost: 2856600\n",
            "Probability of Getting a 21: 71.43 %\n",
            "Average Number of Cards Required to Complete 21: 4.3\n"
          ],
          "name": "stdout"
        },
        {
          "output_type": "display_data",
          "data": {
            "image/png": "[encoded data removed]",
            "text/plain": [
              "<Figure size 432x288 with 1 Axes>"
            ]
          },
          "metadata": {
            "tags": [],
            "needs_background": "light"
          }
        }
      ]
    },
    {
      "cell_type": "markdown",
      "metadata": {
        "id": "4m0Aai9Nd3Y-"
      },
      "source": [
        "### 4.1.4 Cold Deck (8)\n",
        "The winning probabilty for the cold deck is $0$. As no cards will allow a win."
      ]
    },
    {
      "cell_type": "code",
      "metadata": {
        "id": "2M_K_tled3Y_",
        "outputId": "84cbfa0c-5969-4367-a250-b2972b00457e",
        "colab": {
          "base_uri": "https://localhost:8080/",
          "height": 85
        }
      },
      "source": [
        "# Initialize Tables\n",
        "colddeck = [10,10,10,10,10,10,10,10]\n",
        "winamount = []\n",
        "\n",
        "# Initialize Variables \n",
        "n = 10000000\n",
        "win = 0\n",
        "loss = 0\n",
        "\n",
        "# Main Game Loop\n",
        "for i in range(n):\n",
        "\n",
        "  # Reinitialize sum and amount of cards.\n",
        "  s = 19\n",
        "  amount = 3\n",
        "\n",
        "  # Copy original deck to a temporary one\n",
        "  deckt = list(colddeck)\n",
        "\n",
        "  # Card Drawing Loop\n",
        "  while s < 21:\n",
        "    \n",
        "    # Draw card at random from temporary deck, remove it from the deck, add its value to s, and increment the amount of cards drawn.\n",
        "    x = rng.choice(deckt)\n",
        "    deckt.remove(x)\n",
        "    s += x\n",
        "    amount += 1\n",
        "\n",
        "  # If a game is won, update the list of the amount of cards needed to win.\n",
        "  if(s == 21):\n",
        "    win += 1\n",
        "    winamount.append(amount)\n",
        "  else:\n",
        "    loss += 1\n",
        "\n",
        "print(\"--------------\"+\"Spanish Deck\"+\"--------------\")\n",
        "print(\"Games won:\", win, \"Games lost:\", loss)\n",
        "print(\"Probability of Getting a 21:\", round(((win/n)*100), 2),\"%\")\n",
        "print(\"Average Number of Cards Required to Complete 21:\", 0)"
      ],
      "execution_count": null,
      "outputs": [
        {
          "output_type": "stream",
          "text": [
            "--------------Spanish Deck--------------\n",
            "Games won: 0 Games lost: 10000000\n",
            "Probability of Getting a 21: 0.0 %\n",
            "Average Number of Cards Required to Complete 21: 0\n"
          ],
          "name": "stdout"
        }
      ]
    },
    {
      "cell_type": "markdown",
      "metadata": {
        "id": "htpoPOQ_bxKT"
      },
      "source": [
        "##4.2 (Poker Decks)"
      ]
    },
    {
      "cell_type": "markdown",
      "metadata": {
        "id": "4L-RhXlW8dhH"
      },
      "source": [
        "### 4.2.1 Hot Deck (12)\n",
        "The winning probabilty for the hot deck is $0.\\overline{42}$:\n",
        "$$\\frac{4}{12}+\\frac{4}{12}\\cdot\\frac{3}{11}=\\frac{4}{12}+\\frac{1}{11}=\\frac{14}{33}=0.\\overline{42}$$\n",
        "In this deck there are four cards with a value of $2$ and four cards with a value of $1$. So, the winning probability is $\\frac{4}{12}$ if we obtain a $2$, on the other hand, we should obtain two consecutive times a $1$, this probability is $\\frac{4}{12}\\cdot\\frac{3}{11}$."
      ]
    },
    {
      "cell_type": "code",
      "metadata": {
        "id": "G9KD00lJ8h5s",
        "outputId": "dc415c31-b9ae-47fc-9598-1291e5c439d9",
        "colab": {
          "base_uri": "https://localhost:8080/",
          "height": 363
        }
      },
      "source": [
        "# Initialize Tables\n",
        "hotdeck = [1,1,1,1,2,2,2,2,10,10,10,10]\n",
        "winamount = []\n",
        "\n",
        "# Initialize Variables \n",
        "n = 10000000\n",
        "win = 0\n",
        "loss = 0\n",
        "\n",
        "# Main Game Loop\n",
        "for i in range(n):\n",
        "\n",
        "  # Reinitialize sum and amount of cards.\n",
        "  s = 19\n",
        "  amount = 3\n",
        "\n",
        "  # Copy original deck to a temporary one\n",
        "  deckt = list(hotdeck)\n",
        "\n",
        "  # Card Drawing Loop\n",
        "  while s < 21:\n",
        "    \n",
        "    # Draw card at random from temporary deck, remove it from the deck, add its value to s, and increment the amount of cards drawn.\n",
        "    x = rng.choice(deckt)\n",
        "    deckt.remove(x)\n",
        "    s += x\n",
        "    amount += 1\n",
        "\n",
        "  # If a game is won, update the list of the amount of cards needed to win.\n",
        "  if(s == 21):\n",
        "    win += 1\n",
        "    winamount.append(amount)\n",
        "  else:\n",
        "    loss += 1\n",
        "\n",
        "print(\"--------------\"+\"Poker Deck\"+\"--------------\")\n",
        "print(\"Games won:\", win, \"Games lost:\", loss)\n",
        "print(\"Probability of Getting a 21:\", round(((win/n)*100), 2),\"%\")\n",
        "print(\"Average Number of Cards Required to Complete 21:\", round((sum(winamount) / len(winamount)), 2))\n",
        "\n",
        "bin = max(winamount)-min(winamount)+1\n",
        "plt.hist(winamount, bins=bin)\n",
        "plt.title('Experimental Distribution of Number of Cards Required to sum 21')\n",
        "plt.xlabel('Amount of Cards')\n",
        "plt.ylabel('Amount of Instances')\n",
        "plt.show()"
      ],
      "execution_count": null,
      "outputs": [
        {
          "output_type": "stream",
          "text": [
            "--------------Poker Deck--------------\n",
            "Games won: 4242974 Games lost: 5757026\n",
            "Probability of Getting a 21: 42.43 %\n",
            "Average Number of Cards Required to Complete 21: 4.21\n"
          ],
          "name": "stdout"
        },
        {
          "output_type": "display_data",
          "data": {
            "image/png": "[encoded data removed]",
            "text/plain": [
              "<Figure size 432x288 with 1 Axes>"
            ]
          },
          "metadata": {
            "tags": [],
            "needs_background": "light"
          }
        }
      ]
    },
    {
      "cell_type": "markdown",
      "metadata": {
        "id": "6DJp4Oxnb3sN"
      },
      "source": [
        "### 4.2.2 Cold Deck (12)\n",
        "The winning probabilty for the cold deck is $0$. As no cards will allow a win."
      ]
    },
    {
      "cell_type": "code",
      "metadata": {
        "id": "D98_hsbzb248",
        "outputId": "2417c951-9690-4157-e758-0521429d90a2",
        "colab": {
          "base_uri": "https://localhost:8080/",
          "height": 85
        }
      },
      "source": [
        "# Initialize Tables\n",
        "colddeck = [10,10,10,10,10,10,10,10,10,10,10,10]\n",
        "winamount = []\n",
        "\n",
        "# Initialize Variables \n",
        "n = 10000000\n",
        "win = 0\n",
        "loss = 0\n",
        "\n",
        "# Main Game Loop\n",
        "for i in range(n):\n",
        "\n",
        "  # Reinitialize sum and amount of cards.\n",
        "  s = 19\n",
        "  amount = 3\n",
        "\n",
        "  # Copy original deck to a temporary one\n",
        "  deckt = list(colddeck)\n",
        "\n",
        "  # Card Drawing Loop\n",
        "  while s < 21:\n",
        "    \n",
        "    # Draw card at random from temporary deck, remove it from the deck, add its value to s, and increment the amount of cards drawn.\n",
        "    x = rng.choice(deckt)\n",
        "    deckt.remove(x)\n",
        "    s += x\n",
        "    amount += 1\n",
        "\n",
        "  # If a game is won, update the list of the amount of cards needed to win.\n",
        "  if(s == 21):\n",
        "    win += 1\n",
        "    winamount.append(amount)\n",
        "  else:\n",
        "    loss += 1\n",
        "\n",
        "print(\"--------------\"+\"Poker Deck\"+\"--------------\")\n",
        "print(\"Games won:\", win, \"Games lost:\", loss)\n",
        "print(\"Probability of Getting a 21:\", round(((win/n)*100), 2),\"%\")\n",
        "print(\"Average Number of Cards Required to Complete 21:\", 0)"
      ],
      "execution_count": null,
      "outputs": [
        {
          "output_type": "stream",
          "text": [
            "--------------Poker Deck--------------\n",
            "Games won: 0 Games lost: 10000000\n",
            "Probability of Getting a 21: 0.0 %\n",
            "Average Number of Cards Required to Complete 21: 0\n"
          ],
          "name": "stdout"
        }
      ]
    },
    {
      "cell_type": "markdown",
      "metadata": {
        "id": "K4t-RmH1eDfY"
      },
      "source": [
        "### 4.2.3 Hot Deck (8)\n",
        "The winning probabilty for the hot deck is $0.\\overline{714285}$:\n",
        "$$\\frac{4}{8}+\\frac{4}{8}\\cdot\\frac{3}{7}=\\frac{4}{8}+\\frac{3}{14}=\\frac{5}{7}=0.\\overline{714285}$$\n",
        "In this deck there are four cards with a value of $2$ and four cards with a value of $1$. So, the winning probability is $\\frac{4}{8}$ if we obtain a $2$, on the other hand, we should obtain two consecutive times a $1$, this probability is $\\frac{4}{8}\\cdot\\frac{3}{7}$."
      ]
    },
    {
      "cell_type": "code",
      "metadata": {
        "id": "hC5Uo7wMeDfZ",
        "outputId": "00ed6ca4-6908-4f4e-f1ff-ce885df8c530",
        "colab": {
          "base_uri": "https://localhost:8080/",
          "height": 363
        }
      },
      "source": [
        "# Initialize Tables\n",
        "hotdeck = [1,1,1,1,2,2,2,2]\n",
        "winamount = []\n",
        "\n",
        "# Initialize Variables \n",
        "n = 10000000\n",
        "win = 0\n",
        "loss = 0\n",
        "\n",
        "# Main Game Loop\n",
        "for i in range(n):\n",
        "\n",
        "  # Reinitialize sum and amount of cards.\n",
        "  s = 19\n",
        "  amount = 3\n",
        "\n",
        "  # Copy original deck to a temporary one\n",
        "  deckt = list(hotdeck)\n",
        "\n",
        "  # Card Drawing Loop\n",
        "  while s < 21:\n",
        "    \n",
        "    # Draw card at random from temporary deck, remove it from the deck, add its value to s, and increment the amount of cards drawn.\n",
        "    x = rng.choice(deckt)\n",
        "    deckt.remove(x)\n",
        "    s += x\n",
        "    amount += 1\n",
        "\n",
        "  # If a game is won, update the list of the amount of cards needed to win.\n",
        "  if(s == 21):\n",
        "    win += 1\n",
        "    winamount.append(amount)\n",
        "  else:\n",
        "    loss += 1\n",
        "\n",
        "print(\"--------------\"+\"Spanish Deck\"+\"--------------\")\n",
        "print(\"Games won:\", win, \"Games lost:\", loss)\n",
        "print(\"Probability of Getting a 21:\", round(((win/n)*100), 2),\"%\")\n",
        "print(\"Average Number of Cards Required to Complete 21:\", round((sum(winamount) / len(winamount)), 2))\n",
        "\n",
        "bin = max(winamount)-min(winamount)+1\n",
        "plt.hist(winamount, bins=bin)\n",
        "plt.title('Experimental Distribution of Number of Cards Required to sum 21')\n",
        "plt.xlabel('Amount of Cards')\n",
        "plt.ylabel('Amount of Instances')\n",
        "plt.show()"
      ],
      "execution_count": null,
      "outputs": [
        {
          "output_type": "stream",
          "text": [
            "--------------Spanish Deck--------------\n",
            "Games won: 7143815 Games lost: 2856185\n",
            "Probability of Getting a 21: 71.44 %\n",
            "Average Number of Cards Required to Complete 21: 4.3\n"
          ],
          "name": "stdout"
        },
        {
          "output_type": "display_data",
          "data": {
            "image/png": "[encoded data removed]",
            "text/plain": [
              "<Figure size 432x288 with 1 Axes>"
            ]
          },
          "metadata": {
            "tags": [],
            "needs_background": "light"
          }
        }
      ]
    },
    {
      "cell_type": "markdown",
      "metadata": {
        "id": "lY7Ipii2eHdj"
      },
      "source": [
        "### 4.2.4 Cold Deck (8)\n",
        "The winning probabilty for the cold deck is $0$. As no cards will allow a win."
      ]
    },
    {
      "cell_type": "code",
      "metadata": {
        "id": "BHIhK5lneHdk",
        "outputId": "b68ae3e9-c44a-4ad8-d5d6-f00027e7b6f0",
        "colab": {
          "base_uri": "https://localhost:8080/",
          "height": 85
        }
      },
      "source": [
        "# Initialize Tables\n",
        "colddeck = [10,10,10,10,10,10,10,10]\n",
        "winamount = []\n",
        "\n",
        "# Initialize Variables \n",
        "n = 10000000\n",
        "win = 0\n",
        "loss = 0\n",
        "\n",
        "# Main Game Loop\n",
        "for i in range(n):\n",
        "\n",
        "  # Reinitialize sum and amount of cards.\n",
        "  s = 19\n",
        "  amount = 3\n",
        "\n",
        "  # Copy original deck to a temporary one\n",
        "  deckt = list(colddeck)\n",
        "\n",
        "  # Card Drawing Loop\n",
        "  while s < 21:\n",
        "    \n",
        "    # Draw card at random from temporary deck, remove it from the deck, add its value to s, and increment the amount of cards drawn.\n",
        "    x = rng.choice(deckt)\n",
        "    deckt.remove(x)\n",
        "    s += x\n",
        "    amount += 1\n",
        "\n",
        "  # If a game is won, update the list of the amount of cards needed to win.\n",
        "  if(s == 21):\n",
        "    win += 1\n",
        "    winamount.append(amount)\n",
        "  else:\n",
        "    loss += 1\n",
        "\n",
        "print(\"--------------\"+\"Spanish Deck\"+\"--------------\")\n",
        "print(\"Games won:\", win, \"Games lost:\", loss)\n",
        "print(\"Probability of Getting a 21:\", round(((win/n)*100), 2),\"%\")\n",
        "print(\"Average Number of Cards Required to Complete 21:\", 0)"
      ],
      "execution_count": null,
      "outputs": [
        {
          "output_type": "stream",
          "text": [
            "--------------Spanish Deck--------------\n",
            "Games won: 0 Games lost: 10000000\n",
            "Probability of Getting a 21: 0.0 %\n",
            "Average Number of Cards Required to Complete 21: 0\n"
          ],
          "name": "stdout"
        }
      ]
    },
    {
      "cell_type": "markdown",
      "metadata": {
        "id": "QQ9hjCV7SJ_0"
      },
      "source": [
        "#5 Ben's Weekly Plays "
      ]
    },
    {
      "cell_type": "markdown",
      "metadata": {
        "id": "NSB9BVbC1XN5"
      },
      "source": [
        "## 5.1 Spanish Deck"
      ]
    },
    {
      "cell_type": "code",
      "metadata": {
        "id": "TUlU7jdTHEux"
      },
      "source": [
        "def hotDeck2():\n",
        "  global winamount\n",
        "\n",
        "  # Initialize Tables\n",
        "  hotDeck = [1,1,1,1,2,2,2,2,10,10,10,10]\n",
        "\n",
        "  # Reinitialize sum and amount of cards.\n",
        "  s = 19\n",
        "  amount = 3\n",
        "\n",
        "  # Card Drawing Loop\n",
        "  while s < 21:\n",
        "\n",
        "    # Draw card from temporary deck at random, remove it from the deck, add its value to s, and increment amount of cards drawn.\n",
        "    x = hotDeck.pop(rng.randint(0,len(hotDeck)-1))\n",
        "    s += x\n",
        "    amount += 1\n",
        "\n",
        "  # If a game is won, update the list of the amount of cards needed to win.\n",
        "  if(s == 21):\n",
        "    winamount.append(amount)\n",
        "    return True\n",
        "  else:\n",
        "    return False\n",
        "\n",
        "def coldDeck2():\n",
        "  global winamount\n",
        "  coldDeck = [1,2,3,4,5,6,7,8,9,10,10,10,1,2,3,4,5,6,7,8,9,10,10,10,1,2,3,4,5,6,7,8,9,10,10,10,1,2,3,4,5,6,7,8,9,10,10,10]\n",
        "\n",
        "  # Reinitialize sum and amount of cards.\n",
        "  s = 0\n",
        "  amount = 0\n",
        "\n",
        "  # Card Drawing Loop\n",
        "  while s < 21:\n",
        "\n",
        "    # Draw card from temporary deck at random, remove it from the deck, add its value to s, and increment amount of cards drawn.\n",
        "    x = coldDeck.pop(rng.randint(0,len(coldDeck)-1))\n",
        "    s += x\n",
        "    amount += 1\n",
        "\n",
        "  # If a game is won, update the list of the amount of cards needed to win.\n",
        "  if(s == 21):\n",
        "    winamount.append(amount)\n",
        "    return True\n",
        "  else:\n",
        "    return False"
      ],
      "execution_count": null,
      "outputs": []
    },
    {
      "cell_type": "code",
      "metadata": {
        "id": "nZ48K3upHFDd",
        "outputId": "5664aed4-19a6-4091-e7a2-6553ec16fa7b",
        "colab": {
          "base_uri": "https://localhost:8080/",
          "height": 346
        }
      },
      "source": [
        "# Initialize Table\n",
        "winamount = []\n",
        "\n",
        "# Initialize Values\n",
        "balanceTotal = 0\n",
        "n = 10000\n",
        "\n",
        "# Experimental Loop\n",
        "for j in range(n):\n",
        "\n",
        "  # Initialize Individual Balance\n",
        "  balance = 0\n",
        "\n",
        "  # Game Loop\n",
        "  for i in range(600):\n",
        "\n",
        "    # Check for given probability\n",
        "    if rng.randint(0,9) < 1:\n",
        "\n",
        "      # Change balance according to the game's result\n",
        "      if hotDeck2():\n",
        "        balance += 1000\n",
        "      else:\n",
        "        balance -= 1000\n",
        "    else:\n",
        "\n",
        "      # Change balance according to the game's result\n",
        "      if coldDeck2():\n",
        "        balance += 10\n",
        "      else:\n",
        "        balance -= 10\n",
        "        \n",
        "  # Update the total balance\n",
        "  balanceTotal += balance\n",
        "\n",
        "print(\"--------------\"+\"Spanish Deck\"+\"--------------\")\n",
        "print(\"Ben's estimated balance after playing for a weekend:\", str(balanceTotal/n) +\"$\")\n",
        "print(\"Average Number of Cards Required to Complete 21:\", round((sum(winamount) / len(winamount)), 2))\n",
        "\n",
        "bin = max(winamount)-min(winamount)+1\n",
        "plt.hist(winamount, bins=bin)\n",
        "plt.title('Experimental Distribution of Amount of Cards Required to sum 21')\n",
        "plt.xlabel('Amount of Cards')\n",
        "plt.ylabel('Amount of Instances')\n",
        "plt.show()"
      ],
      "execution_count": null,
      "outputs": [
        {
          "output_type": "stream",
          "text": [
            "--------------Spanish Deck--------------\n",
            "Ben's estimated balance after playing for a weekend: -12936.788$\n",
            "Average Number of Cards Required to Complete 21: 3.82\n"
          ],
          "name": "stdout"
        },
        {
          "output_type": "display_data",
          "data": {
            "image/png": "[encoded data removed]",
            "text/plain": [
              "<Figure size 432x288 with 1 Axes>"
            ]
          },
          "metadata": {
            "tags": [],
            "needs_background": "light"
          }
        }
      ]
    },
    {
      "cell_type": "markdown",
      "metadata": {
        "id": "JBSu8G4pAJtN"
      },
      "source": [
        "## 5.2 Poker Deck"
      ]
    },
    {
      "cell_type": "code",
      "metadata": {
        "id": "ZbBdtzJVAL4H"
      },
      "source": [
        "def hotDeck():\n",
        "  global winamount\n",
        "  # Initialize Tables\n",
        "  hotDeck = [1,1,1,1,2,2,2,2,10,10,10,10]\n",
        "  # Reinitialize sum and amount of cards.\n",
        "  s = 19\n",
        "  amount = 3\n",
        "\n",
        "  # Card Drawing Loop\n",
        "  while s < 21:\n",
        "\n",
        "    # Draw card from temporary deck at random, remove it from the deck, add its value to s, and increment amount of cards drawn.\n",
        "    x = hotDeck.pop(rng.randint(0,len(hotDeck)-1))\n",
        "    s += x\n",
        "    amount += 1\n",
        "    \n",
        "  # If a game is won, update the list of the amount of cards needed to win.\n",
        "  if(s == 21):\n",
        "    winamount.append(amount)\n",
        "    return True\n",
        "  else:\n",
        "    return False\n",
        "\n",
        "def coldDeck():\n",
        "  global winamount\n",
        "  coldDeck = [1,2,3,4,5,6,7,8,9,10,10,10,10,1,2,3,4,5,6,7,8,9,10,10,10,10,1,2,3,4,5,6,7,8,9,10,10,10,10,1,2,3,4,5,6,7,8,9,10,10,10,10]\n",
        "\n",
        "  # Reinitialize sum and amount of cards.\n",
        "  s = 0\n",
        "  amount = 0\n",
        "\n",
        "  # Card Drawing Loop\n",
        "  while s < 21:\n",
        "\n",
        "    # Draw card from temporary deck at random, remove it from the deck, add its value to s, and increment amount of cards drawn.\n",
        "    x = coldDeck.pop(rng.randint(0,len(coldDeck)-1))\n",
        "    s += x\n",
        "    amount += 1\n",
        "    \n",
        "  # If a game is won, update the list of the amount of cards needed to win.\n",
        "  if(s == 21):\n",
        "    winamount.append(amount)\n",
        "    return True\n",
        "  else:\n",
        "    return False"
      ],
      "execution_count": null,
      "outputs": []
    },
    {
      "cell_type": "code",
      "metadata": {
        "id": "WysDIFwOAdxa",
        "outputId": "1b66a8dc-111c-4663-a353-91c6fb75e82f",
        "colab": {
          "base_uri": "https://localhost:8080/",
          "height": 346
        }
      },
      "source": [
        "# Initialize Table\n",
        "winamount = []\n",
        "\n",
        "# Initialize Values\n",
        "balanceTotal = 0\n",
        "n = 10000\n",
        "\n",
        "# Experimental Loop\n",
        "for j in range(n):\n",
        "\n",
        "  # Initialize Individual Balance\n",
        "  balance = 0\n",
        "\n",
        "  # Game Loop\n",
        "  for i in range(600):\n",
        "\n",
        "    # Check for given probability\n",
        "    if rng.randint(0,9) < 1:\n",
        "\n",
        "      # Change balance according to the game's result\n",
        "      if hotDeck():\n",
        "        balance += 1000\n",
        "      else:\n",
        "        balance -= 1000\n",
        "    else:\n",
        "\n",
        "      # Change balance according to the game's result\n",
        "      if coldDeck():\n",
        "        balance += 10\n",
        "      else:\n",
        "        balance -= 10\n",
        "        \n",
        "  # Update the total balance\n",
        "  balanceTotal += balance\n",
        "\n",
        "print(\"--------------\"+\"Poker Deck\"+\"--------------\")\n",
        "print(\"Ben's estimated balance after playing for a weekend:\", str(balanceTotal/n) +\"$\")\n",
        "print(\"Average Number of Cards Required to Complete 21:\", round((sum(winamount) / len(winamount)), 2))\n",
        "\n",
        "bin = max(winamount)-min(winamount)+1\n",
        "plt.hist(winamount, bins=bin)\n",
        "plt.title('Experimental Distribution of Amount of Cards Required to sum 21')\n",
        "plt.xlabel('Amount of Cards')\n",
        "plt.ylabel('Amount of Instances')\n",
        "plt.show()"
      ],
      "execution_count": null,
      "outputs": [
        {
          "output_type": "stream",
          "text": [
            "--------------Poker Deck--------------\n",
            "Ben's estimated balance after playing for a weekend: -12904.691$\n",
            "Average Number of Cards Required to Complete 21: 3.74\n"
          ],
          "name": "stdout"
        },
        {
          "output_type": "display_data",
          "data": {
            "image/png": "[encoded data removed]",
            "text/plain": [
              "<Figure size 432x288 with 1 Axes>"
            ]
          },
          "metadata": {
            "tags": [],
            "needs_background": "light"
          }
        }
      ]
    },
    {
      "cell_type": "markdown",
      "metadata": {
        "id": "5l8JLTe9ZtN4"
      },
      "source": [
        "#7 Extra"
      ]
    },
    {
      "cell_type": "markdown",
      "metadata": {
        "id": "-982bMylaUuC"
      },
      "source": [
        "##7.1 Spanish Deck"
      ]
    },
    {
      "cell_type": "markdown",
      "metadata": {
        "id": "z2t8sxnBZvI9"
      },
      "source": [
        "###7.1.1 (12)"
      ]
    },
    {
      "cell_type": "code",
      "metadata": {
        "id": "yTufjWH_ZpPq",
        "outputId": "b787603a-6371-41fa-809d-0ce58b1ffdd3",
        "colab": {
          "base_uri": "https://localhost:8080/",
          "height": 68
        }
      },
      "source": [
        "# Initialize Tables\n",
        "deck = [1,2,3,4,5,6,7,8,9,10,10,10,1,2,3,4,5,6,7,8,9,10,10,10,1,2,3,4,5,6,7,8,9,10,10,10,1,2,3,4,5,6,7,8,9,10,10,10]\n",
        "winamount = []\n",
        "\n",
        "# Initialize Variables\n",
        "n = 1000000\n",
        "win = 0\n",
        "t = 0\n",
        "\n",
        "# Begin game loop\n",
        "for i in range(n):\n",
        "\n",
        "  hand = []\n",
        "\n",
        "  # Copy original deck to a temporary one\n",
        "  deck2 = list(deck)\n",
        "\n",
        "  # Remove half the cards from the deck\n",
        "  while len(deck2)>15:\n",
        "    deck2.pop(rng.randint(0, len(deck2)-1))\n",
        "\n",
        "  for i in range(3):\n",
        "    hand.append(deck2.pop(rng.randint(0, len(deck2)-1)))\n",
        "  \n",
        "  if hand.count(7) == 2 and hand.count(5) == 1:\n",
        "    t += 1\n",
        "    if deck2.count(1) == 4 and deck2.count(2) == 4:\n",
        "      win += 1\n",
        "\n",
        "print(\"--------------\"+\"Spanish Deck\"+\"--------------\")\n",
        "print(\"Favourable Games:\", win, \"Games with a [7,7,5] Hand:\", t, \"Games lost:\", n)\n",
        "print(\"Probability of Being Given the Hand [7,7,5] and a Remaining Hot Deck:\", ((win/t)*100),\"%\")"
      ],
      "execution_count": null,
      "outputs": [
        {
          "output_type": "stream",
          "text": [
            "--------------Spanish Deck--------------\n",
            "Favourable Games: 0 Games with a [7,7,5] Hand: 1368 Games lost: 1000000\n",
            "Probability of Being Given the Hand [7,7,5] and a Remaining Hot Deck: 0.0 %\n"
          ],
          "name": "stdout"
        }
      ]
    },
    {
      "cell_type": "markdown",
      "metadata": {
        "id": "pAhQ93MPfEmY"
      },
      "source": [
        "###7.1.2 (10)"
      ]
    },
    {
      "cell_type": "code",
      "metadata": {
        "id": "ph-ha-28fEmZ",
        "outputId": "71f9d340-95df-4b4f-8281-cc938d0e325b",
        "colab": {
          "base_uri": "https://localhost:8080/",
          "height": 68
        }
      },
      "source": [
        "# Initialize Tables\n",
        "deck = [1,2,3,4,5,6,7,8,9,10,10,10,1,2,3,4,5,6,7,8,9,10,10,10,1,2,3,4,5,6,7,8,9,10,10,10,1,2,3,4,5,6,7,8,9,10,10,10]\n",
        "winamount = []\n",
        "\n",
        "# Initialize Variables\n",
        "n = 1000000\n",
        "win = 0\n",
        "t = 0\n",
        "\n",
        "# Begin game loop\n",
        "for i in range(n):\n",
        "\n",
        "  hand = []\n",
        "\n",
        "  # Copy original deck to a temporary one\n",
        "  deck2 = list(deck)\n",
        "\n",
        "  # Remove half the cards from the deck\n",
        "  while len(deck2)>13:\n",
        "    deck2.pop(rng.randint(0, len(deck2)-1))\n",
        "\n",
        "  for i in range(3):\n",
        "    hand.append(deck2.pop(rng.randint(0, len(deck2)-1)))\n",
        "  \n",
        "  if hand.count(7) == 2 and hand.count(5) == 1:\n",
        "    t += 1\n",
        "    if deck2.count(1) == 4 and deck2.count(2) == 4:\n",
        "      win += 1\n",
        "\n",
        "print(\"--------------\"+\"Spanish Deck\"+\"--------------\")\n",
        "print(\"Favourable Games:\", win, \"Games with a [7,7,5] Hand:\", t, \"Games lost:\", n)\n",
        "print(\"Probability of Being Given the Hand [7,7,5] and a Remaining Hot Deck:\", ((win/t)*100),\"%\")"
      ],
      "execution_count": null,
      "outputs": [
        {
          "output_type": "stream",
          "text": [
            "--------------Spanish Deck--------------\n",
            "Favourable Games: 0 Games with a [7,7,5] Hand: 1379 Games lost: 1000000\n",
            "Probability of Being Given the Hand [7,7,5] and a Remaining Hot Deck: 0.0 %\n"
          ],
          "name": "stdout"
        }
      ]
    },
    {
      "cell_type": "markdown",
      "metadata": {
        "id": "dq_6uzh7fLDU"
      },
      "source": [
        "###7.1.3 (8)"
      ]
    },
    {
      "cell_type": "code",
      "metadata": {
        "id": "PFs7jdlDfLDV",
        "outputId": "debfb656-fe77-4d8a-cacf-7208be6a58a7",
        "colab": {
          "base_uri": "https://localhost:8080/",
          "height": 68
        }
      },
      "source": [
        "# Initialize Tables\n",
        "deck = [1,2,3,4,5,6,7,8,9,10,10,10,1,2,3,4,5,6,7,8,9,10,10,10,1,2,3,4,5,6,7,8,9,10,10,10,1,2,3,4,5,6,7,8,9,10,10,10]\n",
        "winamount = []\n",
        "\n",
        "# Initialize Variables\n",
        "n = 1000000\n",
        "win = 0\n",
        "t = 0\n",
        "\n",
        "# Begin game loop\n",
        "for i in range(n):\n",
        "\n",
        "  hand = []\n",
        "\n",
        "  # Copy original deck to a temporary one\n",
        "  deck2 = list(deck)\n",
        "\n",
        "  # Remove half the cards from the deck\n",
        "  while len(deck2)>11:\n",
        "    deck2.pop(rng.randint(0, len(deck2)-1))\n",
        "\n",
        "  for i in range(3):\n",
        "    hand.append(deck2.pop(rng.randint(0, len(deck2)-1)))\n",
        "  \n",
        "  if hand.count(7) == 2 and hand.count(5) == 1:\n",
        "    t += 1\n",
        "    if deck2.count(1) == 4 and deck2.count(2) == 4:\n",
        "      win += 1\n",
        "\n",
        "print(\"--------------\"+\"Spanish Deck\"+\"--------------\")\n",
        "print(\"Favourable Games:\", win, \"Games with a [7,7,5] Hand:\", t, \"Games lost:\", n)\n",
        "print(\"Probability of Being Given the Hand [7,7,5] and a Remaining Hot Deck:\", ((win/t)*100),\"%\")"
      ],
      "execution_count": null,
      "outputs": [
        {
          "output_type": "stream",
          "text": [
            "--------------Spanish Deck--------------\n",
            "Favourable Games: 0 Games with a [7,7,5] Hand: 1378 Games lost: 1000000\n",
            "Probability of Being Given the Hand [7,7,5] and a Remaining Hot Deck: 0.0 %\n"
          ],
          "name": "stdout"
        }
      ]
    },
    {
      "cell_type": "markdown",
      "metadata": {
        "id": "vO4WqkDyZ0lH"
      },
      "source": [
        "##7.2 Poker Deck"
      ]
    },
    {
      "cell_type": "markdown",
      "metadata": {
        "id": "dquFKMLcfBRs"
      },
      "source": [
        "### 7.2.1 (12)"
      ]
    },
    {
      "cell_type": "code",
      "metadata": {
        "id": "Du_0aD91Z0lJ",
        "outputId": "df73e4f4-0c4b-431d-8d58-89806c3a2e4b",
        "colab": {
          "base_uri": "https://localhost:8080/",
          "height": 68
        }
      },
      "source": [
        "# Initialize Tables\n",
        "deck = [1,2,3,4,5,6,7,8,9,10,10,10,10,1,2,3,4,5,6,7,8,9,10,10,10,10,1,2,3,4,5,6,7,8,9,10,10,10,10,1,2,3,4,5,6,7,8,9,10,10,10,10]\n",
        "winamount = []\n",
        "\n",
        "# Initialize Variables\n",
        "n = 1000000\n",
        "win = 0\n",
        "t = 0\n",
        "\n",
        "# Begin game loop\n",
        "for i in range(n):\n",
        "\n",
        "  hand = []\n",
        "\n",
        "  # Copy original deck to a temporary one\n",
        "  deck2 = list(deck)\n",
        "\n",
        "  # Remove half the cards from the deck\n",
        "  while len(deck2)>15:\n",
        "    deck2.pop(rng.randint(0, len(deck2)-1))\n",
        "\n",
        "  for i in range(3):\n",
        "    hand.append(deck2.pop(rng.randint(0, len(deck2)-1)))\n",
        "  \n",
        "  if hand.count(7) == 2 and hand.count(5) == 1:\n",
        "    t += 1\n",
        "    if deck2.count(1) == 4 and deck2.count(2) == 4:\n",
        "      win += 1\n",
        "\n",
        "print(\"--------------\"+\"Poker Deck\"+\"--------------\")\n",
        "print(\"Favourable Games:\", win, \"Games with a [7,7,5] Hand:\", t, \"Games lost:\", n)\n",
        "print(\"Probability of Being Given the Hand [7,7,5] and a Remaining Hot Deck:\", ((win/t)*100),\"%\")"
      ],
      "execution_count": null,
      "outputs": [
        {
          "output_type": "stream",
          "text": [
            "--------------Poker Deck--------------\n",
            "Favourable Games: 0 Games with a [7,7,5] Hand: 1106 Games lost: 1000000\n",
            "Probability of Being Given the Hand [7,7,5] and a Remaining Hot Deck: 0.0 %\n"
          ],
          "name": "stdout"
        }
      ]
    },
    {
      "cell_type": "markdown",
      "metadata": {
        "id": "kKgdIJjofckj"
      },
      "source": [
        "### 7.2.2 (10)"
      ]
    },
    {
      "cell_type": "code",
      "metadata": {
        "id": "cKbg8vO6fcko",
        "outputId": "d805e8d6-6c8e-4095-cb09-54ab1a3604bb",
        "colab": {
          "base_uri": "https://localhost:8080/",
          "height": 68
        }
      },
      "source": [
        "# Initialize Tables\n",
        "deck = [1,2,3,4,5,6,7,8,9,10,10,10,10,1,2,3,4,5,6,7,8,9,10,10,10,10,1,2,3,4,5,6,7,8,9,10,10,10,10,1,2,3,4,5,6,7,8,9,10,10,10,10]\n",
        "winamount = []\n",
        "\n",
        "# Initialize Variables\n",
        "n = 1000000\n",
        "win = 0\n",
        "t = 0\n",
        "\n",
        "# Begin game loop\n",
        "for i in range(n):\n",
        "\n",
        "  hand = []\n",
        "\n",
        "  # Copy original deck to a temporary one\n",
        "  deck2 = list(deck)\n",
        "\n",
        "  # Remove half the cards from the deck\n",
        "  while len(deck2)>13:\n",
        "    deck2.pop(rng.randint(0, len(deck2)-1))\n",
        "\n",
        "  for i in range(3):\n",
        "    hand.append(deck2.pop(rng.randint(0, len(deck2)-1)))\n",
        "  \n",
        "  if hand.count(7) == 2 and hand.count(5) == 1:\n",
        "    t += 1\n",
        "    if deck2.count(1) == 4 and deck2.count(2) == 4:\n",
        "      win += 1\n",
        "\n",
        "print(\"--------------\"+\"Poker Deck\"+\"--------------\")\n",
        "print(\"Favourable Games:\", win, \"Games with a [7,7,5] Hand:\", t, \"Games lost:\", n)\n",
        "print(\"Probability of Being Given the Hand [7,7,5] and a Remaining Hot Deck:\", ((win/t)*100),\"%\")"
      ],
      "execution_count": null,
      "outputs": [
        {
          "output_type": "stream",
          "text": [
            "--------------Poker Deck--------------\n",
            "Favourable Games: 0 Games with a [7,7,5] Hand: 1130 Games lost: 1000000\n",
            "Probability of Being Given the Hand [7,7,5] and a Remaining Hot Deck: 0.0 %\n"
          ],
          "name": "stdout"
        }
      ]
    },
    {
      "cell_type": "markdown",
      "metadata": {
        "id": "7xAvQCwcfdGB"
      },
      "source": [
        "### 7.2.3 (8)"
      ]
    },
    {
      "cell_type": "code",
      "metadata": {
        "id": "j-abYwP0fdGC",
        "outputId": "2c7b4076-eaf6-45bb-b908-4392c47c8d2f",
        "colab": {
          "base_uri": "https://localhost:8080/",
          "height": 68
        }
      },
      "source": [
        "# Initialize Tables\n",
        "deck = [1,2,3,4,5,6,7,8,9,10,10,10,10,1,2,3,4,5,6,7,8,9,10,10,10,10,1,2,3,4,5,6,7,8,9,10,10,10,10,1,2,3,4,5,6,7,8,9,10,10,10,10]\n",
        "winamount = []\n",
        "\n",
        "# Initialize Variables\n",
        "n = 1000000\n",
        "win = 0\n",
        "t = 0\n",
        "\n",
        "# Begin game loop\n",
        "for i in range(n):\n",
        "\n",
        "  hand = []\n",
        "\n",
        "  # Copy original deck to a temporary one\n",
        "  deck2 = list(deck)\n",
        "\n",
        "  # Remove half the cards from the deck\n",
        "  while len(deck2)>11:\n",
        "    deck2.pop(rng.randint(0, len(deck2)-1))\n",
        "\n",
        "  for i in range(3):\n",
        "    hand.append(deck2.pop(rng.randint(0, len(deck2)-1)))\n",
        "  \n",
        "  if hand.count(7) == 2 and hand.count(5) == 1:\n",
        "    t += 1\n",
        "    if deck2.count(1) == 4 and deck2.count(2) == 4:\n",
        "      win += 1\n",
        "\n",
        "print(\"--------------\"+\"Poker Deck\"+\"--------------\")\n",
        "print(\"Favourable Games:\", win, \"Games with a [7,7,5] Hand:\", t, \"Games lost:\", n)\n",
        "print(\"Probability of Being Given the Hand [7,7,5] and a Remaining Hot Deck:\", ((win/t)*100),\"%\")"
      ],
      "execution_count": null,
      "outputs": [
        {
          "output_type": "stream",
          "text": [
            "--------------Poker Deck--------------\n",
            "Favourable Games: 0 Games with a [7,7,5] Hand: 1099 Games lost: 1000000\n",
            "Probability of Being Given the Hand [7,7,5] and a Remaining Hot Deck: 0.0 %\n"
          ],
          "name": "stdout"
        }
      ]
    }
  ]
}