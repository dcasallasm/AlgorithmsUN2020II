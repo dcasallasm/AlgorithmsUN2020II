{
 "cells": [
  {
   "cell_type": "code",
   "execution_count": 22,
   "metadata": {
    "collapsed": false
   },
   "outputs": [
    {
     "name": "stdout",
     "output_type": "stream",
     "text": [
      "x^9 - 54*x^8 + 1266*x^7 - 16884*x^6 + 140889*x^5 - 761166*x^4 + 2655764*x^3 - 5753736*x^2 + 6999840*x - 3628800\n",
      "0\n",
      "x^8 - 52*x^7 + 1162*x^6 - 14560*x^5 + 111769*x^4 - 537628*x^3 + 1580508*x^2 - 2592720*x + 1814400\n",
      "0\n",
      "x^7 - 49*x^6 + 1015*x^5 - 11515*x^4 + 77224*x^3 - 305956*x^2 + 662640*x - 604800\n",
      "0\n",
      "x^6 - 45*x^5 + 835*x^4 - 8175*x^3 + 44524*x^2 - 127860*x + 151200\n",
      "0\n",
      "x^5 - 40*x^4 + 635*x^3 - 5000*x^2 + 19524*x - 30240\n",
      "0\n",
      "x^4 - 34*x^3 + 431*x^2 - 2414*x + 5040\n",
      "0\n",
      "x^3 - 27*x^2 + 242*x - 720\n",
      "0\n",
      "x^2 - 19*x + 90\n",
      "0\n",
      "x - 10\n",
      "0\n"
     ]
    }
   ],
   "source": [
    "p(x)=(x-1)*(x-2)*(x-3)*(x-4)*(x-5)*(x-6)*(x-7)*(x-8)*(x-9)*(x-10)\n",
    "for i in range(1,10):\n",
    "  q(x)=(x-i)\n",
    "  d, r = p.maxima_methods().divide(q)\n",
    "  p(x)=d\n",
    "  print(d)\n",
    "  print(r)\n"
   ]
  },
  {
   "cell_type": "code",
   "execution_count": 29,
   "metadata": {
    "collapsed": false
   },
   "outputs": [
    {
     "data": {
      "text/plain": [
       "x |--> (x - 1)*(x - 2)*(x - 3)*(x - 4)*(x - 5)*(x - 6)*(x - 7)*(x - 8)*(x - 9)*(x - 10)"
      ]
     },
     "execution_count": 29,
     "metadata": {
     },
     "output_type": "execute_result"
    }
   ],
   "source": [
    "p(x)=(x-1)*(x-2)*(x-3)*(x-4)*(x-5)*(x-6)*(x-7)*(x-8)*(x-9)*(x-10);\n",
    "p.factor()"
   ]
  },
  {
   "cell_type": "code",
   "execution_count": 30,
   "metadata": {
    "collapsed": false
   },
   "outputs": [
    {
     "data": {
      "text/plain": [
       "[(1, 1),\n",
       " (2, 1),\n",
       " (3, 1),\n",
       " (4, 1),\n",
       " (5, 1),\n",
       " (6, 1),\n",
       " (7, 1),\n",
       " (8, 1),\n",
       " (9, 1),\n",
       " (10, 1)]"
      ]
     },
     "execution_count": 30,
     "metadata": {
     },
     "output_type": "execute_result"
    }
   ],
   "source": [
    "p.roots()"
   ]
  },
  {
   "cell_type": "code",
   "execution_count": 35,
   "metadata": {
    "collapsed": false
   },
   "outputs": [
    {
     "data": {
      "text/plain": [
       "(x1, x2, y1, y2, z1, z2) |--> x1^2*y1^5*z1^6 + 2*I*x1*x2*y1^5*z1^6 - x2^2*y1^5*z1^6 + 5*I*x1^2*y1^4*y2*z1^6 - 10*x1*x2*y1^4*y2*z1^6 - 5*I*x2^2*y1^4*y2*z1^6 - 10*x1^2*y1^3*y2^2*z1^6 - 20*I*x1*x2*y1^3*y2^2*z1^6 + 10*x2^2*y1^3*y2^2*z1^6 - 10*I*x1^2*y1^2*y2^3*z1^6 + 20*x1*x2*y1^2*y2^3*z1^6 + 10*I*x2^2*y1^2*y2^3*z1^6 + 5*x1^2*y1*y2^4*z1^6 + 10*I*x1*x2*y1*y2^4*z1^6 - 5*x2^2*y1*y2^4*z1^6 + I*x1^2*y2^5*z1^6 - 2*x1*x2*y2^5*z1^6 - I*x2^2*y2^5*z1^6 + 6*I*x1^2*y1^5*z1^5*z2 - 12*x1*x2*y1^5*z1^5*z2 - 6*I*x2^2*y1^5*z1^5*z2 - 30*x1^2*y1^4*y2*z1^5*z2 - 60*I*x1*x2*y1^4*y2*z1^5*z2 + 30*x2^2*y1^4*y2*z1^5*z2 - 60*I*x1^2*y1^3*y2^2*z1^5*z2 + 120*x1*x2*y1^3*y2^2*z1^5*z2 + 60*I*x2^2*y1^3*y2^2*z1^5*z2 + 60*x1^2*y1^2*y2^3*z1^5*z2 + 120*I*x1*x2*y1^2*y2^3*z1^5*z2 - 60*x2^2*y1^2*y2^3*z1^5*z2 + 30*I*x1^2*y1*y2^4*z1^5*z2 - 60*x1*x2*y1*y2^4*z1^5*z2 - 30*I*x2^2*y1*y2^4*z1^5*z2 - 6*x1^2*y2^5*z1^5*z2 - 12*I*x1*x2*y2^5*z1^5*z2 + 6*x2^2*y2^5*z1^5*z2 - 15*x1^2*y1^5*z1^4*z2^2 - 30*I*x1*x2*y1^5*z1^4*z2^2 + 15*x2^2*y1^5*z1^4*z2^2 - 75*I*x1^2*y1^4*y2*z1^4*z2^2 + 150*x1*x2*y1^4*y2*z1^4*z2^2 + 75*I*x2^2*y1^4*y2*z1^4*z2^2 + 150*x1^2*y1^3*y2^2*z1^4*z2^2 + 300*I*x1*x2*y1^3*y2^2*z1^4*z2^2 - 150*x2^2*y1^3*y2^2*z1^4*z2^2 + 150*I*x1^2*y1^2*y2^3*z1^4*z2^2 - 300*x1*x2*y1^2*y2^3*z1^4*z2^2 - 150*I*x2^2*y1^2*y2^3*z1^4*z2^2 - 75*x1^2*y1*y2^4*z1^4*z2^2 - 150*I*x1*x2*y1*y2^4*z1^4*z2^2 + 75*x2^2*y1*y2^4*z1^4*z2^2 - 15*I*x1^2*y2^5*z1^4*z2^2 + 30*x1*x2*y2^5*z1^4*z2^2 + 15*I*x2^2*y2^5*z1^4*z2^2 - 20*I*x1^2*y1^5*z1^3*z2^3 + 40*x1*x2*y1^5*z1^3*z2^3 + 20*I*x2^2*y1^5*z1^3*z2^3 + 100*x1^2*y1^4*y2*z1^3*z2^3 + 200*I*x1*x2*y1^4*y2*z1^3*z2^3 - 100*x2^2*y1^4*y2*z1^3*z2^3 + 200*I*x1^2*y1^3*y2^2*z1^3*z2^3 - 400*x1*x2*y1^3*y2^2*z1^3*z2^3 - 200*I*x2^2*y1^3*y2^2*z1^3*z2^3 - 200*x1^2*y1^2*y2^3*z1^3*z2^3 - 400*I*x1*x2*y1^2*y2^3*z1^3*z2^3 + 200*x2^2*y1^2*y2^3*z1^3*z2^3 - 100*I*x1^2*y1*y2^4*z1^3*z2^3 + 200*x1*x2*y1*y2^4*z1^3*z2^3 + 100*I*x2^2*y1*y2^4*z1^3*z2^3 + 20*x1^2*y2^5*z1^3*z2^3 + 40*I*x1*x2*y2^5*z1^3*z2^3 - 20*x2^2*y2^5*z1^3*z2^3 + 15*x1^2*y1^5*z1^2*z2^4 + 30*I*x1*x2*y1^5*z1^2*z2^4 - 15*x2^2*y1^5*z1^2*z2^4 + 75*I*x1^2*y1^4*y2*z1^2*z2^4 - 150*x1*x2*y1^4*y2*z1^2*z2^4 - 75*I*x2^2*y1^4*y2*z1^2*z2^4 - 150*x1^2*y1^3*y2^2*z1^2*z2^4 - 300*I*x1*x2*y1^3*y2^2*z1^2*z2^4 + 150*x2^2*y1^3*y2^2*z1^2*z2^4 - 150*I*x1^2*y1^2*y2^3*z1^2*z2^4 + 300*x1*x2*y1^2*y2^3*z1^2*z2^4 + 150*I*x2^2*y1^2*y2^3*z1^2*z2^4 + 75*x1^2*y1*y2^4*z1^2*z2^4 + 150*I*x1*x2*y1*y2^4*z1^2*z2^4 - 75*x2^2*y1*y2^4*z1^2*z2^4 + 15*I*x1^2*y2^5*z1^2*z2^4 - 30*x1*x2*y2^5*z1^2*z2^4 - 15*I*x2^2*y2^5*z1^2*z2^4 + 6*I*x1^2*y1^5*z1*z2^5 - 12*x1*x2*y1^5*z1*z2^5 - 6*I*x2^2*y1^5*z1*z2^5 - 30*x1^2*y1^4*y2*z1*z2^5 - 60*I*x1*x2*y1^4*y2*z1*z2^5 + 30*x2^2*y1^4*y2*z1*z2^5 - 60*I*x1^2*y1^3*y2^2*z1*z2^5 + 120*x1*x2*y1^3*y2^2*z1*z2^5 + 60*I*x2^2*y1^3*y2^2*z1*z2^5 + 60*x1^2*y1^2*y2^3*z1*z2^5 + 120*I*x1*x2*y1^2*y2^3*z1*z2^5 - 60*x2^2*y1^2*y2^3*z1*z2^5 + 30*I*x1^2*y1*y2^4*z1*z2^5 - 60*x1*x2*y1*y2^4*z1*z2^5 - 30*I*x2^2*y1*y2^4*z1*z2^5 - 6*x1^2*y2^5*z1*z2^5 - 12*I*x1*x2*y2^5*z1*z2^5 + 6*x2^2*y2^5*z1*z2^5 - x1^2*y1^5*z2^6 - 2*I*x1*x2*y1^5*z2^6 + x2^2*y1^5*z2^6 - 5*I*x1^2*y1^4*y2*z2^6 + 10*x1*x2*y1^4*y2*z2^6 + 5*I*x2^2*y1^4*y2*z2^6 + 10*x1^2*y1^3*y2^2*z2^6 + 20*I*x1*x2*y1^3*y2^2*z2^6 - 10*x2^2*y1^3*y2^2*z2^6 + 10*I*x1^2*y1^2*y2^3*z2^6 - 20*x1*x2*y1^2*y2^3*z2^6 - 10*I*x2^2*y1^2*y2^3*z2^6 - 5*x1^2*y1*y2^4*z2^6 - 10*I*x1*x2*y1*y2^4*z2^6 + 5*x2^2*y1*y2^4*z2^6 - I*x1^2*y2^5*z2^6 + 2*x1*x2*y2^5*z2^6 + I*x2^2*y2^5*z2^6"
      ]
     },
     "execution_count": 35,
     "metadata": {
     },
     "output_type": "execute_result"
    }
   ],
   "source": [
    "x(x1,x2) = x1 + I*x2\n",
    "y(y1,y2) = y1 + I*y2\n",
    "z(z1,z2) = z1 + I*z2\n",
    "r=x**2*y**5*z**6;r.expand()"
   ]
  },
  {
   "cell_type": "code",
   "execution_count": 44,
   "metadata": {
    "collapsed": false
   },
   "outputs": [
    {
     "data": {
      "text/plain": [
       "-28311.5858609810"
      ]
     },
     "execution_count": 44,
     "metadata": {
     },
     "output_type": "execute_result"
    }
   ],
   "source": [
    "import sage\n",
    "from sage.symbolic.integration.integral import definite_integral\n",
    "\n",
    "numerical_approx(definite_integral(x^5*e^x*cos(x),x,1,5))"
   ]
  },
  {
   "cell_type": "code",
   "execution_count": 45,
   "metadata": {
    "collapsed": false
   },
   "outputs": [
    {
     "name": "stdout",
     "output_type": "stream",
     "text": [
      "Standard Monte Carlo result: 332911.10437018314\n"
     ]
    }
   ],
   "source": [
    "result={}\n",
    "import math as mt\n",
    "import numpy\n",
    "N = 1_00_000\n",
    "accum = 0\n",
    "for i in range(N):\n",
    "    x = numpy.random.uniform(1, 5)\n",
    "    accum += x**5*mt.e**x*mt.log(x)\n",
    "volume = 5 - 1\n",
    "result[\"MC\"] = volume * accum / float(N)\n",
    "print(\"Standard Monte Carlo result: {}\".format(result[\"MC\"]))"
   ]
  },
  {
   "cell_type": "code",
   "execution_count": 47,
   "metadata": {
    "collapsed": false
   },
   "outputs": [
    {
     "data": {
      "text/plain": [
       "-50.9315316257615"
      ]
     },
     "execution_count": 47,
     "metadata": {
     },
     "output_type": "execute_result"
    }
   ],
   "source": [
    "numerical_approx(definite_integral(e^x*sin(x)/x,x,1,3))"
   ]
  },
  {
   "cell_type": "code",
   "execution_count": 48,
   "metadata": {
    "collapsed": false
   },
   "outputs": [
    {
     "name": "stdout",
     "output_type": "stream",
     "text": [
      "Standard Monte Carlo result: 14.410287319614746\n"
     ]
    }
   ],
   "source": [
    "import numpy\n",
    "N = 100_000\n",
    "accum = 0\n",
    "l =[]\n",
    "for i in range(N):\n",
    "    x = numpy.random.uniform(1, 5)\n",
    "    accum += x * log(x) + sin(x)**3 / (x + 1)\n",
    "volume = 5 - 1\n",
    "result[\"MC\"] = volume * accum / float(N)\n",
    "print(\"Standard Monte Carlo result: {}\".format(result[\"MC\"]))"
   ]
  },
  {
   "cell_type": "code",
   "execution_count": 53,
   "metadata": {
    "collapsed": false
   },
   "outputs": [
    {
     "name": "stdout",
     "output_type": "stream",
     "text": [
      "Analytical result: 9285.729058722549\n"
     ]
    }
   ],
   "source": [
    "import sympy\n",
    "\n",
    "x = sympy.Symbol(\"x\")\n",
    "y = sympy.Symbol(\"y\")\n",
    "z = sympy.Symbol(\"z\")\n",
    "expr =(sympy.sin(x)* sympy.exp(y**2) )/(z+1)\n",
    "res = sympy.integrate(expr,\n",
    "                      (x, 0, sympy.pi),\n",
    "                      (y, 0, sympy.pi),\n",
    "                      (z, 0, sympy.pi))\n",
    "# Note: we use float(res) to convert res from symbolic form to floating point form\n",
    "result = {} \n",
    "result[\"analytical\"] = float(res)\n",
    "print(\"Analytical result: {}\".format(result[\"analytical\"]))"
   ]
  },
  {
   "cell_type": "code",
   "execution_count": 55,
   "metadata": {
    "collapsed": false
   },
   "outputs": [
    {
     "data": {
      "text/plain": [
       "(x, y, z)"
      ]
     },
     "execution_count": 55,
     "metadata": {
     },
     "output_type": "execute_result"
    }
   ],
   "source": [
    "var('x y z')\n",
    "integral(integral(integral(sin(x)*e^())))"
   ]
  },
  {
   "cell_type": "code",
   "execution_count": 54,
   "metadata": {
    "collapsed": false
   },
   "outputs": [
    {
     "name": "stdout",
     "output_type": "stream",
     "text": [
      "Standard Monte Carlo result: 9324.40178451636\n"
     ]
    }
   ],
   "source": [
    "N = 10_000\n",
    "accum = 0\n",
    "for i in range(N):\n",
    "    xx = numpy.random.uniform(0, numpy.pi)\n",
    "    yy = numpy.random.uniform(0, numpy.pi)\n",
    "    zz = numpy.random.uniform(0, numpy.pi)\n",
    "    accum += (sympy.sin(xx)* sympy.exp(yy**2) )/(zz+1)\n",
    "volume = ( numpy.pi)**3\n",
    "result = {} \n",
    "result[\"MC\"] = volume * accum / float(N)\n",
    "print(\"Standard Monte Carlo result: {}\".format(result[\"MC\"]))"
   ]
  },
  {
   "cell_type": "code",
   "execution_count": 0,
   "metadata": {
    "collapsed": false
   },
   "outputs": [
   ],
   "source": [
   ]
  }
 ],
 "metadata": {
  "kernelspec": {
   "display_name": "SageMath 9.2",
   "language": "sagemath",
   "metadata": {
    "cocalc": {
     "description": "Open-source mathematical software system",
     "priority": 10,
     "url": "https://www.sagemath.org/"
    }
   },
   "name": "sage-9.2"
  },
  "language_info": {
   "codemirror_mode": {
    "name": "ipython",
    "version": 3
   },
   "file_extension": ".py",
   "mimetype": "text/x-python",
   "name": "python",
   "nbconvert_exporter": "python",
   "pygments_lexer": "ipython3",
   "version": "3.8.5"
  }
 },
 "nbformat": 4,
 "nbformat_minor": 4
}